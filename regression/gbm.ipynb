{
 "cells": [
  {
   "cell_type": "code",
   "execution_count": 16,
   "metadata": {},
   "outputs": [],
   "source": [
    "import numpy as np\n",
    "import pandas as pd\n",
    "import sklearn as sk\n",
    "from sklearn.decomposition import PCA\n",
    "from sklearn.preprocessing import StandardScaler, MinMaxScaler, RobustScaler\n",
    "import matplotlib.pyplot as plt\n",
    "import seaborn as sns\n",
    "from sklearn.ensemble import RandomForestRegressor, GradientBoostingRegressor\n",
    "from sklearn.metrics import accuracy_score, classification_report, confusion_matrix, mean_squared_error, r2_score\n",
    "\n"
   ]
  },
  {
   "cell_type": "markdown",
   "metadata": {},
   "source": [
    "## Random Forest"
   ]
  },
  {
   "cell_type": "markdown",
   "metadata": {},
   "source": [
    "Collecte et traitement des données"
   ]
  },
  {
   "cell_type": "code",
   "execution_count": 17,
   "metadata": {},
   "outputs": [],
   "source": [
    "# Collecte des données\n",
    "X = pd.read_csv(r\"X_train.csv\",index_col=0)\n",
    "Y = pd.read_csv(r\"Y_train.csv\",index_col=0)\n",
    "\n",
    "## Missing Data\n",
    "data =  pd.merge(X, Y, left_index=True, right_index=True)\n",
    "data = data.dropna(axis=1, thresh=len(data)*0.25)\n",
    "data = data.dropna()\n",
    "#data = data.ffill()\n",
    "X = data[[col for col in X.columns if col in data.columns]]\n",
    "Y = data[Y.columns]\n",
    "## Format\n",
    "Y=Y.spot_id_delta.to_numpy()\n",
    "X = pd.get_dummies(X)\n",
    "## Split\n",
    "X_train, X_test, y_train, y_test = sk.model_selection.train_test_split(X, Y, test_size=0.2, random_state=42)"
   ]
  },
  {
   "cell_type": "markdown",
   "metadata": {},
   "source": [
    "Creation et Validation du modèle"
   ]
  },
  {
   "cell_type": "code",
   "execution_count": 18,
   "metadata": {},
   "outputs": [
    {
     "name": "stdout",
     "output_type": "stream",
     "text": [
      "Scaler: StandardScaler\n",
      "Mean Squared Error: 548.270461372465\n",
      "R^2 Score: 0.34430872531907697\n",
      "Cross-Validation Scores (neg MSE): [-3091.38062289  -467.14810509  -454.0677629   -597.10026905\n",
      "  -693.74061228  -493.65953369  -632.09562987  -507.84349434\n",
      "  -741.57853089 -3866.29700959]\n",
      "Mean Cross-Validation Score (neg MSE): -1154.49115705863\n",
      "\n",
      "Scaler: MinMaxScaler\n",
      "Mean Squared Error: 548.270461372465\n",
      "R^2 Score: 0.34430872531907697\n",
      "Cross-Validation Scores (neg MSE): [-3091.38062289  -467.04147556  -454.0677629   -597.10026905\n",
      "  -693.74061228  -493.65953369  -632.09562987  -507.86889644\n",
      "  -741.57853089 -3866.29700959]\n",
      "Mean Cross-Validation Score (neg MSE): -1154.4830343154595\n",
      "\n",
      "Scaler: RobustScaler\n",
      "Mean Squared Error: 548.270461372465\n",
      "R^2 Score: 0.34430872531907697\n",
      "Cross-Validation Scores (neg MSE): [-3091.38062289  -467.14810509  -454.0677629   -597.10026905\n",
      "  -693.74061228  -493.65953369  -632.09562987  -507.84349434\n",
      "  -741.57853089 -3866.29700959]\n",
      "Mean Cross-Validation Score (neg MSE): -1154.49115705863\n",
      "\n"
     ]
    }
   ],
   "source": [
    "scalers = [StandardScaler(), MinMaxScaler(), RobustScaler()]\n",
    "\n",
    "for scaler in scalers:\n",
    "    # Appliquer le scaler\n",
    "    X_train_scaled = scaler.fit_transform(X_train)\n",
    "    X_test_scaled = scaler.transform(X_test)\n",
    "    \n",
    "    # Initialiser le modèle\n",
    "    model = GradientBoostingRegressor(random_state=42)\n",
    "    \n",
    "    # Entraîner le modèle de base\n",
    "    model.fit(X_train_scaled, y_train)\n",
    "    \n",
    "    # Évaluation du modèle\n",
    "    y_pred = model.predict(X_test_scaled)\n",
    "    mse = mean_squared_error(y_test, y_pred)\n",
    "    r2 = r2_score(y_test, y_pred)\n",
    "    \n",
    "    print(f\"Scaler: {scaler.__class__.__name__}\")\n",
    "    print(f\"Mean Squared Error: {mse}\")\n",
    "    print(f\"R^2 Score: {r2}\")\n",
    "    \n",
    "    # Validation croisée\n",
    "    cv_scores = sk.model_selection.cross_val_score(model, X_train_scaled, y_train, cv=10, scoring='neg_mean_squared_error')\n",
    "    print(f\"Cross-Validation Scores (neg MSE): {cv_scores}\")\n",
    "    print(f\"Mean Cross-Validation Score (neg MSE): {cv_scores.mean()}\\n\")\n"
   ]
  },
  {
   "cell_type": "markdown",
   "metadata": {},
   "source": [
    "Optimisation des paramètres"
   ]
  },
  {
   "cell_type": "code",
   "execution_count": 19,
   "metadata": {},
   "outputs": [
    {
     "name": "stdout",
     "output_type": "stream",
     "text": [
      "Fitting 3 folds for each of 162 candidates, totalling 486 fits\n"
     ]
    }
   ],
   "source": [
    "param_distributions = {\n",
    "    'n_estimators': [50, 100, 200],\n",
    "    'max_depth': [None, 10, 20],\n",
    "    'min_samples_split': [2, 5, 10],\n",
    "    'min_samples_leaf': [1, 2, 4],\n",
    "    'learning_rate': [0.3],\n",
    "    'subsample': np.random.uniform(0.5, 1 ,2)\n",
    "}\n",
    "\n",
    "# Utiliser RandomizedSearchCV pour une recherche plus large\n",
    "random_search = sk.model_selection.GridSearchCV(\n",
    "    estimator=GradientBoostingRegressor(random_state=42),\n",
    "    param_grid=param_distributions,\n",
    "    #n_iter=20,\n",
    "    cv=3,\n",
    "    n_jobs=-1,\n",
    "    verbose=2,\n",
    "    scoring='neg_mean_squared_error',\n",
    "    #random_state=42\n",
    ")\n",
    "\n",
    "random_search.fit(X_train_scaled, y_train)\n",
    "\n",
    "# Obtenir le meilleur modèle\n",
    "best_model = random_search.best_estimator_"
   ]
  },
  {
   "cell_type": "code",
   "execution_count": 20,
   "metadata": {},
   "outputs": [
    {
     "name": "stdout",
     "output_type": "stream",
     "text": [
      "Best Mean Squared Error: 405.44015152855957\n",
      "Best R^2 Score: 0.5151233041132446\n",
      "Best Cross-Validation Scores (neg MSE): [-10046.02595866  -3082.96237759  -2386.27707803  -1315.54942701\n",
      "   -628.39703919]\n",
      "Mean Best Cross-Validation Score (neg MSE): -3491.8423760968594\n"
     ]
    }
   ],
   "source": [
    "y_pred_best = best_model.predict(X_test_scaled)\n",
    "best_mse = mean_squared_error(y_test, y_pred_best)\n",
    "best_r2 = r2_score(y_test, y_pred_best)\n",
    "\n",
    "print(f\"Best Mean Squared Error: {best_mse}\")\n",
    "print(f\"Best R^2 Score: {best_r2}\")\n",
    "\n",
    "best_cv_scores = sk.model_selection.cross_val_score(best_model, X, Y, cv=5, scoring='neg_mean_squared_error')\n",
    "print(f\"Best Cross-Validation Scores (neg MSE): {best_cv_scores}\")\n",
    "print(f\"Mean Best Cross-Validation Score (neg MSE): {best_cv_scores.mean()}\")"
   ]
  },
  {
   "cell_type": "markdown",
   "metadata": {},
   "source": [
    "Testing Historic : GBM\n",
    "* Test 1 : <br>\n",
    "    * MSE: 502.90465800343037<br>\n",
    "    * R^2 :  0.5024022334708622<br>\n",
    "    * Cross-Validation Scores:  [-1581.82536208 -2903.98384436 -3354.44179264 -2584.99329781  -625.70739203]\n",
    "    * Mean Cross-Validation Score: -2210.190337783685<br>\n",
    "  \n",
    "* Test 2 : with data deletion <br>\n",
    "    Best Mean Squared Error: 405.44015152855957\n",
    "    Best R^2 Score: 0.5151233041132446\n",
    "    Best Cross-Validation Scores (neg MSE): [-10046.02595866  -3082.96237759  -2386.27707803  -1315.54942701\n",
    "   -628.39703919]\n",
    "    Mean Best Cross-Validation Score (neg MSE): -3491.8423760968594\n"
   ]
  },
  {
   "cell_type": "markdown",
   "metadata": {},
   "source": [
    "Le modèle est visiblement moins adapté"
   ]
  }
 ],
 "metadata": {
  "kernelspec": {
   "display_name": "Python 3",
   "language": "python",
   "name": "python3"
  },
  "language_info": {
   "codemirror_mode": {
    "name": "ipython",
    "version": 3
   },
   "file_extension": ".py",
   "mimetype": "text/x-python",
   "name": "python",
   "nbconvert_exporter": "python",
   "pygments_lexer": "ipython3",
   "version": "3.9.7"
  }
 },
 "nbformat": 4,
 "nbformat_minor": 2
}
