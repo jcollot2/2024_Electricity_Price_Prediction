{
 "cells": [
  {
   "cell_type": "code",
   "execution_count": 1,
   "metadata": {},
   "outputs": [],
   "source": [
    "import numpy as np\n",
    "import pandas as pd\n",
    "import sklearn as sk\n",
    "from sklearn.decomposition import PCA\n",
    "from sklearn.preprocessing import StandardScaler, MinMaxScaler, RobustScaler\n",
    "import matplotlib.pyplot as plt\n",
    "import seaborn as sns\n",
    "from sklearn.linear_model import LinearRegression, Ridge, Lasso\n",
    "from sklearn.metrics import accuracy_score, classification_report, confusion_matrix, mean_squared_error, r2_score\n",
    "import xgboost as xgb"
   ]
  },
  {
   "cell_type": "markdown",
   "metadata": {},
   "source": [
    "## Random Forest"
   ]
  },
  {
   "cell_type": "markdown",
   "metadata": {},
   "source": [
    "Collecte et traitement des données"
   ]
  },
  {
   "cell_type": "code",
   "execution_count": 2,
   "metadata": {},
   "outputs": [],
   "source": [
    "# Collecte des données\n",
    "X = pd.read_csv(r\"..\\X_train.csv\",index_col=0)\n",
    "Y = pd.read_csv(r\"..\\Y_train.csv\",index_col=0)\n",
    "\n",
    "## Missing Data\n",
    "data =  pd.merge(X, Y, left_index=True, right_index=True)\n",
    "data = data.dropna(axis=1, thresh=len(data)*0.25)\n",
    "data = data.dropna()\n",
    "#data = data.ffill()\n",
    "X = data[[col for col in X.columns if col in data.columns]]\n",
    "Y = data[Y.columns]\n",
    "## Format\n",
    "Y=Y.spot_id_delta.to_numpy()\n",
    "X = pd.get_dummies(X)\n",
    "## Split\n",
    "X_train, X_test, y_train, y_test = sk.model_selection.train_test_split(X, Y, test_size=0.2, random_state=42)"
   ]
  },
  {
   "cell_type": "markdown",
   "metadata": {},
   "source": [
    "Creation et Validation du modèle"
   ]
  },
  {
   "cell_type": "code",
   "execution_count": 3,
   "metadata": {},
   "outputs": [
    {
     "name": "stdout",
     "output_type": "stream",
     "text": [
      "Scaler: StandardScaler\n",
      "Mean Squared Error: 372.15231756291354\n",
      "R^2 Score: 0.5549331129978301\n",
      "Cross-Validation Scores (neg MSE): [-3352.81977728  -352.12689452  -364.66549483  -389.49640988\n",
      "  -459.01616027  -359.34499444  -394.7424122   -424.01814411\n",
      "  -651.24295005 -2194.61409455]\n",
      "Mean Cross-Validation Score (neg MSE): -894.2087332121158\n",
      "\n",
      "Scaler: MinMaxScaler\n",
      "Mean Squared Error: 372.15231756291354\n",
      "R^2 Score: 0.5549331129978301\n",
      "Cross-Validation Scores (neg MSE): [-3352.81977728  -352.12689452  -364.66549483  -389.49640988\n",
      "  -459.01616027  -359.34499444  -394.7424122   -424.01814411\n",
      "  -651.24295005 -2194.61409455]\n",
      "Mean Cross-Validation Score (neg MSE): -894.2087332121158\n",
      "\n",
      "Scaler: RobustScaler\n",
      "Mean Squared Error: 372.15231756291354\n",
      "R^2 Score: 0.5549331129978301\n",
      "Cross-Validation Scores (neg MSE): [-3352.81977728  -352.12689452  -364.66549483  -389.49640988\n",
      "  -459.01616027  -359.34499444  -394.7424122   -424.01814411\n",
      "  -651.24295005 -2194.61409455]\n",
      "Mean Cross-Validation Score (neg MSE): -894.2087332121158\n",
      "\n"
     ]
    }
   ],
   "source": [
    "scalers = [StandardScaler(), MinMaxScaler(), RobustScaler()]\n",
    "\n",
    "for scaler in scalers:\n",
    "    # Appliquer le scaler\n",
    "    X_train_scaled = scaler.fit_transform(X_train)\n",
    "    X_test_scaled = scaler.transform(X_test)\n",
    "    \n",
    "    # Initialiser le modèle\n",
    "    model = xgb.XGBRegressor(objective='reg:squarederror', random_state=42)\n",
    "\n",
    "    # Entraîner le modèle de base\n",
    "    model.fit(X_train_scaled, y_train)\n",
    "    \n",
    "    # Évaluation du modèle\n",
    "    y_pred = model.predict(X_test_scaled)\n",
    "    mse = mean_squared_error(y_test, y_pred)\n",
    "    r2 = r2_score(y_test, y_pred)\n",
    "    \n",
    "    print(f\"Scaler: {scaler.__class__.__name__}\")\n",
    "    print(f\"Mean Squared Error: {mse}\")\n",
    "    print(f\"R^2 Score: {r2}\")\n",
    "    \n",
    "    # Validation croisée\n",
    "    cv_scores = sk.model_selection.cross_val_score(model, X_train_scaled, y_train, cv=10, scoring='neg_mean_squared_error')\n",
    "    print(f\"Cross-Validation Scores (neg MSE): {cv_scores}\")\n",
    "    print(f\"Mean Cross-Validation Score (neg MSE): {cv_scores.mean()}\\n\")\n"
   ]
  },
  {
   "cell_type": "markdown",
   "metadata": {},
   "source": [
    "Optimisation des paramètres"
   ]
  },
  {
   "cell_type": "code",
   "execution_count": 10,
   "metadata": {},
   "outputs": [
    {
     "name": "stdout",
     "output_type": "stream",
     "text": [
      "Fitting 5 folds for each of 405 candidates, totalling 2025 fits\n"
     ]
    }
   ],
   "source": [
    "param_grid = {\n",
    "    'n_estimators': [50,100, 200],\n",
    "    'max_depth': [3, 4, 5, 6,10],\n",
    "    'learning_rate': [0.01, 0.05, 0.1],\n",
    "    'subsample': [0.6, 0.8, 1.0],\n",
    "    'colsample_bytree': [0.6, 0.8, 1.0]\n",
    "}\n",
    "# Recherche en grille avec validation croisée\n",
    "grid_search = sk.model_selection.GridSearchCV(estimator=model, param_grid=param_grid, cv=5, scoring='neg_mean_squared_error', n_jobs=-1, verbose=1)\n",
    "grid_search.fit(X_train, y_train)\n",
    "best_model = grid_search.best_estimator_\n"
   ]
  },
  {
   "cell_type": "code",
   "execution_count": 11,
   "metadata": {},
   "outputs": [
    {
     "name": "stdout",
     "output_type": "stream",
     "text": [
      "Best Mean Squared Error: 1812.7864474974865\n",
      "Best R^2 Score: -1.1679596845478057\n",
      "Best Cross-Validation Scores (neg MSE): [-1061.6675927  -2846.23514486 -2190.99988647  -895.48701446\n",
      "  -438.74521667]\n",
      "Mean Best Cross-Validation Score (neg MSE): -1486.6269710329818\n"
     ]
    }
   ],
   "source": [
    "y_pred_best = best_model.predict(X_test_scaled)\n",
    "best_mse = mean_squared_error(y_test, y_pred_best)\n",
    "best_r2 = r2_score(y_test, y_pred_best)\n",
    "\n",
    "print(f\"Best Mean Squared Error: {best_mse}\")\n",
    "print(f\"Best R^2 Score: {best_r2}\")\n",
    "\n",
    "best_cv_scores = sk.model_selection.cross_val_score(best_model, X, Y, cv=5, scoring='neg_mean_squared_error')\n",
    "print(f\"Best Cross-Validation Scores (neg MSE): {best_cv_scores}\")\n",
    "print(f\"Mean Best Cross-Validation Score (neg MSE): {best_cv_scores.mean()}\")"
   ]
  },
  {
   "cell_type": "markdown",
   "metadata": {},
   "source": []
  }
 ],
 "metadata": {
  "kernelspec": {
   "display_name": "Python 3",
   "language": "python",
   "name": "python3"
  },
  "language_info": {
   "codemirror_mode": {
    "name": "ipython",
    "version": 3
   },
   "file_extension": ".py",
   "mimetype": "text/x-python",
   "name": "python",
   "nbconvert_exporter": "python",
   "pygments_lexer": "ipython3",
   "version": "3.9.7"
  }
 },
 "nbformat": 4,
 "nbformat_minor": 2
}
