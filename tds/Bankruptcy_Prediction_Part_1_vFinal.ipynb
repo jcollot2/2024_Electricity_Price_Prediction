{
 "cells": [
  {
   "cell_type": "markdown",
   "metadata": {
    "tags": []
   },
   "source": [
    "# Gradient (AD), ML and Bankruptcy prediction"
   ]
  },
  {
   "cell_type": "markdown",
   "metadata": {
    "id": "hH4FXLQKs-bZ",
    "tags": []
   },
   "source": [
    "***Import packages and definition of useful functions***"
   ]
  },
  {
   "cell_type": "code",
   "execution_count": 1,
   "metadata": {
    "id": "NCWwp9lns-bb"
   },
   "outputs": [],
   "source": [
    "import math\n",
    "import numpy as np, pandas as pd\n",
    "import matplotlib.pyplot as plt"
   ]
  },
  {
   "cell_type": "markdown",
   "metadata": {
    "tags": []
   },
   "source": [
    "## 1. Definition of the Bankrupty prediction use case and data management"
   ]
  },
  {
   "cell_type": "markdown",
   "metadata": {},
   "source": [
    "**Altman\n",
    "'s Z-score**\n",
    "\n",
    "Altman (1968) came up with a simple formula known as Z-score, whose expression is:\n",
    "\\begin{equation*}\n",
    "    Z = 0.12 X_1 + 0.14 X_2 + 0.033 X_3 + 0.006 X_4 + 0.999 X_5\n",
    "\\end{equation*}\n",
    "where\n",
    "- $X_1$ is the working capital / total assets\n",
    "- $X_2$ is the retained earnings / total assets\n",
    "- $X_3$ is the earnings before interest and tax / total assets\n",
    "- $X_4$ is the market value of equity / total liabilities\n",
    "- $X_5$ is sale / total assets\n",
    "\n",
    "Based on the value of the score a firm is classified as bankrupt (low score) or healthy (high score)."
   ]
  },
  {
   "cell_type": "markdown",
   "metadata": {},
   "source": [
    "Bankruptcy refers to a situation where firm cannot repay its debts to its creditors.\n",
    "\n",
    "As bankruptcy is costly for company stakeholders (employees, supppliers, banks), being able to predict its likelihood is of critical importance.\n",
    "\n",
    "Particularly important nowadays with the rise of the so-called *zombie companies*."
   ]
  },
  {
   "cell_type": "markdown",
   "metadata": {
    "tags": []
   },
   "source": [
    "### 1.1 Import Data"
   ]
  },
  {
   "cell_type": "markdown",
   "metadata": {
    "id": "n7tEI--qs-bc",
    "tags": []
   },
   "source": [
    "We use [the Polish companies bankruptcy dataset](https://archive.ics.uci.edu/ml/datasets/Polish+companies+bankruptcy+data).\n",
    "\n",
    "5 datasets:\n",
    "- For companies in file ``1year``, the reported status is the one observed 5 years later.\n",
    "- For companies in file ``2year``, the reported status is the one observed 4 years later.\n",
    "- ...\n",
    "- For companies in file ``5year``, the reported status is the one observed 1 year later.\n",
    "    \n",
    "Potentially, we could use the 5 datasets and analyze:\n",
    "- whether a firm goes bankrupt or not after some time, irrespective of the number of years.\n",
    "- whether a firm goes bankrupt or not after 1, 2, ..., 5 years. This would be a multiclass classification exercice.\n",
    "    \n",
    "For simplicity, we will focus on a binary classification problem. Working with a single file will also make the computation faster."
   ]
  },
  {
   "cell_type": "markdown",
   "metadata": {
    "id": "viukmwhts-bc"
   },
   "source": [
    "**Features description of the ``2year``**, there is no header but 64 features (expressed in ratios or in local currency):\n",
    "\n",
    "- X1 net profit / total assets\n",
    "- X2 total liabilities / total assets\n",
    "- X3 working capital / total assets\n",
    "- X4 current assets / short-term liabilities\n",
    "- X5 [(cash + short-term securities + receivables - short-term liabilities) / (operating expenses - depreciation)] * 365\n",
    "- X6 retained earnings / total assets\n",
    "- X7 EBIT / total assets\n",
    "- X8 book value of equity / total liabilities\n",
    "- X9 sales / total assets\n",
    "- X10 equity / total assets\n",
    "- X11 (gross profit + extraordinary items + financial expenses) / total assets\n",
    "- X12 gross profit / short-term liabilities\n",
    "- X13 (gross profit + depreciation) / sales\n",
    "- X14 (gross profit + interest) / total assets\n",
    "- X15 (total liabilities * 365) / (gross profit + depreciation)\n",
    "- X16 (gross profit + depreciation) / total liabilities\n",
    "- X17 total assets / total liabilities\n",
    "- X18 gross profit / total assets\n",
    "- X19 gross profit / sales\n",
    "- X20 (inventory * 365) / sales\n",
    "- X21 sales (n) / sales (n-1)\n",
    "- X22 profit on operating activities / total assets\n",
    "- X23 net profit / sales\n",
    "- X24 gross profit (in 3 years) / total assets\n",
    "- X25 (equity - share capital) / total assets\n",
    "- X26 (net profit + depreciation) / total liabilities\n",
    "- X27 profit on operating activities / financial expenses\n",
    "- X28 working capital / fixed assets\n",
    "- X29 logarithm of total assets\n",
    "- X30 (total liabilities - cash) / sales\n",
    "- X31 (gross profit + interest) / sales\n",
    "- X32 (current liabilities * 365) / cost of products sold\n",
    "- X33 operating expenses / short-term liabilities\n",
    "- X34 operating expenses / total liabilities\n",
    "- X35 profit on sales / total assets\n",
    "- X36 total sales / total assets\n",
    "- X37 (current assets - inventories) / long-term liabilities\n",
    "- X38 constant capital / total assets\n",
    "- X39 profit on sales / sales\n",
    "- X40 (current assets - inventory - receivables) / short-term liabilities\n",
    "- X41 total liabilities / ((profit on operating activities + depreciation) * (12/365))\n",
    "- X42 profit on operating activities / sales\n",
    "- X43 rotation receivables + inventory turnover in days\n",
    "- X44 (receivables * 365) / sales\n",
    "- X45 net profit / inventory\n",
    "- X46 (current assets - inventory) / short-term liabilities\n",
    "- X47 (inventory * 365) / cost of products sold\n",
    "- X48 EBITDA (profit on operating activities - depreciation) / total assets\n",
    "- X49 EBITDA (profit on operating activities - depreciation) / sales\n",
    "- X50 current assets / total liabilities\n",
    "- X51 short-term liabilities / total assets\n",
    "- X52 (short-term liabilities * 365) / cost of products sold)\n",
    "- X53 equity / fixed assets\n",
    "- X54 constant capital / fixed assets\n",
    "- X55 working capital\n",
    "- X56 (sales - cost of products sold) / sales\n",
    "- X57 (current assets - inventory - short-term liabilities) / (sales - gross profit - depreciation)\n",
    "- X58 total costs /total sales\n",
    "- X59 long-term liabilities / equity\n",
    "- X60 sales / inventory\n",
    "- X61 sales / receivables\n",
    "- X62 (short-term liabilities *365) / sales\n",
    "- X63 sales / short-term liabilities\n",
    "- X64 sales / fixed assets\n",
    "\n",
    "Finally, the dataset reports for each instance, in the last column, a label taht take on the values 0 and 1:\n",
    "\n",
    "- Feature 65 : 0/1 = survived/went bankrupt in the next year\n",
    "\n",
    "**Our objective is to build a model taht identifies as accurately as possible the true label. This is a supervised learning taxt as the label of each company is reported in the datasets.**"
   ]
  },
  {
   "cell_type": "markdown",
   "metadata": {
    "id": "nl7zGpOqwU9i"
   },
   "source": [
    "**Task 1**: import data"
   ]
  },
  {
   "cell_type": "code",
   "execution_count": 2,
   "metadata": {
    "id": "fxQb61OPuxMw"
   },
   "outputs": [
    {
     "name": "stdout",
     "output_type": "stream",
     "text": [
      "(10173, 65)\n"
     ]
    },
    {
     "data": {
      "text/html": [
       "<div>\n",
       "<style scoped>\n",
       "    .dataframe tbody tr th:only-of-type {\n",
       "        vertical-align: middle;\n",
       "    }\n",
       "\n",
       "    .dataframe tbody tr th {\n",
       "        vertical-align: top;\n",
       "    }\n",
       "\n",
       "    .dataframe thead th {\n",
       "        text-align: right;\n",
       "    }\n",
       "</style>\n",
       "<table border=\"1\" class=\"dataframe\">\n",
       "  <thead>\n",
       "    <tr style=\"text-align: right;\">\n",
       "      <th></th>\n",
       "      <th>0</th>\n",
       "      <th>1</th>\n",
       "      <th>2</th>\n",
       "      <th>3</th>\n",
       "      <th>4</th>\n",
       "      <th>5</th>\n",
       "      <th>6</th>\n",
       "      <th>7</th>\n",
       "      <th>8</th>\n",
       "      <th>9</th>\n",
       "      <th>...</th>\n",
       "      <th>55</th>\n",
       "      <th>56</th>\n",
       "      <th>57</th>\n",
       "      <th>58</th>\n",
       "      <th>59</th>\n",
       "      <th>60</th>\n",
       "      <th>61</th>\n",
       "      <th>62</th>\n",
       "      <th>63</th>\n",
       "      <th>64</th>\n",
       "    </tr>\n",
       "  </thead>\n",
       "  <tbody>\n",
       "    <tr>\n",
       "      <th>0</th>\n",
       "      <td>0.202350</td>\n",
       "      <td>0.46500</td>\n",
       "      <td>0.240380</td>\n",
       "      <td>1.5171</td>\n",
       "      <td>-14.547</td>\n",
       "      <td>0.510690</td>\n",
       "      <td>0.25366</td>\n",
       "      <td>0.91816</td>\n",
       "      <td>1.15190</td>\n",
       "      <td>0.42695</td>\n",
       "      <td>...</td>\n",
       "      <td>0.13184</td>\n",
       "      <td>0.473950</td>\n",
       "      <td>0.86816</td>\n",
       "      <td>0.00024</td>\n",
       "      <td>8.5487</td>\n",
       "      <td>5.16550</td>\n",
       "      <td>107.740</td>\n",
       "      <td>3.38790</td>\n",
       "      <td>5.3440</td>\n",
       "      <td>0</td>\n",
       "    </tr>\n",
       "    <tr>\n",
       "      <th>1</th>\n",
       "      <td>0.030073</td>\n",
       "      <td>0.59563</td>\n",
       "      <td>0.186680</td>\n",
       "      <td>1.3382</td>\n",
       "      <td>-37.859</td>\n",
       "      <td>-0.000319</td>\n",
       "      <td>0.04167</td>\n",
       "      <td>0.67890</td>\n",
       "      <td>0.32356</td>\n",
       "      <td>0.40437</td>\n",
       "      <td>...</td>\n",
       "      <td>0.12146</td>\n",
       "      <td>0.074369</td>\n",
       "      <td>0.87235</td>\n",
       "      <td>0.00000</td>\n",
       "      <td>1.5264</td>\n",
       "      <td>0.63305</td>\n",
       "      <td>622.660</td>\n",
       "      <td>0.58619</td>\n",
       "      <td>1.2381</td>\n",
       "      <td>0</td>\n",
       "    </tr>\n",
       "    <tr>\n",
       "      <th>2</th>\n",
       "      <td>0.257860</td>\n",
       "      <td>0.29949</td>\n",
       "      <td>0.665190</td>\n",
       "      <td>3.2211</td>\n",
       "      <td>71.799</td>\n",
       "      <td>0.000000</td>\n",
       "      <td>0.31877</td>\n",
       "      <td>2.33200</td>\n",
       "      <td>1.67620</td>\n",
       "      <td>0.69841</td>\n",
       "      <td>...</td>\n",
       "      <td>0.16499</td>\n",
       "      <td>0.369210</td>\n",
       "      <td>0.81614</td>\n",
       "      <td>0.00000</td>\n",
       "      <td>4.3325</td>\n",
       "      <td>3.19850</td>\n",
       "      <td>65.215</td>\n",
       "      <td>5.59690</td>\n",
       "      <td>47.4660</td>\n",
       "      <td>0</td>\n",
       "    </tr>\n",
       "    <tr>\n",
       "      <th>3</th>\n",
       "      <td>0.227160</td>\n",
       "      <td>0.67850</td>\n",
       "      <td>0.042784</td>\n",
       "      <td>1.0828</td>\n",
       "      <td>-88.212</td>\n",
       "      <td>0.000000</td>\n",
       "      <td>0.28505</td>\n",
       "      <td>0.47384</td>\n",
       "      <td>1.32410</td>\n",
       "      <td>0.32150</td>\n",
       "      <td>...</td>\n",
       "      <td>0.29358</td>\n",
       "      <td>0.706570</td>\n",
       "      <td>0.78617</td>\n",
       "      <td>0.48456</td>\n",
       "      <td>5.2309</td>\n",
       "      <td>5.06750</td>\n",
       "      <td>142.460</td>\n",
       "      <td>2.56210</td>\n",
       "      <td>3.0066</td>\n",
       "      <td>0</td>\n",
       "    </tr>\n",
       "    <tr>\n",
       "      <th>4</th>\n",
       "      <td>0.085443</td>\n",
       "      <td>0.38039</td>\n",
       "      <td>0.359230</td>\n",
       "      <td>1.9444</td>\n",
       "      <td>21.731</td>\n",
       "      <td>0.187900</td>\n",
       "      <td>0.10823</td>\n",
       "      <td>1.37140</td>\n",
       "      <td>1.11260</td>\n",
       "      <td>0.52167</td>\n",
       "      <td>...</td>\n",
       "      <td>0.10124</td>\n",
       "      <td>0.163790</td>\n",
       "      <td>0.89876</td>\n",
       "      <td>0.00000</td>\n",
       "      <td>5.7035</td>\n",
       "      <td>4.00200</td>\n",
       "      <td>89.058</td>\n",
       "      <td>4.09840</td>\n",
       "      <td>5.9874</td>\n",
       "      <td>0</td>\n",
       "    </tr>\n",
       "  </tbody>\n",
       "</table>\n",
       "<p>5 rows × 65 columns</p>\n",
       "</div>"
      ],
      "text/plain": [
       "         0        1         2       3       4         5        6        7   \\\n",
       "0  0.202350  0.46500  0.240380  1.5171 -14.547  0.510690  0.25366  0.91816   \n",
       "1  0.030073  0.59563  0.186680  1.3382 -37.859 -0.000319  0.04167  0.67890   \n",
       "2  0.257860  0.29949  0.665190  3.2211  71.799  0.000000  0.31877  2.33200   \n",
       "3  0.227160  0.67850  0.042784  1.0828 -88.212  0.000000  0.28505  0.47384   \n",
       "4  0.085443  0.38039  0.359230  1.9444  21.731  0.187900  0.10823  1.37140   \n",
       "\n",
       "        8        9   ...       55        56       57       58      59  \\\n",
       "0  1.15190  0.42695  ...  0.13184  0.473950  0.86816  0.00024  8.5487   \n",
       "1  0.32356  0.40437  ...  0.12146  0.074369  0.87235  0.00000  1.5264   \n",
       "2  1.67620  0.69841  ...  0.16499  0.369210  0.81614  0.00000  4.3325   \n",
       "3  1.32410  0.32150  ...  0.29358  0.706570  0.78617  0.48456  5.2309   \n",
       "4  1.11260  0.52167  ...  0.10124  0.163790  0.89876  0.00000  5.7035   \n",
       "\n",
       "        60       61       62       63  64  \n",
       "0  5.16550  107.740  3.38790   5.3440   0  \n",
       "1  0.63305  622.660  0.58619   1.2381   0  \n",
       "2  3.19850   65.215  5.59690  47.4660   0  \n",
       "3  5.06750  142.460  2.56210   3.0066   0  \n",
       "4  4.00200   89.058  4.09840   5.9874   0  \n",
       "\n",
       "[5 rows x 65 columns]"
      ]
     },
     "execution_count": 2,
     "metadata": {},
     "output_type": "execute_result"
    }
   ],
   "source": [
    "df = pd.read_csv(\"year2.txt\", header=None, na_values=[\"?\"])\n",
    "print(df.shape)\n",
    "df.head()"
   ]
  },
  {
   "cell_type": "markdown",
   "metadata": {
    "id": "I0pZYygjs-be",
    "tags": []
   },
   "source": [
    "### 1.2 Missing data\n",
    "\n",
    "Missing values are reported using ? character."
   ]
  },
  {
   "cell_type": "markdown",
   "metadata": {
    "id": "Nw9-7o08s-be"
   },
   "source": [
    "**Task 2**: Generate a barplot that displays for each feature the number of missing values"
   ]
  },
  {
   "cell_type": "code",
   "execution_count": 3,
   "metadata": {
    "id": "0KAzhIjVs-bf",
    "scrolled": true
   },
   "outputs": [
    {
     "data": {
      "text/plain": [
       "<AxesSubplot:>"
      ]
     },
     "execution_count": 3,
     "metadata": {},
     "output_type": "execute_result"
    },
    {
     "data": {
      "image/png": "[encoded data removed]",
      "text/plain": [
       "<Figure size 1600x400 with 1 Axes>"
      ]
     },
     "metadata": {},
     "output_type": "display_data"
    }
   ],
   "source": [
    "# insert your code here\n",
    "plt.figure(figsize=(16,4))\n",
    "(len(df.index)-df.count()).plot.bar()"
   ]
  },
  {
   "cell_type": "markdown",
   "metadata": {},
   "source": [
    "A possible solution to handle missing values is to inpute a replacement value (e.g. mean or median of the feature)\n",
    "\n",
    "Here, we use a simpler solution: we remove all features that contains more than 50 missing values. Once this is done, we remove all instance that still contains missing values."
   ]
  },
  {
   "cell_type": "markdown",
   "metadata": {
    "id": "8BHpszucs-bf"
   },
   "source": [
    "**Task 3**:\n",
    "- Step 1: Remove from the dataset all features that contain more than 50 missing values\n",
    "- Step 2: Remove all missing values from the dataset"
   ]
  },
  {
   "cell_type": "code",
   "execution_count": 4,
   "metadata": {
    "id": "5GnW-4_ns-bf",
    "scrolled": true
   },
   "outputs": [
    {
     "name": "stdout",
     "output_type": "stream",
     "text": [
      "(10088, 38)\n"
     ]
    }
   ],
   "source": [
    "# insert your code here\n",
    "df = df.drop(df.columns[df.apply(lambda col: col.isnull().sum() > 50)], axis=1)\n",
    "df.dropna(inplace=True)\n",
    "print(df.shape)"
   ]
  },
  {
   "cell_type": "markdown",
   "metadata": {
    "tags": []
   },
   "source": [
    "### 1.3 Training set and test set"
   ]
  },
  {
   "cell_type": "markdown",
   "metadata": {
    "id": "oLlxgI2Ss-bg",
    "tags": []
   },
   "source": [
    "Training a ML model amounts to finding the model parameter values that allow to generate the predictions that best match the actual mabels\n",
    "\n",
    "if the model is trained using the whole dataset, we will get the optimal parameter values for the dataste, which will allow us to achieve the best in-sample predictions.\n",
    "\n",
    "Yetn there is no guarantee on how general the model is and how it will perform out-of-sample, that is on a new mdataste, using data the model has never seen before.\n",
    "\n",
    "For that reason, in every ML project, the original dataset is always split into 2 sets (at least):\n",
    "\n",
    "- A train set: the dataset on which training is performed and models are fine-tuned\n",
    "- A test set: the dataset containing unseen data, which is used to assess the performance of the final model"
   ]
  },
  {
   "cell_type": "markdown",
   "metadata": {
    "id": "4a1Ob426s-bf",
    "tags": []
   },
   "source": [
    "### 1.4 Differences in feature value magnitudes"
   ]
  },
  {
   "cell_type": "markdown",
   "metadata": {
    "id": "oLlxgI2Ss-bg",
    "tags": []
   },
   "source": [
    "ML algorithms do not perform weel in general when features greatly differ in magnitude or are expressed using different scales (here ratios and currency units)\n",
    "\n",
    "Two standard procedure allow to transform feature so that they get all expressed in the same scale:\n",
    "- Min-max scaling or normalization\n",
    "- Standardization"
   ]
  },
  {
   "cell_type": "code",
   "execution_count": 5,
   "metadata": {
    "colab": {
     "base_uri": "https://localhost:8080/",
     "height": 311
    },
    "id": "A7N_VkBJs-bg",
    "outputId": "86215be4-a3a4-43db-80f4-fffc5b10ca33"
   },
   "outputs": [
    {
     "data": {
      "text/html": [
       "<div>\n",
       "<style scoped>\n",
       "    .dataframe tbody tr th:only-of-type {\n",
       "        vertical-align: middle;\n",
       "    }\n",
       "\n",
       "    .dataframe tbody tr th {\n",
       "        vertical-align: top;\n",
       "    }\n",
       "\n",
       "    .dataframe thead th {\n",
       "        text-align: right;\n",
       "    }\n",
       "</style>\n",
       "<table border=\"1\" class=\"dataframe\">\n",
       "  <thead>\n",
       "    <tr style=\"text-align: right;\">\n",
       "      <th></th>\n",
       "      <th>0</th>\n",
       "      <th>1</th>\n",
       "      <th>2</th>\n",
       "      <th>3</th>\n",
       "      <th>4</th>\n",
       "      <th>5</th>\n",
       "      <th>6</th>\n",
       "      <th>7</th>\n",
       "      <th>8</th>\n",
       "      <th>9</th>\n",
       "      <th>...</th>\n",
       "      <th>47</th>\n",
       "      <th>49</th>\n",
       "      <th>50</th>\n",
       "      <th>54</th>\n",
       "      <th>56</th>\n",
       "      <th>57</th>\n",
       "      <th>58</th>\n",
       "      <th>60</th>\n",
       "      <th>62</th>\n",
       "      <th>64</th>\n",
       "    </tr>\n",
       "  </thead>\n",
       "  <tbody>\n",
       "    <tr>\n",
       "      <th>count</th>\n",
       "      <td>10088.000000</td>\n",
       "      <td>10088.000000</td>\n",
       "      <td>10088.000000</td>\n",
       "      <td>10088.000000</td>\n",
       "      <td>10088.000000</td>\n",
       "      <td>10088.000000</td>\n",
       "      <td>10088.000000</td>\n",
       "      <td>10088.000000</td>\n",
       "      <td>10088.000000</td>\n",
       "      <td>10088.000000</td>\n",
       "      <td>...</td>\n",
       "      <td>10088.000000</td>\n",
       "      <td>10088.000000</td>\n",
       "      <td>10088.000000</td>\n",
       "      <td>1.008800e+04</td>\n",
       "      <td>10088.000000</td>\n",
       "      <td>10088.000000</td>\n",
       "      <td>10088.000000</td>\n",
       "      <td>10088.000000</td>\n",
       "      <td>10088.000000</td>\n",
       "      <td>10088.000000</td>\n",
       "    </tr>\n",
       "    <tr>\n",
       "      <th>mean</th>\n",
       "      <td>0.056863</td>\n",
       "      <td>0.633485</td>\n",
       "      <td>0.080845</td>\n",
       "      <td>3.455431</td>\n",
       "      <td>-120.644258</td>\n",
       "      <td>-0.103082</td>\n",
       "      <td>0.136543</td>\n",
       "      <td>3.816087</td>\n",
       "      <td>2.849920</td>\n",
       "      <td>0.349746</td>\n",
       "      <td>...</td>\n",
       "      <td>0.082498</td>\n",
       "      <td>2.772320</td>\n",
       "      <td>0.516627</td>\n",
       "      <td>5.970039e+03</td>\n",
       "      <td>-0.039787</td>\n",
       "      <td>12.565388</td>\n",
       "      <td>3.056922</td>\n",
       "      <td>16.875062</td>\n",
       "      <td>11.188472</td>\n",
       "      <td>0.039155</td>\n",
       "    </tr>\n",
       "    <tr>\n",
       "      <th>std</th>\n",
       "      <td>0.679260</td>\n",
       "      <td>6.546280</td>\n",
       "      <td>6.540730</td>\n",
       "      <td>15.705346</td>\n",
       "      <td>6879.776696</td>\n",
       "      <td>6.561223</td>\n",
       "      <td>6.499309</td>\n",
       "      <td>29.361301</td>\n",
       "      <td>97.032686</td>\n",
       "      <td>6.545727</td>\n",
       "      <td>...</td>\n",
       "      <td>6.222518</td>\n",
       "      <td>13.564894</td>\n",
       "      <td>6.545366</td>\n",
       "      <td>6.571290e+04</td>\n",
       "      <td>12.293023</td>\n",
       "      <td>634.211780</td>\n",
       "      <td>239.163399</td>\n",
       "      <td>296.688387</td>\n",
       "      <td>234.530106</td>\n",
       "      <td>0.193974</td>\n",
       "    </tr>\n",
       "    <tr>\n",
       "      <th>min</th>\n",
       "      <td>-61.628000</td>\n",
       "      <td>0.000626</td>\n",
       "      <td>-479.960000</td>\n",
       "      <td>0.002079</td>\n",
       "      <td>-438250.000000</td>\n",
       "      <td>-508.410000</td>\n",
       "      <td>-61.628000</td>\n",
       "      <td>-1.594500</td>\n",
       "      <td>-0.000857</td>\n",
       "      <td>-479.910000</td>\n",
       "      <td>...</td>\n",
       "      <td>-9.679200</td>\n",
       "      <td>0.002079</td>\n",
       "      <td>0.000516</td>\n",
       "      <td>-1.805200e+06</td>\n",
       "      <td>-979.250000</td>\n",
       "      <td>-4.549700</td>\n",
       "      <td>-189.580000</td>\n",
       "      <td>-0.007521</td>\n",
       "      <td>-0.367890</td>\n",
       "      <td>0.000000</td>\n",
       "    </tr>\n",
       "    <tr>\n",
       "      <th>25%</th>\n",
       "      <td>0.000646</td>\n",
       "      <td>0.279883</td>\n",
       "      <td>0.011708</td>\n",
       "      <td>1.028650</td>\n",
       "      <td>-50.043250</td>\n",
       "      <td>0.000000</td>\n",
       "      <td>0.002411</td>\n",
       "      <td>0.393083</td>\n",
       "      <td>1.028000</td>\n",
       "      <td>0.276637</td>\n",
       "      <td>...</td>\n",
       "      <td>-0.039410</td>\n",
       "      <td>0.751385</td>\n",
       "      <td>0.196350</td>\n",
       "      <td>5.024375e+00</td>\n",
       "      <td>0.010760</td>\n",
       "      <td>0.872880</td>\n",
       "      <td>0.000000</td>\n",
       "      <td>4.724150</td>\n",
       "      <td>3.120300</td>\n",
       "      <td>0.000000</td>\n",
       "    </tr>\n",
       "    <tr>\n",
       "      <th>50%</th>\n",
       "      <td>0.050127</td>\n",
       "      <td>0.489650</td>\n",
       "      <td>0.188745</td>\n",
       "      <td>1.521550</td>\n",
       "      <td>-2.091050</td>\n",
       "      <td>0.000000</td>\n",
       "      <td>0.060594</td>\n",
       "      <td>0.999350</td>\n",
       "      <td>1.290600</td>\n",
       "      <td>0.489460</td>\n",
       "      <td>...</td>\n",
       "      <td>0.023420</td>\n",
       "      <td>1.189850</td>\n",
       "      <td>0.353430</td>\n",
       "      <td>8.389200e+02</td>\n",
       "      <td>0.127470</td>\n",
       "      <td>0.950005</td>\n",
       "      <td>0.005363</td>\n",
       "      <td>7.013950</td>\n",
       "      <td>5.218200</td>\n",
       "      <td>0.000000</td>\n",
       "    </tr>\n",
       "    <tr>\n",
       "      <th>75%</th>\n",
       "      <td>0.141700</td>\n",
       "      <td>0.705630</td>\n",
       "      <td>0.398108</td>\n",
       "      <td>2.727050</td>\n",
       "      <td>50.972750</td>\n",
       "      <td>0.075571</td>\n",
       "      <td>0.166465</td>\n",
       "      <td>2.506250</td>\n",
       "      <td>2.263450</td>\n",
       "      <td>0.700402</td>\n",
       "      <td>...</td>\n",
       "      <td>0.123122</td>\n",
       "      <td>2.146875</td>\n",
       "      <td>0.550398</td>\n",
       "      <td>4.025350e+03</td>\n",
       "      <td>0.310262</td>\n",
       "      <td>0.993390</td>\n",
       "      <td>0.250970</td>\n",
       "      <td>11.108750</td>\n",
       "      <td>9.023075</td>\n",
       "      <td>0.000000</td>\n",
       "    </tr>\n",
       "    <tr>\n",
       "      <th>max</th>\n",
       "      <td>7.372700</td>\n",
       "      <td>480.960000</td>\n",
       "      <td>0.996880</td>\n",
       "      <td>782.250000</td>\n",
       "      <td>70686.000000</td>\n",
       "      <td>14.756000</td>\n",
       "      <td>649.230000</td>\n",
       "      <td>1597.400000</td>\n",
       "      <td>9742.300000</td>\n",
       "      <td>0.999370</td>\n",
       "      <td>...</td>\n",
       "      <td>623.850000</td>\n",
       "      <td>544.560000</td>\n",
       "      <td>480.960000</td>\n",
       "      <td>3.657400e+06</td>\n",
       "      <td>147.190000</td>\n",
       "      <td>59672.000000</td>\n",
       "      <td>23853.000000</td>\n",
       "      <td>26862.000000</td>\n",
       "      <td>23454.000000</td>\n",
       "      <td>1.000000</td>\n",
       "    </tr>\n",
       "  </tbody>\n",
       "</table>\n",
       "<p>8 rows × 38 columns</p>\n",
       "</div>"
      ],
      "text/plain": [
       "                 0             1             2             3              4   \\\n",
       "count  10088.000000  10088.000000  10088.000000  10088.000000   10088.000000   \n",
       "mean       0.056863      0.633485      0.080845      3.455431    -120.644258   \n",
       "std        0.679260      6.546280      6.540730     15.705346    6879.776696   \n",
       "min      -61.628000      0.000626   -479.960000      0.002079 -438250.000000   \n",
       "25%        0.000646      0.279883      0.011708      1.028650     -50.043250   \n",
       "50%        0.050127      0.489650      0.188745      1.521550      -2.091050   \n",
       "75%        0.141700      0.705630      0.398108      2.727050      50.972750   \n",
       "max        7.372700    480.960000      0.996880    782.250000   70686.000000   \n",
       "\n",
       "                 5             6             7             8             9   \\\n",
       "count  10088.000000  10088.000000  10088.000000  10088.000000  10088.000000   \n",
       "mean      -0.103082      0.136543      3.816087      2.849920      0.349746   \n",
       "std        6.561223      6.499309     29.361301     97.032686      6.545727   \n",
       "min     -508.410000    -61.628000     -1.594500     -0.000857   -479.910000   \n",
       "25%        0.000000      0.002411      0.393083      1.028000      0.276637   \n",
       "50%        0.000000      0.060594      0.999350      1.290600      0.489460   \n",
       "75%        0.075571      0.166465      2.506250      2.263450      0.700402   \n",
       "max       14.756000    649.230000   1597.400000   9742.300000      0.999370   \n",
       "\n",
       "       ...            47            49            50            54  \\\n",
       "count  ...  10088.000000  10088.000000  10088.000000  1.008800e+04   \n",
       "mean   ...      0.082498      2.772320      0.516627  5.970039e+03   \n",
       "std    ...      6.222518     13.564894      6.545366  6.571290e+04   \n",
       "min    ...     -9.679200      0.002079      0.000516 -1.805200e+06   \n",
       "25%    ...     -0.039410      0.751385      0.196350  5.024375e+00   \n",
       "50%    ...      0.023420      1.189850      0.353430  8.389200e+02   \n",
       "75%    ...      0.123122      2.146875      0.550398  4.025350e+03   \n",
       "max    ...    623.850000    544.560000    480.960000  3.657400e+06   \n",
       "\n",
       "                 56            57            58            60            62  \\\n",
       "count  10088.000000  10088.000000  10088.000000  10088.000000  10088.000000   \n",
       "mean      -0.039787     12.565388      3.056922     16.875062     11.188472   \n",
       "std       12.293023    634.211780    239.163399    296.688387    234.530106   \n",
       "min     -979.250000     -4.549700   -189.580000     -0.007521     -0.367890   \n",
       "25%        0.010760      0.872880      0.000000      4.724150      3.120300   \n",
       "50%        0.127470      0.950005      0.005363      7.013950      5.218200   \n",
       "75%        0.310262      0.993390      0.250970     11.108750      9.023075   \n",
       "max      147.190000  59672.000000  23853.000000  26862.000000  23454.000000   \n",
       "\n",
       "                 64  \n",
       "count  10088.000000  \n",
       "mean       0.039155  \n",
       "std        0.193974  \n",
       "min        0.000000  \n",
       "25%        0.000000  \n",
       "50%        0.000000  \n",
       "75%        0.000000  \n",
       "max        1.000000  \n",
       "\n",
       "[8 rows x 38 columns]"
      ]
     },
     "execution_count": 5,
     "metadata": {},
     "output_type": "execute_result"
    }
   ],
   "source": [
    "df.describe()"
   ]
  },
  {
   "cell_type": "markdown",
   "metadata": {},
   "source": [
    "When scaling is performed, the scaling parameters must be computed using the train set only to avoid any look-ahead bias.\n",
    "\n",
    "Scaling is thus performed in three steps:\n",
    "\n",
    "    - Step 1: compute the min and max of each feature in the train set\n",
    "    - Step 2: perform feature scaling on the train set\n",
    "    - Step 3: perform feature scaling on the test set using values found at step 1\n",
    "    \n",
    "Note that scaling is applied to features only, not labels."
   ]
  },
  {
   "cell_type": "code",
   "execution_count": 6,
   "metadata": {
    "id": "D0tFvmhgs-bg"
   },
   "outputs": [],
   "source": [
    "def normalize(*arg): # df [,min_vals,max_vals]\n",
    "    \"\"\" Normalizes the features of a dataframe\n",
    "    Up to 3 arguments\n",
    "    - 1st argument (mandatory) = df: name of dataframe to normalize\n",
    "    - 2nd argument (optional): min_vals = list of min value of each feature\n",
    "    - 3rd argument (optional): max_vals = list of max value of each feature\n",
    "    If df only is passed, the function normalizes X_ij, i.e. ith value of feature j as:\n",
    "                               (X_ij - min_j)/(max_j - min_j)                           (1)\n",
    "    and returns the min_j and max_j lists\n",
    "    If df, min_vals and max_vals are passed, df is normalized as per (1) using these values\n",
    "    \"\"\"\n",
    "    df = arg[0]\n",
    "    result = df.copy()\n",
    "    if len(arg)==1:\n",
    "        minval, maxval = [], []\n",
    "        for feature_name in df.columns:\n",
    "            min_value = df[feature_name].min()\n",
    "            max_value = df[feature_name].max()\n",
    "            result[feature_name] = (df[feature_name] - min_value) / (max_value - min_value)\n",
    "            minval.append(min_value)\n",
    "            maxval.append(max_value)\n",
    "        return result, minval, maxval\n",
    "    else:\n",
    "        minvals = arg[1]\n",
    "        maxvals = arg[2]\n",
    "        for i in range(df.shape[1]):\n",
    "            result.iloc[:,i] = (df.iloc[:,i] - minvals[i]) / (maxvals[i] - minvals[i])\n",
    "        return result"
   ]
  },
  {
   "cell_type": "markdown",
   "metadata": {
    "id": "oLlxgI2Ss-bg",
    "tags": []
   },
   "source": [
    "###  1.5 Balancing the dataset"
   ]
  },
  {
   "cell_type": "markdown",
   "metadata": {
    "id": "oLlxgI2Ss-bg",
    "tags": []
   },
   "source": [
    "The issue (for ML) is that the number of surviving firms is 24 times as large as the number of dead firms: the dataset is unbalanced\n",
    "\n",
    "If we train a ML model on an unbalanced dataset the resulting parameters will be biased towards predicting the majority class\n",
    "\n",
    "In the extreme case where a naive model returns the prediction 0 for all instances, the predictions will be correct 96\\% of the time. Yet, its out-of-sample ability to identify future bankrupt firms will be very small.\n",
    "\n",
    "To make a model identifying the features that are useful at predicting bankruptcy, trainig must be performed on a balanced dataste\n",
    "\n",
    "We will build a train daatset that has the same proportion of future surviving and bankrupt firms\n",
    "\n",
    "Dataset balancing can be performed in two ways:\n",
    "- Undersampling: randomly remove surviving firms on order to get the same 50\\% proportion of survivig and bankrupt firms\n",
    "- Oversampling:\n",
    "    - Naive: randomly duplicate examples in the minority class\n",
    "    - SMOTE: Synthetic Minority Oversampling TEchnique. Generate artificial examples based on k-nearest neighbours from instances in the minority class.\n",
    "\n",
    "It is possible to combine under- and over- sampling.\n",
    "\n",
    "We will build a train set that contains 75\\% of the dead firms from the original dataset and the same number of surviving firms. Both the dead firms and the surviving firms will be randomly chosen."
   ]
  },
  {
   "cell_type": "markdown",
   "metadata": {
    "id": "i3thS-Vgx0Zf"
   },
   "source": [
    "**Task 4-1**: Plot a histogram that reports the number of surviving firms (label=0) and dead firms (label=1) in the **dataset**"
   ]
  },
  {
   "cell_type": "code",
   "execution_count": 7,
   "metadata": {
    "id": "SVj9dMCBs-bh"
   },
   "outputs": [
    {
     "data": {
      "text/plain": [
       "(array([9693.,    0.,    0.,    0.,    0.,    0.,    0.,    0.,    0.,\n",
       "         395.]),\n",
       " array([0. , 0.1, 0.2, 0.3, 0.4, 0.5, 0.6, 0.7, 0.8, 0.9, 1. ]),\n",
       " <BarContainer object of 10 artists>)"
      ]
     },
     "execution_count": 7,
     "metadata": {},
     "output_type": "execute_result"
    },
    {
     "data": {
      "image/png": "[encoded data removed]",
      "text/plain": [
       "<Figure size 640x480 with 1 Axes>"
      ]
     },
     "metadata": {},
     "output_type": "display_data"
    }
   ],
   "source": [
    "# insert your code here\n",
    "plt.hist(df.iloc[:,-1])"
   ]
  },
  {
   "cell_type": "markdown",
   "metadata": {
    "id": "zPVfnnREzgf5"
   },
   "source": [
    "**Task 4-2**:\n",
    "- Generate a dataframe named `surv` that contains surviving firms, and a dataframe named `dead` that contains dead firms\n",
    "- Store in variables `l_surv`and `l_dead`the number of surviving firms and dead firms, respectively"
   ]
  },
  {
   "cell_type": "code",
   "execution_count": 8,
   "metadata": {
    "id": "NimW7NLhs-bh"
   },
   "outputs": [
    {
     "name": "stdout",
     "output_type": "stream",
     "text": [
      "9693 395\n"
     ]
    }
   ],
   "source": [
    "# insert your code here\n",
    "surv, dead = df[df.iloc[:, -1]==0], df[df.iloc[:, -1]==1]\n",
    "l_surv, l_dead = len(surv), len(dead)\n",
    "print(l_surv, l_dead)"
   ]
  },
  {
   "cell_type": "markdown",
   "metadata": {
    "id": "75ZUHjNi0aPy"
   },
   "source": [
    "**Task 5**:\n",
    "- Using the `sample` function, create a `dead_train` dataframe that contains 75% of the dead firms, where those firms are ramdomly selected\n",
    "- Create a `surv_train` dataframe that contains as many randomly selected surviving firms as the number of randomly selected dead firms\n",
    "- Combine vertically the `dead_train` and the `surv_train` dataframes into a single dataframe names `Train`"
   ]
  },
  {
   "cell_type": "code",
   "execution_count": 9,
   "metadata": {
    "id": "KlsLFIfzs-bh"
   },
   "outputs": [],
   "source": [
    "np.random.seed(42) # for reproductibility of results\n",
    "\n",
    "# insert your code here\n",
    "dead_train = dead.sample(int(l_dead*.75))\n",
    "surv_train = surv.sample(int(l_dead*.75))\n",
    "\n",
    "Train = pd.concat([dead_train, surv_train], axis=0)"
   ]
  },
  {
   "cell_type": "code",
   "execution_count": 10,
   "metadata": {
    "scrolled": true
   },
   "outputs": [
    {
     "name": "stdout",
     "output_type": "stream",
     "text": [
      "296 296\n"
     ]
    }
   ],
   "source": [
    "l_surv_train, l_dead_train = len(surv_train), len(dead_train)\n",
    "print(l_surv_train, l_dead_train)"
   ]
  },
  {
   "cell_type": "code",
   "execution_count": 11,
   "metadata": {},
   "outputs": [
    {
     "data": {
      "text/plain": [
       "592"
      ]
     },
     "execution_count": 11,
     "metadata": {},
     "output_type": "execute_result"
    }
   ],
   "source": [
    "len(Train)"
   ]
  },
  {
   "cell_type": "markdown",
   "metadata": {
    "id": "f1K-8jX1s-bh"
   },
   "source": [
    "All firms not selected in the Train dataframe must now be put in the Test dataframe.\n",
    "\n",
    "**Task 6**: \n",
    "- Create a `dead_remain` dataframe with all instances of dead firms **<u>not</u>** in the `dead_train` dataframe\n",
    "- Create a `surv_remain` dataframe with all instances of surviving firms **<u>not</u>** in the `surv_train` dataframe\n",
    "- Combine vertically the `dead_remain` and the `surv_remain` dataframes into a single dataframe named `Test`\n"
   ]
  },
  {
   "cell_type": "code",
   "execution_count": 12,
   "metadata": {
    "id": "-If3Fnp1s-bi"
   },
   "outputs": [],
   "source": [
    "# insert your code here\n",
    "dead_remain = dead[~dead.isin(dead_train)].dropna() # observations in dead_train are reported as NaN\n",
    "surv_remain = surv[~surv.isin(surv_train)].dropna()\n",
    "\n",
    "Test = pd.concat([dead_remain, surv_remain], axis=0)"
   ]
  },
  {
   "cell_type": "code",
   "execution_count": 13,
   "metadata": {},
   "outputs": [
    {
     "name": "stdout",
     "output_type": "stream",
     "text": [
      "9397 99\n"
     ]
    }
   ],
   "source": [
    "l_surv_remain, l_dead_remain = len(surv_remain), len(dead_remain)\n",
    "print(l_surv_remain, l_dead_remain)"
   ]
  },
  {
   "cell_type": "markdown",
   "metadata": {
    "id": "oJ1WbTsOs-bi"
   },
   "source": [
    "The next step is to separate the labels from the features\n",
    "\n",
    "**Task 7**: \n",
    "- Create the `Ytrain` and `Ytest` dataframes with the <u>labels</u> from the `Train` and the `Test` dataframes, respectively\n",
    "- Create the `Xtrain` and `Xtest` dataframes with the <u>features</u> from the `Train` and the `Test` dataframes, respectively\n"
   ]
  },
  {
   "cell_type": "code",
   "execution_count": 14,
   "metadata": {
    "id": "Xmu8m-RRs-bi"
   },
   "outputs": [],
   "source": [
    "# Extract labels\n",
    "# insert your code here\n",
    "Ytrain = Train.iloc[:,-1]\n",
    "Ytest = Test.iloc[:,-1]\n",
    "\n",
    "# Extract features\n",
    "# insert your code here\n",
    "Xtrain = Train.iloc[:,:-1] \n",
    "Xtest = Test.iloc[:,:-1]"
   ]
  },
  {
   "cell_type": "markdown",
   "metadata": {
    "id": "eBrd_LV4s-bi"
   },
   "source": [
    "Finally, we can normalize both the train and the test sets.\n",
    "\n",
    "**Task 8**:\n",
    "- Create the `Xtrain_norm` dataframe by applying feature scaling to the `Xtrain` dataframe\n",
    "- Create the `Xtest_norm` dataframe by applying feature scaling to the `Xtest` dataframe"
   ]
  },
  {
   "cell_type": "code",
   "execution_count": 15,
   "metadata": {
    "id": "TDHX_3tss-bi"
   },
   "outputs": [],
   "source": [
    "# insert your code here\n",
    "Xtrain_norm, min_vals, max_vals = normalize(Xtrain)\n",
    "Xtest_norm = normalize(Xtest, min_vals, max_vals)"
   ]
  },
  {
   "cell_type": "code",
   "execution_count": 16,
   "metadata": {
    "id": "HFggko5gs-bj"
   },
   "outputs": [
    {
     "data": {
      "text/html": [
       "<div>\n",
       "<style scoped>\n",
       "    .dataframe tbody tr th:only-of-type {\n",
       "        vertical-align: middle;\n",
       "    }\n",
       "\n",
       "    .dataframe tbody tr th {\n",
       "        vertical-align: top;\n",
       "    }\n",
       "\n",
       "    .dataframe thead th {\n",
       "        text-align: right;\n",
       "    }\n",
       "</style>\n",
       "<table border=\"1\" class=\"dataframe\">\n",
       "  <thead>\n",
       "    <tr style=\"text-align: right;\">\n",
       "      <th></th>\n",
       "      <th>0</th>\n",
       "      <th>1</th>\n",
       "      <th>2</th>\n",
       "      <th>3</th>\n",
       "      <th>4</th>\n",
       "      <th>5</th>\n",
       "      <th>6</th>\n",
       "      <th>7</th>\n",
       "      <th>8</th>\n",
       "      <th>9</th>\n",
       "      <th>...</th>\n",
       "      <th>45</th>\n",
       "      <th>47</th>\n",
       "      <th>49</th>\n",
       "      <th>50</th>\n",
       "      <th>54</th>\n",
       "      <th>56</th>\n",
       "      <th>57</th>\n",
       "      <th>58</th>\n",
       "      <th>60</th>\n",
       "      <th>62</th>\n",
       "    </tr>\n",
       "  </thead>\n",
       "  <tbody>\n",
       "    <tr>\n",
       "      <th>count</th>\n",
       "      <td>592.000000</td>\n",
       "      <td>592.000000</td>\n",
       "      <td>592.000000</td>\n",
       "      <td>592.000000</td>\n",
       "      <td>592.000000</td>\n",
       "      <td>592.000000</td>\n",
       "      <td>592.000000</td>\n",
       "      <td>592.000000</td>\n",
       "      <td>592.000000</td>\n",
       "      <td>592.000000</td>\n",
       "      <td>...</td>\n",
       "      <td>592.000000</td>\n",
       "      <td>592.000000</td>\n",
       "      <td>592.000000</td>\n",
       "      <td>592.000000</td>\n",
       "      <td>592.000000</td>\n",
       "      <td>592.000000</td>\n",
       "      <td>592.000000</td>\n",
       "      <td>592.000000</td>\n",
       "      <td>592.000000</td>\n",
       "      <td>592.000000</td>\n",
       "    </tr>\n",
       "    <tr>\n",
       "      <th>mean</th>\n",
       "      <td>0.013282</td>\n",
       "      <td>1.440260</td>\n",
       "      <td>-0.723301</td>\n",
       "      <td>3.722466</td>\n",
       "      <td>-213.398384</td>\n",
       "      <td>-1.005629</td>\n",
       "      <td>0.025442</td>\n",
       "      <td>4.032041</td>\n",
       "      <td>1.872854</td>\n",
       "      <td>-0.459846</td>\n",
       "      <td>...</td>\n",
       "      <td>2.882442</td>\n",
       "      <td>-0.008606</td>\n",
       "      <td>3.211994</td>\n",
       "      <td>1.310033</td>\n",
       "      <td>2687.924067</td>\n",
       "      <td>-0.105317</td>\n",
       "      <td>1.839165</td>\n",
       "      <td>40.811098</td>\n",
       "      <td>17.193168</td>\n",
       "      <td>7.376815</td>\n",
       "    </tr>\n",
       "    <tr>\n",
       "      <th>std</th>\n",
       "      <td>0.534558</td>\n",
       "      <td>19.747443</td>\n",
       "      <td>19.735366</td>\n",
       "      <td>24.979245</td>\n",
       "      <td>6104.534815</td>\n",
       "      <td>20.981582</td>\n",
       "      <td>0.539040</td>\n",
       "      <td>34.821886</td>\n",
       "      <td>1.804231</td>\n",
       "      <td>19.744712</td>\n",
       "      <td>...</td>\n",
       "      <td>22.767715</td>\n",
       "      <td>0.448191</td>\n",
       "      <td>24.884444</td>\n",
       "      <td>19.752124</td>\n",
       "      <td>27801.568825</td>\n",
       "      <td>5.115328</td>\n",
       "      <td>20.218933</td>\n",
       "      <td>980.379744</td>\n",
       "      <td>75.118744</td>\n",
       "      <td>17.539184</td>\n",
       "    </tr>\n",
       "    <tr>\n",
       "      <th>min</th>\n",
       "      <td>-6.815000</td>\n",
       "      <td>0.001504</td>\n",
       "      <td>-479.960000</td>\n",
       "      <td>0.002079</td>\n",
       "      <td>-146150.000000</td>\n",
       "      <td>-508.410000</td>\n",
       "      <td>-6.815000</td>\n",
       "      <td>-0.997810</td>\n",
       "      <td>0.000000</td>\n",
       "      <td>-479.910000</td>\n",
       "      <td>...</td>\n",
       "      <td>0.000180</td>\n",
       "      <td>-7.881700</td>\n",
       "      <td>0.002079</td>\n",
       "      <td>0.001504</td>\n",
       "      <td>-259740.000000</td>\n",
       "      <td>-76.982000</td>\n",
       "      <td>0.000000</td>\n",
       "      <td>-80.147000</td>\n",
       "      <td>0.000000</td>\n",
       "      <td>0.000000</td>\n",
       "    </tr>\n",
       "    <tr>\n",
       "      <th>25%</th>\n",
       "      <td>-0.018667</td>\n",
       "      <td>0.345823</td>\n",
       "      <td>-0.067543</td>\n",
       "      <td>0.871020</td>\n",
       "      <td>-64.328500</td>\n",
       "      <td>-0.007887</td>\n",
       "      <td>-0.018488</td>\n",
       "      <td>0.242565</td>\n",
       "      <td>1.013975</td>\n",
       "      <td>0.195213</td>\n",
       "      <td>...</td>\n",
       "      <td>0.440908</td>\n",
       "      <td>-0.054973</td>\n",
       "      <td>0.661705</td>\n",
       "      <td>0.255537</td>\n",
       "      <td>-268.292500</td>\n",
       "      <td>0.000000</td>\n",
       "      <td>0.889915</td>\n",
       "      <td>0.000000</td>\n",
       "      <td>4.685025</td>\n",
       "      <td>2.714975</td>\n",
       "    </tr>\n",
       "    <tr>\n",
       "      <th>50%</th>\n",
       "      <td>0.027529</td>\n",
       "      <td>0.586305</td>\n",
       "      <td>0.114150</td>\n",
       "      <td>1.257850</td>\n",
       "      <td>-18.437000</td>\n",
       "      <td>0.000000</td>\n",
       "      <td>0.035270</td>\n",
       "      <td>0.683745</td>\n",
       "      <td>1.214700</td>\n",
       "      <td>0.400245</td>\n",
       "      <td>...</td>\n",
       "      <td>0.739520</td>\n",
       "      <td>0.010124</td>\n",
       "      <td>1.003650</td>\n",
       "      <td>0.421305</td>\n",
       "      <td>444.820000</td>\n",
       "      <td>0.087228</td>\n",
       "      <td>0.966220</td>\n",
       "      <td>0.005827</td>\n",
       "      <td>7.241400</td>\n",
       "      <td>4.347150</td>\n",
       "    </tr>\n",
       "    <tr>\n",
       "      <th>75%</th>\n",
       "      <td>0.112798</td>\n",
       "      <td>0.793290</td>\n",
       "      <td>0.293238</td>\n",
       "      <td>2.161025</td>\n",
       "      <td>28.649250</td>\n",
       "      <td>0.014939</td>\n",
       "      <td>0.128980</td>\n",
       "      <td>1.822100</td>\n",
       "      <td>2.328850</td>\n",
       "      <td>0.628208</td>\n",
       "      <td>...</td>\n",
       "      <td>1.405500</td>\n",
       "      <td>0.103478</td>\n",
       "      <td>1.613200</td>\n",
       "      <td>0.647305</td>\n",
       "      <td>2269.950000</td>\n",
       "      <td>0.286965</td>\n",
       "      <td>1.000775</td>\n",
       "      <td>0.323578</td>\n",
       "      <td>11.382500</td>\n",
       "      <td>7.807550</td>\n",
       "    </tr>\n",
       "    <tr>\n",
       "      <th>max</th>\n",
       "      <td>7.372700</td>\n",
       "      <td>480.960000</td>\n",
       "      <td>0.975730</td>\n",
       "      <td>431.120000</td>\n",
       "      <td>22876.000000</td>\n",
       "      <td>0.772020</td>\n",
       "      <td>7.372700</td>\n",
       "      <td>664.010000</td>\n",
       "      <td>22.743000</td>\n",
       "      <td>0.998500</td>\n",
       "      <td>...</td>\n",
       "      <td>421.770000</td>\n",
       "      <td>0.928760</td>\n",
       "      <td>431.120000</td>\n",
       "      <td>480.960000</td>\n",
       "      <td>537580.000000</td>\n",
       "      <td>38.355000</td>\n",
       "      <td>492.000000</td>\n",
       "      <td>23853.000000</td>\n",
       "      <td>1324.500000</td>\n",
       "      <td>376.040000</td>\n",
       "    </tr>\n",
       "  </tbody>\n",
       "</table>\n",
       "<p>8 rows × 37 columns</p>\n",
       "</div>"
      ],
      "text/plain": [
       "               0           1           2           3              4   \\\n",
       "count  592.000000  592.000000  592.000000  592.000000     592.000000   \n",
       "mean     0.013282    1.440260   -0.723301    3.722466    -213.398384   \n",
       "std      0.534558   19.747443   19.735366   24.979245    6104.534815   \n",
       "min     -6.815000    0.001504 -479.960000    0.002079 -146150.000000   \n",
       "25%     -0.018667    0.345823   -0.067543    0.871020     -64.328500   \n",
       "50%      0.027529    0.586305    0.114150    1.257850     -18.437000   \n",
       "75%      0.112798    0.793290    0.293238    2.161025      28.649250   \n",
       "max      7.372700  480.960000    0.975730  431.120000   22876.000000   \n",
       "\n",
       "               5           6           7           8           9   ...  \\\n",
       "count  592.000000  592.000000  592.000000  592.000000  592.000000  ...   \n",
       "mean    -1.005629    0.025442    4.032041    1.872854   -0.459846  ...   \n",
       "std     20.981582    0.539040   34.821886    1.804231   19.744712  ...   \n",
       "min   -508.410000   -6.815000   -0.997810    0.000000 -479.910000  ...   \n",
       "25%     -0.007887   -0.018488    0.242565    1.013975    0.195213  ...   \n",
       "50%      0.000000    0.035270    0.683745    1.214700    0.400245  ...   \n",
       "75%      0.014939    0.128980    1.822100    2.328850    0.628208  ...   \n",
       "max      0.772020    7.372700  664.010000   22.743000    0.998500  ...   \n",
       "\n",
       "               45          47          49          50             54  \\\n",
       "count  592.000000  592.000000  592.000000  592.000000     592.000000   \n",
       "mean     2.882442   -0.008606    3.211994    1.310033    2687.924067   \n",
       "std     22.767715    0.448191   24.884444   19.752124   27801.568825   \n",
       "min      0.000180   -7.881700    0.002079    0.001504 -259740.000000   \n",
       "25%      0.440908   -0.054973    0.661705    0.255537    -268.292500   \n",
       "50%      0.739520    0.010124    1.003650    0.421305     444.820000   \n",
       "75%      1.405500    0.103478    1.613200    0.647305    2269.950000   \n",
       "max    421.770000    0.928760  431.120000  480.960000  537580.000000   \n",
       "\n",
       "               56          57            58           60          62  \n",
       "count  592.000000  592.000000    592.000000   592.000000  592.000000  \n",
       "mean    -0.105317    1.839165     40.811098    17.193168    7.376815  \n",
       "std      5.115328   20.218933    980.379744    75.118744   17.539184  \n",
       "min    -76.982000    0.000000    -80.147000     0.000000    0.000000  \n",
       "25%      0.000000    0.889915      0.000000     4.685025    2.714975  \n",
       "50%      0.087228    0.966220      0.005827     7.241400    4.347150  \n",
       "75%      0.286965    1.000775      0.323578    11.382500    7.807550  \n",
       "max     38.355000  492.000000  23853.000000  1324.500000  376.040000  \n",
       "\n",
       "[8 rows x 37 columns]"
      ]
     },
     "execution_count": 16,
     "metadata": {},
     "output_type": "execute_result"
    }
   ],
   "source": [
    "Xtrain.describe()"
   ]
  },
  {
   "cell_type": "code",
   "execution_count": 20,
   "metadata": {
    "id": "V9205N1-s-bj"
   },
   "outputs": [
    {
     "data": {
      "text/html": [
       "<div>\n",
       "<style scoped>\n",
       "    .dataframe tbody tr th:only-of-type {\n",
       "        vertical-align: middle;\n",
       "    }\n",
       "\n",
       "    .dataframe tbody tr th {\n",
       "        vertical-align: top;\n",
       "    }\n",
       "\n",
       "    .dataframe thead th {\n",
       "        text-align: right;\n",
       "    }\n",
       "</style>\n",
       "<table border=\"1\" class=\"dataframe\">\n",
       "  <thead>\n",
       "    <tr style=\"text-align: right;\">\n",
       "      <th></th>\n",
       "      <th>0</th>\n",
       "      <th>1</th>\n",
       "      <th>2</th>\n",
       "      <th>3</th>\n",
       "      <th>4</th>\n",
       "      <th>5</th>\n",
       "      <th>6</th>\n",
       "      <th>7</th>\n",
       "      <th>8</th>\n",
       "      <th>9</th>\n",
       "      <th>...</th>\n",
       "      <th>45</th>\n",
       "      <th>47</th>\n",
       "      <th>49</th>\n",
       "      <th>50</th>\n",
       "      <th>54</th>\n",
       "      <th>56</th>\n",
       "      <th>57</th>\n",
       "      <th>58</th>\n",
       "      <th>60</th>\n",
       "      <th>62</th>\n",
       "    </tr>\n",
       "  </thead>\n",
       "  <tbody>\n",
       "    <tr>\n",
       "      <th>count</th>\n",
       "      <td>592.000000</td>\n",
       "      <td>592.000000</td>\n",
       "      <td>592.000000</td>\n",
       "      <td>592.000000</td>\n",
       "      <td>592.000000</td>\n",
       "      <td>592.000000</td>\n",
       "      <td>592.000000</td>\n",
       "      <td>592.000000</td>\n",
       "      <td>592.000000</td>\n",
       "      <td>592.000000</td>\n",
       "      <td>...</td>\n",
       "      <td>592.000000</td>\n",
       "      <td>592.000000</td>\n",
       "      <td>592.000000</td>\n",
       "      <td>592.000000</td>\n",
       "      <td>592.000000</td>\n",
       "      <td>592.000000</td>\n",
       "      <td>592.000000</td>\n",
       "      <td>592.000000</td>\n",
       "      <td>592.000000</td>\n",
       "      <td>592.000000</td>\n",
       "    </tr>\n",
       "    <tr>\n",
       "      <th>mean</th>\n",
       "      <td>0.481282</td>\n",
       "      <td>0.002991</td>\n",
       "      <td>0.996467</td>\n",
       "      <td>0.008630</td>\n",
       "      <td>0.863397</td>\n",
       "      <td>0.996509</td>\n",
       "      <td>0.482139</td>\n",
       "      <td>0.007564</td>\n",
       "      <td>0.082349</td>\n",
       "      <td>0.996968</td>\n",
       "      <td>...</td>\n",
       "      <td>0.006834</td>\n",
       "      <td>0.893608</td>\n",
       "      <td>0.007446</td>\n",
       "      <td>0.002721</td>\n",
       "      <td>0.329138</td>\n",
       "      <td>0.666540</td>\n",
       "      <td>0.003738</td>\n",
       "      <td>0.005054</td>\n",
       "      <td>0.012981</td>\n",
       "      <td>0.019617</td>\n",
       "    </tr>\n",
       "    <tr>\n",
       "      <th>std</th>\n",
       "      <td>0.037678</td>\n",
       "      <td>0.041059</td>\n",
       "      <td>0.041035</td>\n",
       "      <td>0.057941</td>\n",
       "      <td>0.036116</td>\n",
       "      <td>0.041206</td>\n",
       "      <td>0.037993</td>\n",
       "      <td>0.052363</td>\n",
       "      <td>0.079331</td>\n",
       "      <td>0.041057</td>\n",
       "      <td>...</td>\n",
       "      <td>0.053981</td>\n",
       "      <td>0.050870</td>\n",
       "      <td>0.057721</td>\n",
       "      <td>0.041068</td>\n",
       "      <td>0.034869</td>\n",
       "      <td>0.044351</td>\n",
       "      <td>0.041095</td>\n",
       "      <td>0.040963</td>\n",
       "      <td>0.056715</td>\n",
       "      <td>0.046642</td>\n",
       "    </tr>\n",
       "    <tr>\n",
       "      <th>min</th>\n",
       "      <td>0.000000</td>\n",
       "      <td>0.000000</td>\n",
       "      <td>0.000000</td>\n",
       "      <td>0.000000</td>\n",
       "      <td>0.000000</td>\n",
       "      <td>0.000000</td>\n",
       "      <td>0.000000</td>\n",
       "      <td>0.000000</td>\n",
       "      <td>0.000000</td>\n",
       "      <td>0.000000</td>\n",
       "      <td>...</td>\n",
       "      <td>0.000000</td>\n",
       "      <td>0.000000</td>\n",
       "      <td>0.000000</td>\n",
       "      <td>0.000000</td>\n",
       "      <td>0.000000</td>\n",
       "      <td>0.000000</td>\n",
       "      <td>0.000000</td>\n",
       "      <td>0.000000</td>\n",
       "      <td>0.000000</td>\n",
       "      <td>0.000000</td>\n",
       "    </tr>\n",
       "    <tr>\n",
       "      <th>25%</th>\n",
       "      <td>0.479030</td>\n",
       "      <td>0.000716</td>\n",
       "      <td>0.997831</td>\n",
       "      <td>0.002016</td>\n",
       "      <td>0.864279</td>\n",
       "      <td>0.998468</td>\n",
       "      <td>0.479043</td>\n",
       "      <td>0.001865</td>\n",
       "      <td>0.044584</td>\n",
       "      <td>0.998330</td>\n",
       "      <td>...</td>\n",
       "      <td>0.001045</td>\n",
       "      <td>0.888345</td>\n",
       "      <td>0.001530</td>\n",
       "      <td>0.000528</td>\n",
       "      <td>0.325430</td>\n",
       "      <td>0.667453</td>\n",
       "      <td>0.001809</td>\n",
       "      <td>0.003349</td>\n",
       "      <td>0.003537</td>\n",
       "      <td>0.007220</td>\n",
       "    </tr>\n",
       "    <tr>\n",
       "      <th>50%</th>\n",
       "      <td>0.482286</td>\n",
       "      <td>0.001216</td>\n",
       "      <td>0.998209</td>\n",
       "      <td>0.002913</td>\n",
       "      <td>0.864551</td>\n",
       "      <td>0.998484</td>\n",
       "      <td>0.482832</td>\n",
       "      <td>0.002529</td>\n",
       "      <td>0.053410</td>\n",
       "      <td>0.998756</td>\n",
       "      <td>...</td>\n",
       "      <td>0.001753</td>\n",
       "      <td>0.895733</td>\n",
       "      <td>0.002323</td>\n",
       "      <td>0.000873</td>\n",
       "      <td>0.326324</td>\n",
       "      <td>0.668209</td>\n",
       "      <td>0.001964</td>\n",
       "      <td>0.003349</td>\n",
       "      <td>0.005467</td>\n",
       "      <td>0.011560</td>\n",
       "    </tr>\n",
       "    <tr>\n",
       "      <th>75%</th>\n",
       "      <td>0.488296</td>\n",
       "      <td>0.001646</td>\n",
       "      <td>0.998581</td>\n",
       "      <td>0.005008</td>\n",
       "      <td>0.864829</td>\n",
       "      <td>0.998513</td>\n",
       "      <td>0.489437</td>\n",
       "      <td>0.004240</td>\n",
       "      <td>0.102399</td>\n",
       "      <td>0.999230</td>\n",
       "      <td>...</td>\n",
       "      <td>0.003332</td>\n",
       "      <td>0.906329</td>\n",
       "      <td>0.003737</td>\n",
       "      <td>0.001343</td>\n",
       "      <td>0.328613</td>\n",
       "      <td>0.669941</td>\n",
       "      <td>0.002034</td>\n",
       "      <td>0.003362</td>\n",
       "      <td>0.008594</td>\n",
       "      <td>0.020763</td>\n",
       "    </tr>\n",
       "    <tr>\n",
       "      <th>max</th>\n",
       "      <td>1.000000</td>\n",
       "      <td>1.000000</td>\n",
       "      <td>1.000000</td>\n",
       "      <td>1.000000</td>\n",
       "      <td>1.000000</td>\n",
       "      <td>1.000000</td>\n",
       "      <td>1.000000</td>\n",
       "      <td>1.000000</td>\n",
       "      <td>1.000000</td>\n",
       "      <td>1.000000</td>\n",
       "      <td>...</td>\n",
       "      <td>1.000000</td>\n",
       "      <td>1.000000</td>\n",
       "      <td>1.000000</td>\n",
       "      <td>1.000000</td>\n",
       "      <td>1.000000</td>\n",
       "      <td>1.000000</td>\n",
       "      <td>1.000000</td>\n",
       "      <td>1.000000</td>\n",
       "      <td>1.000000</td>\n",
       "      <td>1.000000</td>\n",
       "    </tr>\n",
       "  </tbody>\n",
       "</table>\n",
       "<p>8 rows × 37 columns</p>\n",
       "</div>"
      ],
      "text/plain": [
       "               0           1           2           3           4           5   \\\n",
       "count  592.000000  592.000000  592.000000  592.000000  592.000000  592.000000   \n",
       "mean     0.481282    0.002991    0.996467    0.008630    0.863397    0.996509   \n",
       "std      0.037678    0.041059    0.041035    0.057941    0.036116    0.041206   \n",
       "min      0.000000    0.000000    0.000000    0.000000    0.000000    0.000000   \n",
       "25%      0.479030    0.000716    0.997831    0.002016    0.864279    0.998468   \n",
       "50%      0.482286    0.001216    0.998209    0.002913    0.864551    0.998484   \n",
       "75%      0.488296    0.001646    0.998581    0.005008    0.864829    0.998513   \n",
       "max      1.000000    1.000000    1.000000    1.000000    1.000000    1.000000   \n",
       "\n",
       "               6           7           8           9   ...          45  \\\n",
       "count  592.000000  592.000000  592.000000  592.000000  ...  592.000000   \n",
       "mean     0.482139    0.007564    0.082349    0.996968  ...    0.006834   \n",
       "std      0.037993    0.052363    0.079331    0.041057  ...    0.053981   \n",
       "min      0.000000    0.000000    0.000000    0.000000  ...    0.000000   \n",
       "25%      0.479043    0.001865    0.044584    0.998330  ...    0.001045   \n",
       "50%      0.482832    0.002529    0.053410    0.998756  ...    0.001753   \n",
       "75%      0.489437    0.004240    0.102399    0.999230  ...    0.003332   \n",
       "max      1.000000    1.000000    1.000000    1.000000  ...    1.000000   \n",
       "\n",
       "               47          49          50          54          56          57  \\\n",
       "count  592.000000  592.000000  592.000000  592.000000  592.000000  592.000000   \n",
       "mean     0.893608    0.007446    0.002721    0.329138    0.666540    0.003738   \n",
       "std      0.050870    0.057721    0.041068    0.034869    0.044351    0.041095   \n",
       "min      0.000000    0.000000    0.000000    0.000000    0.000000    0.000000   \n",
       "25%      0.888345    0.001530    0.000528    0.325430    0.667453    0.001809   \n",
       "50%      0.895733    0.002323    0.000873    0.326324    0.668209    0.001964   \n",
       "75%      0.906329    0.003737    0.001343    0.328613    0.669941    0.002034   \n",
       "max      1.000000    1.000000    1.000000    1.000000    1.000000    1.000000   \n",
       "\n",
       "               58          60          62  \n",
       "count  592.000000  592.000000  592.000000  \n",
       "mean     0.005054    0.012981    0.019617  \n",
       "std      0.040963    0.056715    0.046642  \n",
       "min      0.000000    0.000000    0.000000  \n",
       "25%      0.003349    0.003537    0.007220  \n",
       "50%      0.003349    0.005467    0.011560  \n",
       "75%      0.003362    0.008594    0.020763  \n",
       "max      1.000000    1.000000    1.000000  \n",
       "\n",
       "[8 rows x 37 columns]"
      ]
     },
     "execution_count": 20,
     "metadata": {},
     "output_type": "execute_result"
    }
   ],
   "source": [
    "Xtrain_norm.describe()"
   ]
  },
  {
   "cell_type": "code",
   "execution_count": 21,
   "metadata": {
    "id": "DdeuRUn8s-bj"
   },
   "outputs": [
    {
     "data": {
      "text/html": [
       "<div>\n",
       "<style scoped>\n",
       "    .dataframe tbody tr th:only-of-type {\n",
       "        vertical-align: middle;\n",
       "    }\n",
       "\n",
       "    .dataframe tbody tr th {\n",
       "        vertical-align: top;\n",
       "    }\n",
       "\n",
       "    .dataframe thead th {\n",
       "        text-align: right;\n",
       "    }\n",
       "</style>\n",
       "<table border=\"1\" class=\"dataframe\">\n",
       "  <thead>\n",
       "    <tr style=\"text-align: right;\">\n",
       "      <th></th>\n",
       "      <th>0</th>\n",
       "      <th>1</th>\n",
       "      <th>2</th>\n",
       "      <th>3</th>\n",
       "      <th>4</th>\n",
       "      <th>5</th>\n",
       "      <th>6</th>\n",
       "      <th>7</th>\n",
       "      <th>8</th>\n",
       "      <th>9</th>\n",
       "      <th>...</th>\n",
       "      <th>45</th>\n",
       "      <th>47</th>\n",
       "      <th>49</th>\n",
       "      <th>50</th>\n",
       "      <th>54</th>\n",
       "      <th>56</th>\n",
       "      <th>57</th>\n",
       "      <th>58</th>\n",
       "      <th>60</th>\n",
       "      <th>62</th>\n",
       "    </tr>\n",
       "  </thead>\n",
       "  <tbody>\n",
       "    <tr>\n",
       "      <th>count</th>\n",
       "      <td>9496.000000</td>\n",
       "      <td>9496.000000</td>\n",
       "      <td>9496.000000</td>\n",
       "      <td>9496.000000</td>\n",
       "      <td>9496.000000</td>\n",
       "      <td>9496.000000</td>\n",
       "      <td>9496.000000</td>\n",
       "      <td>9496.000000</td>\n",
       "      <td>9496.000000</td>\n",
       "      <td>9496.000000</td>\n",
       "      <td>...</td>\n",
       "      <td>9496.000000</td>\n",
       "      <td>9496.000000</td>\n",
       "      <td>9496.000000</td>\n",
       "      <td>9496.000000</td>\n",
       "      <td>9.496000e+03</td>\n",
       "      <td>9496.000000</td>\n",
       "      <td>9496.000000</td>\n",
       "      <td>9496.000000</td>\n",
       "      <td>9496.000000</td>\n",
       "      <td>9496.000000</td>\n",
       "    </tr>\n",
       "    <tr>\n",
       "      <th>mean</th>\n",
       "      <td>0.059580</td>\n",
       "      <td>0.583189</td>\n",
       "      <td>0.130977</td>\n",
       "      <td>3.438784</td>\n",
       "      <td>-114.861777</td>\n",
       "      <td>-0.046815</td>\n",
       "      <td>0.143469</td>\n",
       "      <td>3.802624</td>\n",
       "      <td>2.910833</td>\n",
       "      <td>0.400218</td>\n",
       "      <td>...</td>\n",
       "      <td>2.586799</td>\n",
       "      <td>0.088178</td>\n",
       "      <td>2.744910</td>\n",
       "      <td>0.467164</td>\n",
       "      <td>6.174652e+03</td>\n",
       "      <td>-0.035702</td>\n",
       "      <td>13.234083</td>\n",
       "      <td>0.703249</td>\n",
       "      <td>16.855230</td>\n",
       "      <td>11.426099</td>\n",
       "    </tr>\n",
       "    <tr>\n",
       "      <th>std</th>\n",
       "      <td>0.687204</td>\n",
       "      <td>4.605438</td>\n",
       "      <td>4.600310</td>\n",
       "      <td>14.939694</td>\n",
       "      <td>6925.480649</td>\n",
       "      <td>4.275350</td>\n",
       "      <td>6.697446</td>\n",
       "      <td>28.988943</td>\n",
       "      <td>100.010548</td>\n",
       "      <td>4.605299</td>\n",
       "      <td>...</td>\n",
       "      <td>14.118622</td>\n",
       "      <td>6.412551</td>\n",
       "      <td>12.526885</td>\n",
       "      <td>4.602961</td>\n",
       "      <td>6.736910e+04</td>\n",
       "      <td>12.606009</td>\n",
       "      <td>653.658670</td>\n",
       "      <td>29.089834</td>\n",
       "      <td>305.222767</td>\n",
       "      <td>241.689277</td>\n",
       "    </tr>\n",
       "    <tr>\n",
       "      <th>min</th>\n",
       "      <td>-61.628000</td>\n",
       "      <td>0.000626</td>\n",
       "      <td>-440.740000</td>\n",
       "      <td>0.002264</td>\n",
       "      <td>-438250.000000</td>\n",
       "      <td>-398.120000</td>\n",
       "      <td>-61.628000</td>\n",
       "      <td>-1.594500</td>\n",
       "      <td>-0.000857</td>\n",
       "      <td>-440.740000</td>\n",
       "      <td>...</td>\n",
       "      <td>-5.256100</td>\n",
       "      <td>-9.679200</td>\n",
       "      <td>0.002264</td>\n",
       "      <td>0.000516</td>\n",
       "      <td>-1.805200e+06</td>\n",
       "      <td>-979.250000</td>\n",
       "      <td>-4.549700</td>\n",
       "      <td>-189.580000</td>\n",
       "      <td>-0.007521</td>\n",
       "      <td>-0.367890</td>\n",
       "    </tr>\n",
       "    <tr>\n",
       "      <th>25%</th>\n",
       "      <td>0.000894</td>\n",
       "      <td>0.277290</td>\n",
       "      <td>0.015974</td>\n",
       "      <td>1.039300</td>\n",
       "      <td>-49.059250</td>\n",
       "      <td>0.000000</td>\n",
       "      <td>0.002899</td>\n",
       "      <td>0.409535</td>\n",
       "      <td>1.029000</td>\n",
       "      <td>0.283410</td>\n",
       "      <td>...</td>\n",
       "      <td>0.592220</td>\n",
       "      <td>-0.038386</td>\n",
       "      <td>0.759858</td>\n",
       "      <td>0.194315</td>\n",
       "      <td>1.466975e+01</td>\n",
       "      <td>0.011969</td>\n",
       "      <td>0.871975</td>\n",
       "      <td>0.000000</td>\n",
       "      <td>4.725850</td>\n",
       "      <td>3.149050</td>\n",
       "    </tr>\n",
       "    <tr>\n",
       "      <th>50%</th>\n",
       "      <td>0.051782</td>\n",
       "      <td>0.483060</td>\n",
       "      <td>0.193560</td>\n",
       "      <td>1.541800</td>\n",
       "      <td>-0.939565</td>\n",
       "      <td>0.000000</td>\n",
       "      <td>0.062915</td>\n",
       "      <td>1.028300</td>\n",
       "      <td>1.295700</td>\n",
       "      <td>0.495375</td>\n",
       "      <td>...</td>\n",
       "      <td>1.015050</td>\n",
       "      <td>0.024399</td>\n",
       "      <td>1.206650</td>\n",
       "      <td>0.348455</td>\n",
       "      <td>8.793950e+02</td>\n",
       "      <td>0.129680</td>\n",
       "      <td>0.948945</td>\n",
       "      <td>0.005109</td>\n",
       "      <td>7.005200</td>\n",
       "      <td>5.273050</td>\n",
       "    </tr>\n",
       "    <tr>\n",
       "      <th>75%</th>\n",
       "      <td>0.143402</td>\n",
       "      <td>0.698887</td>\n",
       "      <td>0.401905</td>\n",
       "      <td>2.766825</td>\n",
       "      <td>51.780500</td>\n",
       "      <td>0.080294</td>\n",
       "      <td>0.168065</td>\n",
       "      <td>2.542125</td>\n",
       "      <td>2.262225</td>\n",
       "      <td>0.704827</td>\n",
       "      <td>...</td>\n",
       "      <td>1.896000</td>\n",
       "      <td>0.123900</td>\n",
       "      <td>2.172925</td>\n",
       "      <td>0.544880</td>\n",
       "      <td>4.181975e+03</td>\n",
       "      <td>0.312032</td>\n",
       "      <td>0.993080</td>\n",
       "      <td>0.247670</td>\n",
       "      <td>11.079250</td>\n",
       "      <td>9.097200</td>\n",
       "    </tr>\n",
       "    <tr>\n",
       "      <th>max</th>\n",
       "      <td>7.138400</td>\n",
       "      <td>441.740000</td>\n",
       "      <td>0.996880</td>\n",
       "      <td>782.250000</td>\n",
       "      <td>70686.000000</td>\n",
       "      <td>14.756000</td>\n",
       "      <td>649.230000</td>\n",
       "      <td>1597.400000</td>\n",
       "      <td>9742.300000</td>\n",
       "      <td>0.999370</td>\n",
       "      <td>...</td>\n",
       "      <td>782.250000</td>\n",
       "      <td>623.850000</td>\n",
       "      <td>544.560000</td>\n",
       "      <td>441.740000</td>\n",
       "      <td>3.657400e+06</td>\n",
       "      <td>147.190000</td>\n",
       "      <td>59672.000000</td>\n",
       "      <td>2517.700000</td>\n",
       "      <td>26862.000000</td>\n",
       "      <td>23454.000000</td>\n",
       "    </tr>\n",
       "  </tbody>\n",
       "</table>\n",
       "<p>8 rows × 37 columns</p>\n",
       "</div>"
      ],
      "text/plain": [
       "                0            1            2            3              4   \\\n",
       "count  9496.000000  9496.000000  9496.000000  9496.000000    9496.000000   \n",
       "mean      0.059580     0.583189     0.130977     3.438784    -114.861777   \n",
       "std       0.687204     4.605438     4.600310    14.939694    6925.480649   \n",
       "min     -61.628000     0.000626  -440.740000     0.002264 -438250.000000   \n",
       "25%       0.000894     0.277290     0.015974     1.039300     -49.059250   \n",
       "50%       0.051782     0.483060     0.193560     1.541800      -0.939565   \n",
       "75%       0.143402     0.698887     0.401905     2.766825      51.780500   \n",
       "max       7.138400   441.740000     0.996880   782.250000   70686.000000   \n",
       "\n",
       "                5            6            7            8            9   ...  \\\n",
       "count  9496.000000  9496.000000  9496.000000  9496.000000  9496.000000  ...   \n",
       "mean     -0.046815     0.143469     3.802624     2.910833     0.400218  ...   \n",
       "std       4.275350     6.697446    28.988943   100.010548     4.605299  ...   \n",
       "min    -398.120000   -61.628000    -1.594500    -0.000857  -440.740000  ...   \n",
       "25%       0.000000     0.002899     0.409535     1.029000     0.283410  ...   \n",
       "50%       0.000000     0.062915     1.028300     1.295700     0.495375  ...   \n",
       "75%       0.080294     0.168065     2.542125     2.262225     0.704827  ...   \n",
       "max      14.756000   649.230000  1597.400000  9742.300000     0.999370  ...   \n",
       "\n",
       "                45           47           49           50            54  \\\n",
       "count  9496.000000  9496.000000  9496.000000  9496.000000  9.496000e+03   \n",
       "mean      2.586799     0.088178     2.744910     0.467164  6.174652e+03   \n",
       "std      14.118622     6.412551    12.526885     4.602961  6.736910e+04   \n",
       "min      -5.256100    -9.679200     0.002264     0.000516 -1.805200e+06   \n",
       "25%       0.592220    -0.038386     0.759858     0.194315  1.466975e+01   \n",
       "50%       1.015050     0.024399     1.206650     0.348455  8.793950e+02   \n",
       "75%       1.896000     0.123900     2.172925     0.544880  4.181975e+03   \n",
       "max     782.250000   623.850000   544.560000   441.740000  3.657400e+06   \n",
       "\n",
       "                56            57           58            60            62  \n",
       "count  9496.000000   9496.000000  9496.000000   9496.000000   9496.000000  \n",
       "mean     -0.035702     13.234083     0.703249     16.855230     11.426099  \n",
       "std      12.606009    653.658670    29.089834    305.222767    241.689277  \n",
       "min    -979.250000     -4.549700  -189.580000     -0.007521     -0.367890  \n",
       "25%       0.011969      0.871975     0.000000      4.725850      3.149050  \n",
       "50%       0.129680      0.948945     0.005109      7.005200      5.273050  \n",
       "75%       0.312032      0.993080     0.247670     11.079250      9.097200  \n",
       "max     147.190000  59672.000000  2517.700000  26862.000000  23454.000000  \n",
       "\n",
       "[8 rows x 37 columns]"
      ]
     },
     "execution_count": 21,
     "metadata": {},
     "output_type": "execute_result"
    }
   ],
   "source": [
    "Xtest.describe()"
   ]
  },
  {
   "cell_type": "code",
   "execution_count": 22,
   "metadata": {
    "id": "5f1W5c5fs-bj"
   },
   "outputs": [
    {
     "data": {
      "text/html": [
       "<div>\n",
       "<style scoped>\n",
       "    .dataframe tbody tr th:only-of-type {\n",
       "        vertical-align: middle;\n",
       "    }\n",
       "\n",
       "    .dataframe tbody tr th {\n",
       "        vertical-align: top;\n",
       "    }\n",
       "\n",
       "    .dataframe thead th {\n",
       "        text-align: right;\n",
       "    }\n",
       "</style>\n",
       "<table border=\"1\" class=\"dataframe\">\n",
       "  <thead>\n",
       "    <tr style=\"text-align: right;\">\n",
       "      <th></th>\n",
       "      <th>0</th>\n",
       "      <th>1</th>\n",
       "      <th>2</th>\n",
       "      <th>3</th>\n",
       "      <th>4</th>\n",
       "      <th>5</th>\n",
       "      <th>6</th>\n",
       "      <th>7</th>\n",
       "      <th>8</th>\n",
       "      <th>9</th>\n",
       "      <th>...</th>\n",
       "      <th>45</th>\n",
       "      <th>47</th>\n",
       "      <th>49</th>\n",
       "      <th>50</th>\n",
       "      <th>54</th>\n",
       "      <th>56</th>\n",
       "      <th>57</th>\n",
       "      <th>58</th>\n",
       "      <th>60</th>\n",
       "      <th>62</th>\n",
       "    </tr>\n",
       "  </thead>\n",
       "  <tbody>\n",
       "    <tr>\n",
       "      <th>count</th>\n",
       "      <td>9496.000000</td>\n",
       "      <td>9496.000000</td>\n",
       "      <td>9496.000000</td>\n",
       "      <td>9.496000e+03</td>\n",
       "      <td>9496.000000</td>\n",
       "      <td>9496.000000</td>\n",
       "      <td>9496.000000</td>\n",
       "      <td>9496.000000</td>\n",
       "      <td>9496.000000</td>\n",
       "      <td>9496.000000</td>\n",
       "      <td>...</td>\n",
       "      <td>9496.000000</td>\n",
       "      <td>9496.000000</td>\n",
       "      <td>9.496000e+03</td>\n",
       "      <td>9496.000000</td>\n",
       "      <td>9496.000000</td>\n",
       "      <td>9496.000000</td>\n",
       "      <td>9496.000000</td>\n",
       "      <td>9496.000000</td>\n",
       "      <td>9496.000000</td>\n",
       "      <td>9496.000000</td>\n",
       "    </tr>\n",
       "    <tr>\n",
       "      <th>mean</th>\n",
       "      <td>0.484545</td>\n",
       "      <td>0.001209</td>\n",
       "      <td>0.998244</td>\n",
       "      <td>7.971612e-03</td>\n",
       "      <td>0.863980</td>\n",
       "      <td>0.998392</td>\n",
       "      <td>0.490458</td>\n",
       "      <td>0.007219</td>\n",
       "      <td>0.127988</td>\n",
       "      <td>0.998756</td>\n",
       "      <td>...</td>\n",
       "      <td>0.006133</td>\n",
       "      <td>0.904593</td>\n",
       "      <td>6.362136e-03</td>\n",
       "      <td>0.000968</td>\n",
       "      <td>0.333511</td>\n",
       "      <td>0.667143</td>\n",
       "      <td>0.026899</td>\n",
       "      <td>0.003378</td>\n",
       "      <td>0.012726</td>\n",
       "      <td>0.030385</td>\n",
       "    </tr>\n",
       "    <tr>\n",
       "      <th>std</th>\n",
       "      <td>0.048437</td>\n",
       "      <td>0.009576</td>\n",
       "      <td>0.009565</td>\n",
       "      <td>3.465338e-02</td>\n",
       "      <td>0.040973</td>\n",
       "      <td>0.008397</td>\n",
       "      <td>0.472060</td>\n",
       "      <td>0.043592</td>\n",
       "      <td>4.397421</td>\n",
       "      <td>0.009576</td>\n",
       "      <td>...</td>\n",
       "      <td>0.033475</td>\n",
       "      <td>0.727834</td>\n",
       "      <td>2.905675e-02</td>\n",
       "      <td>0.009570</td>\n",
       "      <td>0.084494</td>\n",
       "      <td>0.109297</td>\n",
       "      <td>1.328575</td>\n",
       "      <td>0.001215</td>\n",
       "      <td>0.230444</td>\n",
       "      <td>0.642722</td>\n",
       "    </tr>\n",
       "    <tr>\n",
       "      <th>min</th>\n",
       "      <td>-3.863417</td>\n",
       "      <td>-0.000002</td>\n",
       "      <td>0.081549</td>\n",
       "      <td>4.281891e-07</td>\n",
       "      <td>-1.728136</td>\n",
       "      <td>0.216602</td>\n",
       "      <td>-3.863417</td>\n",
       "      <td>-0.000897</td>\n",
       "      <td>-0.000038</td>\n",
       "      <td>0.081450</td>\n",
       "      <td>...</td>\n",
       "      <td>-0.012462</td>\n",
       "      <td>-0.204019</td>\n",
       "      <td>4.281891e-07</td>\n",
       "      <td>-0.000002</td>\n",
       "      <td>-1.938318</td>\n",
       "      <td>-7.822884</td>\n",
       "      <td>-0.009247</td>\n",
       "      <td>-0.004572</td>\n",
       "      <td>-0.000006</td>\n",
       "      <td>-0.000978</td>\n",
       "    </tr>\n",
       "    <tr>\n",
       "      <th>25%</th>\n",
       "      <td>0.480409</td>\n",
       "      <td>0.000573</td>\n",
       "      <td>0.998004</td>\n",
       "      <td>2.405887e-03</td>\n",
       "      <td>0.864370</td>\n",
       "      <td>0.998484</td>\n",
       "      <td>0.480550</td>\n",
       "      <td>0.002116</td>\n",
       "      <td>0.045245</td>\n",
       "      <td>0.998513</td>\n",
       "      <td>...</td>\n",
       "      <td>0.001404</td>\n",
       "      <td>0.890227</td>\n",
       "      <td>1.757705e-03</td>\n",
       "      <td>0.000401</td>\n",
       "      <td>0.325785</td>\n",
       "      <td>0.667557</td>\n",
       "      <td>0.001772</td>\n",
       "      <td>0.003349</td>\n",
       "      <td>0.003568</td>\n",
       "      <td>0.008374</td>\n",
       "    </tr>\n",
       "    <tr>\n",
       "      <th>50%</th>\n",
       "      <td>0.483995</td>\n",
       "      <td>0.001001</td>\n",
       "      <td>0.998374</td>\n",
       "      <td>3.571461e-03</td>\n",
       "      <td>0.864654</td>\n",
       "      <td>0.998484</td>\n",
       "      <td>0.484780</td>\n",
       "      <td>0.003047</td>\n",
       "      <td>0.056971</td>\n",
       "      <td>0.998954</td>\n",
       "      <td>...</td>\n",
       "      <td>0.002406</td>\n",
       "      <td>0.897354</td>\n",
       "      <td>2.794063e-03</td>\n",
       "      <td>0.000721</td>\n",
       "      <td>0.326869</td>\n",
       "      <td>0.668577</td>\n",
       "      <td>0.001929</td>\n",
       "      <td>0.003349</td>\n",
       "      <td>0.005289</td>\n",
       "      <td>0.014023</td>\n",
       "    </tr>\n",
       "    <tr>\n",
       "      <th>75%</th>\n",
       "      <td>0.490453</td>\n",
       "      <td>0.001450</td>\n",
       "      <td>0.998807</td>\n",
       "      <td>6.412969e-03</td>\n",
       "      <td>0.864966</td>\n",
       "      <td>0.998641</td>\n",
       "      <td>0.492191</td>\n",
       "      <td>0.005323</td>\n",
       "      <td>0.099469</td>\n",
       "      <td>0.999389</td>\n",
       "      <td>...</td>\n",
       "      <td>0.004495</td>\n",
       "      <td>0.908647</td>\n",
       "      <td>5.035388e-03</td>\n",
       "      <td>0.001130</td>\n",
       "      <td>0.331011</td>\n",
       "      <td>0.670158</td>\n",
       "      <td>0.002018</td>\n",
       "      <td>0.003359</td>\n",
       "      <td>0.008365</td>\n",
       "      <td>0.024192</td>\n",
       "    </tr>\n",
       "    <tr>\n",
       "      <th>max</th>\n",
       "      <td>0.983486</td>\n",
       "      <td>0.918455</td>\n",
       "      <td>1.000044</td>\n",
       "      <td>1.814464e+00</td>\n",
       "      <td>1.282856</td>\n",
       "      <td>1.027464</td>\n",
       "      <td>46.240405</td>\n",
       "      <td>2.403578</td>\n",
       "      <td>428.364772</td>\n",
       "      <td>1.000002</td>\n",
       "      <td>...</td>\n",
       "      <td>1.854684</td>\n",
       "      <td>71.702465</td>\n",
       "      <td>1.263130e+00</td>\n",
       "      <td>0.918455</td>\n",
       "      <td>4.912883</td>\n",
       "      <td>1.943626</td>\n",
       "      <td>121.284553</td>\n",
       "      <td>0.108546</td>\n",
       "      <td>20.280861</td>\n",
       "      <td>62.371024</td>\n",
       "    </tr>\n",
       "  </tbody>\n",
       "</table>\n",
       "<p>8 rows × 37 columns</p>\n",
       "</div>"
      ],
      "text/plain": [
       "                0            1            2             3            4   \\\n",
       "count  9496.000000  9496.000000  9496.000000  9.496000e+03  9496.000000   \n",
       "mean      0.484545     0.001209     0.998244  7.971612e-03     0.863980   \n",
       "std       0.048437     0.009576     0.009565  3.465338e-02     0.040973   \n",
       "min      -3.863417    -0.000002     0.081549  4.281891e-07    -1.728136   \n",
       "25%       0.480409     0.000573     0.998004  2.405887e-03     0.864370   \n",
       "50%       0.483995     0.001001     0.998374  3.571461e-03     0.864654   \n",
       "75%       0.490453     0.001450     0.998807  6.412969e-03     0.864966   \n",
       "max       0.983486     0.918455     1.000044  1.814464e+00     1.282856   \n",
       "\n",
       "                5            6            7            8            9   ...  \\\n",
       "count  9496.000000  9496.000000  9496.000000  9496.000000  9496.000000  ...   \n",
       "mean      0.998392     0.490458     0.007219     0.127988     0.998756  ...   \n",
       "std       0.008397     0.472060     0.043592     4.397421     0.009576  ...   \n",
       "min       0.216602    -3.863417    -0.000897    -0.000038     0.081450  ...   \n",
       "25%       0.998484     0.480550     0.002116     0.045245     0.998513  ...   \n",
       "50%       0.998484     0.484780     0.003047     0.056971     0.998954  ...   \n",
       "75%       0.998641     0.492191     0.005323     0.099469     0.999389  ...   \n",
       "max       1.027464    46.240405     2.403578   428.364772     1.000002  ...   \n",
       "\n",
       "                45           47            49           50           54  \\\n",
       "count  9496.000000  9496.000000  9.496000e+03  9496.000000  9496.000000   \n",
       "mean      0.006133     0.904593  6.362136e-03     0.000968     0.333511   \n",
       "std       0.033475     0.727834  2.905675e-02     0.009570     0.084494   \n",
       "min      -0.012462    -0.204019  4.281891e-07    -0.000002    -1.938318   \n",
       "25%       0.001404     0.890227  1.757705e-03     0.000401     0.325785   \n",
       "50%       0.002406     0.897354  2.794063e-03     0.000721     0.326869   \n",
       "75%       0.004495     0.908647  5.035388e-03     0.001130     0.331011   \n",
       "max       1.854684    71.702465  1.263130e+00     0.918455     4.912883   \n",
       "\n",
       "                56           57           58           60           62  \n",
       "count  9496.000000  9496.000000  9496.000000  9496.000000  9496.000000  \n",
       "mean      0.667143     0.026899     0.003378     0.012726     0.030385  \n",
       "std       0.109297     1.328575     0.001215     0.230444     0.642722  \n",
       "min      -7.822884    -0.009247    -0.004572    -0.000006    -0.000978  \n",
       "25%       0.667557     0.001772     0.003349     0.003568     0.008374  \n",
       "50%       0.668577     0.001929     0.003349     0.005289     0.014023  \n",
       "75%       0.670158     0.002018     0.003359     0.008365     0.024192  \n",
       "max       1.943626   121.284553     0.108546    20.280861    62.371024  \n",
       "\n",
       "[8 rows x 37 columns]"
      ]
     },
     "execution_count": 22,
     "metadata": {},
     "output_type": "execute_result"
    }
   ],
   "source": [
    "Xtest_norm.describe()"
   ]
  },
  {
   "cell_type": "markdown",
   "metadata": {
    "id": "tupWwybys-bk",
    "tags": []
   },
   "source": [
    "## 2. Optimisation and learning"
   ]
  },
  {
   "cell_type": "markdown",
   "metadata": {
    "id": "oLlxgI2Ss-bg",
    "tags": []
   },
   "source": [
    "Bankruptcy probability prediction\n",
    "\n",
    "For each instance *i*, the model has to return the estimated probability $\\hat{p}^{(i)}$ that the firm will go bankrupt conditional on the corresponding vector of features $x^{(i)}$.\n",
    "\n",
    "The prediction wil be made using the logistic function. With the logistic function, conditional probabilities are computed as follows\n",
    "\n",
    "\\begin{equation}\n",
    "    \\left\\{\n",
    "    \\begin{array}{ll}\n",
    "        \\hat{p}\\left( y^{(i)} = 1 | \\omega, b, x^{(i)} \\right) & = \\sigma\\left(\\omega^{T} x^i + b\\right) \\\\\n",
    "        \\hat{p}\\left( y^{(i)} = 0 | \\omega, b, x^{(i)} \\right) & = 1 - \\sigma\\left(\\omega^{T} x^i + b\\right)\n",
    "    \\end{array}\n",
    "    \\right.\n",
    "\\end{equation}\n",
    "where:\n",
    "\n",
    "- $x^{(i)}$ is a column vector with 37 components (number of remaining features);\n",
    "- $w$ is a column vector of $n=37$ weights (coefficients);\n",
    "- $b$ is a bias term (intercept/constant);\n",
    "- $\\sigma$ is the logistic function, i.e. $\\sigma(t) = \\frac{1}{\\left(1+\\exp(-t)\\right)}$."
   ]
  },
  {
   "cell_type": "markdown",
   "metadata": {
    "tags": []
   },
   "source": [
    "### 2.1 Class prediction"
   ]
  },
  {
   "cell_type": "markdown",
   "metadata": {
    "id": "oLlxgI2Ss-bg",
    "tags": []
   },
   "source": [
    "The prediction rule is as follows:\n",
    "\\begin{equation}\n",
    "    \\hat{y}^{(i)} = \\left\\{\n",
    "    \\begin{array}{ll}\n",
    "        0 & \\mbox{ if } \\hat{p}^{(i)} < 0.5 \\\\\n",
    "        1 & \\mbox{ if } \\hat{p}^{(i)} \\geq 0.5\n",
    "    \\end{array}\n",
    "    \\right.\n",
    "\\end{equation}\n",
    "\n",
    "Replacing $\\hat{p}^{(i)}$ by its expression as computed using the logistic function we get the following:\n",
    "<img src=\"Logistic-Function.png\" width=50%>"
   ]
  },
  {
   "cell_type": "markdown",
   "metadata": {
    "id": "oLlxgI2Ss-bg",
    "tags": []
   },
   "source": [
    "### 2.2 Cost function"
   ]
  },
  {
   "cell_type": "markdown",
   "metadata": {},
   "source": [
    "Training the model aims at determining the $\\omega$ and $b$ values such that the model estimates a high $\\hat{p}^{(i)}$ value when $y^{(i)}=1$ and a low $\\hat{p}^{(i)}$ value when $y^{(i)}=0$\n",
    "\n",
    "This is achieved by defining a cost function $F(\\omega,b)$ which, for example $i$, is computed as:\n",
    "\\begin{equation}\n",
    "    F^{(i)}(\\omega,b) = \\left\\{\n",
    "    \\begin{array}{ll}\n",
    "        -log(\\hat{p}^{(i)}) & \\mbox{ if } y^{(i)} = 1 \\\\\n",
    "        -log(1 - \\hat{p}^{(i)}) & \\mbox{ if } y^{(i)} = 0\n",
    "    \\end{array}\n",
    "    \\right.\n",
    "\\end{equation}\n",
    "For a set of $m$ instances (or a batch of size $m$), the cost expresses:\n",
    "$$ F(\\omega,b) = - \\frac{1}{m}\\sum^{m}_{i=1} y^{(i)} \\log \\left[ \\sigma \\left(\\omega^T x^{(i)} + b \\right) \\right]+ (1 - y^{(i)}) \\log \\left[ 1 - \\sigma \\left( \\omega^T x^{(i)} + b \\right) \\right]$$"
   ]
  },
  {
   "cell_type": "markdown",
   "metadata": {},
   "source": [
    "We can check that the total cost increases with errors:\n",
    "\n",
    "- if the model predicts a low $\\hat{p}^{(i)}$ probability of bankruptcy for fimr $i$ whereas it goes bankrupt, i.e. when $y^{(i)} = 1$, $- y^{(i)}\\log\\left(\\hat{p}^{(i)} \\right)$ is large;\n",
    "- if the model predicts a large $\\hat{p}^{(i)}$ probability of bankruptcy for fimr $i$ whereas it survives, i.e. when $y^{(i)} = 0$, $- (1 - y^{(i)})\\log \\left(1 - \\hat{p}^{(i)} \\right)$ is large."
   ]
  },
  {
   "cell_type": "markdown",
   "metadata": {},
   "source": [
    "**Note:** the cost function is the opposite of the log-likelihood:\n",
    "\n",
    "- Assuming indepedence observations, the likelihood of observing the sample is:\n",
    "\\begin{eqnarray*}\n",
    "    L(\\omega,b) & = & \\prod^{m}_{i=1} Pr\\left( Y = y^{(i)} | X = x^{(i)}\\right) \\\\\n",
    "    & = & \\prod^{m}_{i=1} \\sigma\\left(\\omega^T x^{(i)} + b \\right)^{y^{(i)}} . \\left(1 - \\sigma\\left(\\omega^T x^{(i)} + b \\right)\\right)^{(1-y^{(i)})}  \n",
    "\\end{eqnarray*}\n",
    "    \n",
    "- Therefore the expression for the log-likelihood is\n",
    "$$ LL(\\omega,b) = \\sum^{m}_{i=1} y^{(i)} \\log \\left[ \\sigma \\left(\\omega^T x^{(i)} + b \\right) \\right] + (1 - y^{(i)}) \\log \\left[ 1 - \\sigma \\left( \\omega^T x^{(i)} + b \\right) \\right]$$"
   ]
  },
  {
   "cell_type": "markdown",
   "metadata": {
    "id": "oLlxgI2Ss-bg",
    "tags": []
   },
   "source": [
    "***Def:*** The gradient of f: $\\mathbb{R}^{n} \\mapsto \\mathbb{R}$ is $$\\nabla f (x)=\\begin{bmatrix}\n",
    "\\frac{\\partial f}{\\partial x_1} \\\\ \n",
    "\\vdots \\\\\n",
    "\\frac{\\partial f}{\\partial x_n} \n",
    "\\end{bmatrix} \\in \\mathbb{R}^{n} $$\n",
    "i.e., a vector that gathers the partial derivatives of f. "
   ]
  },
  {
   "cell_type": "markdown",
   "metadata": {
    "id": "l0w7wNG1cYDv"
   },
   "source": [
    "### 2.3 Compute gradient with JAX framework"
   ]
  },
  {
   "cell_type": "code",
   "execution_count": 19,
   "metadata": {
    "id": "Hsz0G4pRcb-F"
   },
   "outputs": [],
   "source": [
    "import jax.numpy as jnp\n",
    "from jax import grad\n",
    "\n",
    "def jnp_sigmoid(x):\n",
    "    return 1 / (1 + jnp.exp(-x))\n",
    "\n",
    "# Computes our network's output\n",
    "def reg_logistic(params, x):\n",
    "    w, b = params\n",
    "    return jnp_sigmoid(jnp.dot(w, x) + b)\n",
    "\n",
    "# Cross-entropy loss\n",
    "def cost(params, x, y):\n",
    "    out = reg_logistic(params, x)\n",
    "    cross_entropy = -y * jnp.log(out) - (1 - y)*jnp.log(1 - out)\n",
    "    return cross_entropy[0]\n",
    "\n",
    "# compute loss gradient\n",
    "loss_grad = grad(cost)\n",
    "\n",
    "def prediction(params,x):\n",
    "    w, b = params\n",
    "    out = jnp_sigmoid(np.dot(w,x)+b)\n",
    "    if out >= .5:\n",
    "        return 1\n",
    "    else:\n",
    "        return 0"
   ]
  },
  {
   "cell_type": "markdown",
   "metadata": {
    "id": "oLlxgI2Ss-bg",
    "tags": []
   },
   "source": [
    "#### 2.3.2 Algorithm to find the minimal cost : Gradient Descent"
   ]
  },
  {
   "cell_type": "markdown",
   "metadata": {
    "id": "oLlxgI2Ss-bg",
    "tags": []
   },
   "source": [
    "<img src=\"Gradient_Descent.png\" width=50%>"
   ]
  },
  {
   "cell_type": "markdown",
   "metadata": {
    "id": "oLlxgI2Ss-bg",
    "tags": []
   },
   "source": [
    "##### 2.3.2.1 Batch Gradient Descent"
   ]
  },
  {
   "cell_type": "markdown",
   "metadata": {},
   "source": [
    "In batch gradient descent, parameters are updated using the full training set at every step\n",
    "\n",
    "Gradient descent algorithm:\n",
    "1. Initialize $\\omega$ components and $b$ with random values\n",
    "2. Iterate until convergence to minimum cost (or other stopping criterion):\n",
    "    1. For all $j \\in [1,n]: \\omega_j := w_j - \\eta \\frac{\\partial}{\\partial \\omega_j} J(\\omega,b)$\n",
    "    2. $b := b -\\eta \\frac{\\partial}{\\partial b} J(\\omega,b)$\n",
    "where $\\eta$ is call the learning rate. It determines the size of the downhill step\n",
    "\n",
    "As $\\eta$ is at the discretion of the modeler, it is a hyperparameter of the model:\n",
    "- If it is too small, convergence will be slow and potentiall will not be reached;\n",
    "- If it is too high, the parameter values may bounce around their 'true' value and potentially the algorithm may diverge.\n",
    "\n",
    "<img src=\"Batch_Gradient_Descent.png\" width=70%>\n",
    "\n",
    "The number of iterations is another parameter that is at the discretion of the modeler\n",
    "- If the number of iterations is too low, the model will not have enough steps to reach the minimul cost;\n",
    "- If it is too high, there will ne unneccessary steps when the gradient value is near 0."
   ]
  },
  {
   "cell_type": "code",
   "execution_count": null,
   "metadata": {
    "id": "773sjwqWs-bl"
   },
   "outputs": [
    {
     "name": "stdout",
     "output_type": "stream",
     "text": [
      "loss epoch 0 : 0.6947355\n",
      "loss epoch 10 : 0.6913588\n",
      "loss epoch 20 : 0.68982583\n",
      "loss epoch 30 : 0.7279116\n",
      "loss epoch 40 : 0.70077795\n"
     ]
    }
   ],
   "source": [
    "eta = 0.01\n",
    "loss_list=[]\n",
    "np.random.seed(42)\n",
    "# random initialization of w and b\n",
    "w = np.random.uniform(low=-1, high=1, size=Xtrain_norm.shape[1]) \n",
    "b = np.random.uniform(low=-1, high=1, size=1)\n",
    "params=[w,b]\n",
    "for epoch in range(100):\n",
    "    # Shuffle randomly Xtrain_norm\n",
    "    Xtrain_rand = Xtrain_norm.sample(frac=1)\n",
    "    # Reorder Ytrain in the same order as Xtrain_rand\n",
    "    Ytrain_rand = Ytrain.reindex(Xtrain_rand.index)\n",
    "    for i in range(Xtrain_rand.shape[0]):\n",
    "        x = Xtrain_rand.iloc[i,:]\n",
    "        y = Ytrain_rand.iloc[i]\n",
    "        grad_w = loss_grad(params, jnp.array(x), jnp.array(y))[0]\n",
    "        grad_b =  loss_grad(params, jnp.array(x), jnp.array(y))[1]\n",
    "        w -=eta * grad_w\n",
    "        b -=eta * grad_b\n",
    "        params=[w,b]\n",
    "    loss = 0\n",
    "    for i in range(Xtrain_rand.shape[0]):\n",
    "        x = Xtrain_rand.iloc[i,:]\n",
    "        y = Ytrain_rand.iloc[i]\n",
    "        loss += cost(params,jnp.array(x),jnp.array(y))\n",
    "    loss = loss / Xtrain_rand.shape[0]\n",
    "    loss_list.append(loss)\n",
    "    if epoch % 10 == 0:\n",
    "        print(\"loss epoch\", epoch, \":\", loss)\n",
    "print(\"loss epoch\", epoch, \":\", loss)\n",
    "print(\"\\nfinished\\n\")"
   ]
  },
  {
   "cell_type": "markdown",
   "metadata": {
    "id": "oXUmDppps-bl"
   },
   "source": [
    "Evolution of loss (cost) through epochs"
   ]
  },
  {
   "cell_type": "code",
   "execution_count": null,
   "metadata": {
    "id": "hEWPvWDes-bl",
    "scrolled": true
   },
   "outputs": [],
   "source": [
    "epoch = np.arange(len(loss_list))\n",
    "plt.plot(epoch, loss_list)"
   ]
  },
  {
   "cell_type": "markdown",
   "metadata": {},
   "source": [
    "**Accuracy**\n",
    "\n",
    "Accuracy (on the train set) corresponds to the ratio of correct predictions divided by the number of instances."
   ]
  },
  {
   "cell_type": "markdown",
   "metadata": {
    "id": "dVcJ4Ufzs-bl"
   },
   "source": [
    "**Task 10**: Code the computation of the accuracy on the train set."
   ]
  },
  {
   "cell_type": "code",
   "execution_count": null,
   "metadata": {
    "id": "wldnZkuRs-bl"
   },
   "outputs": [],
   "source": [
    "count_ok = 0\n",
    "for i in range(Xtrain_norm.shape[0]):\n",
    "        x = Xtrain_norm.iloc[i,:]\n",
    "        y = Ytrain.iloc[i]\n",
    "        params=[w,b]\n",
    "        if prediction(params,x) == y:\n",
    "            count_ok += 1\n",
    "print(\"accuracy:{:.2f}%\".format(100 * count_ok/Xtrain_norm.shape[0]))"
   ]
  },
  {
   "cell_type": "markdown",
   "metadata": {
    "id": "jgJta610s-bm"
   },
   "source": [
    "Weights ($\\omega$)"
   ]
  },
  {
   "cell_type": "code",
   "execution_count": 95,
   "metadata": {
    "id": "5kqwKDrXs-bm"
   },
   "outputs": [
    {
     "data": {
      "text/plain": [
       "<AxesSubplot:>"
      ]
     },
     "execution_count": 95,
     "metadata": {},
     "output_type": "execute_result"
    },
    {
     "data": {
      "text/plain": [
       "<Figure size 1600x400 with 0 Axes>"
      ]
     },
     "metadata": {},
     "output_type": "display_data"
    },
    {
     "data": {
      "image/png": "[encoded data removed]",
      "text/plain": [
       "<Figure size 640x480 with 1 Axes>"
      ]
     },
     "metadata": {},
     "output_type": "display_data"
    }
   ],
   "source": [
    "plt.figure(figsize=(16,4))\n",
    "w=pd.DataFrame(w)\n",
    "w.plot.bar()"
   ]
  },
  {
   "cell_type": "code",
   "execution_count": 79,
   "metadata": {
    "id": "5nUB939xs-bn"
   },
   "outputs": [],
   "source": [
    "# vectorized version of prediction accuracy\n",
    "def accuracy(X, Y, w, b):\n",
    "    pred = (jnp_sigmoid(np.dot(X, w)+b)>=0.5)\n",
    "    check = (pred==Y)\n",
    "    return check.sum()/len(pred)"
   ]
  },
  {
   "cell_type": "code",
   "execution_count": 73,
   "metadata": {
    "id": "rIx-_r1us-bo"
   },
   "outputs": [
    {
     "name": "stdout",
     "output_type": "stream",
     "text": [
      "accuracy: 52.36%\n"
     ]
    }
   ],
   "source": [
    "print(\"accuracy: {:.2f}%\".format(100 * accuracy(Xtrain_norm, Ytrain, w, b)))"
   ]
  },
  {
   "cell_type": "markdown",
   "metadata": {
    "id": "lPZgjR22s-bo",
    "tags": []
   },
   "source": [
    "## 3. How good is our model?"
   ]
  },
  {
   "cell_type": "code",
   "execution_count": 74,
   "metadata": {
    "id": "KRisxG9Ls-bo"
   },
   "outputs": [
    {
     "name": "stdout",
     "output_type": "stream",
     "text": [
      "accuracy:93.24%\n"
     ]
    }
   ],
   "source": [
    "# insert your code here\n",
    "print(\"accuracy:{:.2f}%\".format(100 * accuracy(Xtest_norm, Ytest, w, b)))"
   ]
  },
  {
   "cell_type": "markdown",
   "metadata": {
    "id": "wvvteT6rs-bo",
    "tags": []
   },
   "source": [
    "## 4. Save train and test non-normalized datasets"
   ]
  },
  {
   "cell_type": "code",
   "execution_count": 39,
   "metadata": {
    "id": "aDNF_ic4s-bp"
   },
   "outputs": [],
   "source": [
    "trainset = pd.concat([Xtrain, Ytrain], axis = 1)\n",
    "testset = pd.concat([Xtest, Ytest], axis = 1)\n",
    "trainset.to_csv(\"trainset_2.csv\", header=True, index=False)\n",
    "testset.to_csv(\"testset_2.csv\", header=True, index=False)"
   ]
  }
 ],
 "metadata": {
  "colab": {
   "collapsed_sections": [],
   "name": "Bankruptcy - Part 1.ipynb",
   "provenance": [],
   "toc_visible": true
  },
  "kernelspec": {
   "display_name": "Python 3 (ipykernel)",
   "language": "python",
   "name": "python3"
  },
  "language_info": {
   "codemirror_mode": {
    "name": "ipython",
    "version": 3
   },
   "file_extension": ".py",
   "mimetype": "text/x-python",
   "name": "python",
   "nbconvert_exporter": "python",
   "pygments_lexer": "ipython3",
   "version": "3.10.7"
  }
 },
 "nbformat": 4,
 "nbformat_minor": 4
}
