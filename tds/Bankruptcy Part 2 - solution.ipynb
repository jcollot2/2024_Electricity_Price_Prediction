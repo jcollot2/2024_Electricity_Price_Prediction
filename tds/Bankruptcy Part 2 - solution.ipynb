{
 "cells": [
  {
   "cell_type": "markdown",
   "metadata": {},
   "source": [
    "## 0. Import packages"
   ]
  },
  {
   "cell_type": "code",
   "execution_count": 1,
   "metadata": {},
   "outputs": [],
   "source": [
    "import pandas as pd, numpy as np\n",
    "import matplotlib.pyplot as plt"
   ]
  },
  {
   "cell_type": "markdown",
   "metadata": {},
   "source": [
    "## 1. Data preparation"
   ]
  },
  {
   "cell_type": "markdown",
   "metadata": {},
   "source": [
    "### 1.1 Import data"
   ]
  },
  {
   "cell_type": "code",
   "execution_count": 2,
   "metadata": {},
   "outputs": [],
   "source": [
    "path = \"F:/Dropbox/Dauphine-SDFi/MyNotebook_Jupyter/DataScience_IEF/MyCodes/TP_bankruptcy/\""
   ]
  },
  {
   "cell_type": "code",
   "execution_count": 3,
   "metadata": {},
   "outputs": [],
   "source": [
    "trainset = pd.read_csv(path + \"trainset_2.csv\")\n",
    "testset = pd.read_csv(path + \"testset_2.csv\")"
   ]
  },
  {
   "cell_type": "markdown",
   "metadata": {},
   "source": [
    "### 1.2. Separate features from labels"
   ]
  },
  {
   "cell_type": "code",
   "execution_count": 4,
   "metadata": {},
   "outputs": [],
   "source": [
    "Xtrain, Ytrain = trainset.iloc[:,:-1], trainset.iloc[:,-1]\n",
    "Xtest, Ytest = testset.iloc[:,:-1], testset.iloc[:,-1]"
   ]
  },
  {
   "cell_type": "markdown",
   "metadata": {},
   "source": [
    "### 1.3. Features normalization "
   ]
  },
  {
   "cell_type": "code",
   "execution_count": 5,
   "metadata": {},
   "outputs": [
    {
     "data": {
      "text/plain": [
       "(9496, 37)"
      ]
     },
     "execution_count": 5,
     "metadata": {},
     "output_type": "execute_result"
    }
   ],
   "source": [
    "Xtest.shape"
   ]
  },
  {
   "cell_type": "code",
   "execution_count": 6,
   "metadata": {},
   "outputs": [],
   "source": [
    "from sklearn.preprocessing import MinMaxScaler\n",
    "scaler = MinMaxScaler() #instantiation of MinMaxScaler\n",
    "scaler.fit(Xtrain)\n",
    "Xtrain_norm = scaler.transform(Xtrain)\n",
    "Xtest_norm = scaler.transform(Xtest)"
   ]
  },
  {
   "cell_type": "code",
   "execution_count": 7,
   "metadata": {},
   "outputs": [
    {
     "data": {
      "text/html": [
       "<div>\n",
       "<style scoped>\n",
       "    .dataframe tbody tr th:only-of-type {\n",
       "        vertical-align: middle;\n",
       "    }\n",
       "\n",
       "    .dataframe tbody tr th {\n",
       "        vertical-align: top;\n",
       "    }\n",
       "\n",
       "    .dataframe thead th {\n",
       "        text-align: right;\n",
       "    }\n",
       "</style>\n",
       "<table border=\"1\" class=\"dataframe\">\n",
       "  <thead>\n",
       "    <tr style=\"text-align: right;\">\n",
       "      <th></th>\n",
       "      <th>0</th>\n",
       "      <th>1</th>\n",
       "      <th>2</th>\n",
       "      <th>3</th>\n",
       "      <th>4</th>\n",
       "      <th>5</th>\n",
       "      <th>6</th>\n",
       "      <th>7</th>\n",
       "      <th>8</th>\n",
       "      <th>9</th>\n",
       "      <th>...</th>\n",
       "      <th>45</th>\n",
       "      <th>47</th>\n",
       "      <th>49</th>\n",
       "      <th>50</th>\n",
       "      <th>54</th>\n",
       "      <th>56</th>\n",
       "      <th>57</th>\n",
       "      <th>58</th>\n",
       "      <th>60</th>\n",
       "      <th>62</th>\n",
       "    </tr>\n",
       "  </thead>\n",
       "  <tbody>\n",
       "    <tr>\n",
       "      <th>0</th>\n",
       "      <td>0.006970</td>\n",
       "      <td>0.96702</td>\n",
       "      <td>-0.084242</td>\n",
       "      <td>0.871750</td>\n",
       "      <td>-77.92</td>\n",
       "      <td>0.006970</td>\n",
       "      <td>0.009488</td>\n",
       "      <td>0.032932</td>\n",
       "      <td>1.01740</td>\n",
       "      <td>0.031846</td>\n",
       "      <td>...</td>\n",
       "      <td>0.49227</td>\n",
       "      <td>-0.021093</td>\n",
       "      <td>0.592140</td>\n",
       "      <td>0.65686</td>\n",
       "      <td>-1801.0</td>\n",
       "      <td>0.218880</td>\n",
       "      <td>0.982920</td>\n",
       "      <td>9.73940</td>\n",
       "      <td>5.15050</td>\n",
       "      <td>2.49330</td>\n",
       "    </tr>\n",
       "    <tr>\n",
       "      <th>1</th>\n",
       "      <td>-0.367010</td>\n",
       "      <td>1.11910</td>\n",
       "      <td>-0.634750</td>\n",
       "      <td>0.432820</td>\n",
       "      <td>-422.30</td>\n",
       "      <td>-0.367010</td>\n",
       "      <td>-0.367010</td>\n",
       "      <td>-0.259070</td>\n",
       "      <td>0.69575</td>\n",
       "      <td>-0.289940</td>\n",
       "      <td>...</td>\n",
       "      <td>0.12887</td>\n",
       "      <td>-0.395620</td>\n",
       "      <td>0.432820</td>\n",
       "      <td>1.11910</td>\n",
       "      <td>-9589.2</td>\n",
       "      <td>1.265800</td>\n",
       "      <td>1.437300</td>\n",
       "      <td>0.00000</td>\n",
       "      <td>7.51890</td>\n",
       "      <td>0.60235</td>\n",
       "    </tr>\n",
       "    <tr>\n",
       "      <th>2</th>\n",
       "      <td>7.372700</td>\n",
       "      <td>480.96000</td>\n",
       "      <td>-479.960000</td>\n",
       "      <td>0.002079</td>\n",
       "      <td>-146150.00</td>\n",
       "      <td>-508.410000</td>\n",
       "      <td>7.372700</td>\n",
       "      <td>-0.997810</td>\n",
       "      <td>0.16355</td>\n",
       "      <td>-479.910000</td>\n",
       "      <td>...</td>\n",
       "      <td>0.00018</td>\n",
       "      <td>-0.073598</td>\n",
       "      <td>0.002079</td>\n",
       "      <td>480.96000</td>\n",
       "      <td>-4108.4</td>\n",
       "      <td>-0.015363</td>\n",
       "      <td>0.138120</td>\n",
       "      <td>0.00000</td>\n",
       "      <td>0.17903</td>\n",
       "      <td>0.00034</td>\n",
       "    </tr>\n",
       "    <tr>\n",
       "      <th>3</th>\n",
       "      <td>0.034089</td>\n",
       "      <td>0.50231</td>\n",
       "      <td>0.011212</td>\n",
       "      <td>1.028700</td>\n",
       "      <td>-695.29</td>\n",
       "      <td>-0.008868</td>\n",
       "      <td>0.041860</td>\n",
       "      <td>0.990800</td>\n",
       "      <td>0.76963</td>\n",
       "      <td>0.497690</td>\n",
       "      <td>...</td>\n",
       "      <td>0.05439</td>\n",
       "      <td>0.072659</td>\n",
       "      <td>0.799850</td>\n",
       "      <td>0.39056</td>\n",
       "      <td>818.0</td>\n",
       "      <td>0.068494</td>\n",
       "      <td>0.074533</td>\n",
       "      <td>0.20901</td>\n",
       "      <td>2.22550</td>\n",
       "      <td>1.97060</td>\n",
       "    </tr>\n",
       "    <tr>\n",
       "      <th>4</th>\n",
       "      <td>0.029970</td>\n",
       "      <td>0.66806</td>\n",
       "      <td>0.066243</td>\n",
       "      <td>1.110300</td>\n",
       "      <td>-105.55</td>\n",
       "      <td>0.029970</td>\n",
       "      <td>0.038888</td>\n",
       "      <td>0.482740</td>\n",
       "      <td>1.02920</td>\n",
       "      <td>0.322500</td>\n",
       "      <td>...</td>\n",
       "      <td>0.49611</td>\n",
       "      <td>0.003671</td>\n",
       "      <td>0.997870</td>\n",
       "      <td>0.60040</td>\n",
       "      <td>3952.0</td>\n",
       "      <td>0.092931</td>\n",
       "      <td>0.971620</td>\n",
       "      <td>0.20982</td>\n",
       "      <td>3.94560</td>\n",
       "      <td>1.89880</td>\n",
       "    </tr>\n",
       "  </tbody>\n",
       "</table>\n",
       "<p>5 rows × 37 columns</p>\n",
       "</div>"
      ],
      "text/plain": [
       "          0          1           2         3          4           5         6  \\\n",
       "0  0.006970    0.96702   -0.084242  0.871750     -77.92    0.006970  0.009488   \n",
       "1 -0.367010    1.11910   -0.634750  0.432820    -422.30   -0.367010 -0.367010   \n",
       "2  7.372700  480.96000 -479.960000  0.002079 -146150.00 -508.410000  7.372700   \n",
       "3  0.034089    0.50231    0.011212  1.028700    -695.29   -0.008868  0.041860   \n",
       "4  0.029970    0.66806    0.066243  1.110300    -105.55    0.029970  0.038888   \n",
       "\n",
       "          7        8           9  ...       45        47        49         50  \\\n",
       "0  0.032932  1.01740    0.031846  ...  0.49227 -0.021093  0.592140    0.65686   \n",
       "1 -0.259070  0.69575   -0.289940  ...  0.12887 -0.395620  0.432820    1.11910   \n",
       "2 -0.997810  0.16355 -479.910000  ...  0.00018 -0.073598  0.002079  480.96000   \n",
       "3  0.990800  0.76963    0.497690  ...  0.05439  0.072659  0.799850    0.39056   \n",
       "4  0.482740  1.02920    0.322500  ...  0.49611  0.003671  0.997870    0.60040   \n",
       "\n",
       "       54        56        57       58       60       62  \n",
       "0 -1801.0  0.218880  0.982920  9.73940  5.15050  2.49330  \n",
       "1 -9589.2  1.265800  1.437300  0.00000  7.51890  0.60235  \n",
       "2 -4108.4 -0.015363  0.138120  0.00000  0.17903  0.00034  \n",
       "3   818.0  0.068494  0.074533  0.20901  2.22550  1.97060  \n",
       "4  3952.0  0.092931  0.971620  0.20982  3.94560  1.89880  \n",
       "\n",
       "[5 rows x 37 columns]"
      ]
     },
     "execution_count": 7,
     "metadata": {},
     "output_type": "execute_result"
    }
   ],
   "source": [
    "Xtrain.head()"
   ]
  },
  {
   "cell_type": "code",
   "execution_count": 8,
   "metadata": {},
   "outputs": [
    {
     "data": {
      "text/html": [
       "<div>\n",
       "<style scoped>\n",
       "    .dataframe tbody tr th:only-of-type {\n",
       "        vertical-align: middle;\n",
       "    }\n",
       "\n",
       "    .dataframe tbody tr th {\n",
       "        vertical-align: top;\n",
       "    }\n",
       "\n",
       "    .dataframe thead th {\n",
       "        text-align: right;\n",
       "    }\n",
       "</style>\n",
       "<table border=\"1\" class=\"dataframe\">\n",
       "  <thead>\n",
       "    <tr style=\"text-align: right;\">\n",
       "      <th></th>\n",
       "      <th>0</th>\n",
       "      <th>1</th>\n",
       "      <th>2</th>\n",
       "      <th>3</th>\n",
       "      <th>4</th>\n",
       "      <th>5</th>\n",
       "      <th>6</th>\n",
       "      <th>7</th>\n",
       "      <th>8</th>\n",
       "      <th>9</th>\n",
       "      <th>...</th>\n",
       "      <th>27</th>\n",
       "      <th>28</th>\n",
       "      <th>29</th>\n",
       "      <th>30</th>\n",
       "      <th>31</th>\n",
       "      <th>32</th>\n",
       "      <th>33</th>\n",
       "      <th>34</th>\n",
       "      <th>35</th>\n",
       "      <th>36</th>\n",
       "    </tr>\n",
       "  </thead>\n",
       "  <tbody>\n",
       "    <tr>\n",
       "      <th>count</th>\n",
       "      <td>592.000000</td>\n",
       "      <td>592.000000</td>\n",
       "      <td>592.000000</td>\n",
       "      <td>592.000000</td>\n",
       "      <td>592.000000</td>\n",
       "      <td>592.000000</td>\n",
       "      <td>592.000000</td>\n",
       "      <td>592.000000</td>\n",
       "      <td>592.000000</td>\n",
       "      <td>592.000000</td>\n",
       "      <td>...</td>\n",
       "      <td>592.000000</td>\n",
       "      <td>592.000000</td>\n",
       "      <td>592.000000</td>\n",
       "      <td>592.000000</td>\n",
       "      <td>592.000000</td>\n",
       "      <td>592.000000</td>\n",
       "      <td>592.000000</td>\n",
       "      <td>592.000000</td>\n",
       "      <td>592.000000</td>\n",
       "      <td>592.000000</td>\n",
       "    </tr>\n",
       "    <tr>\n",
       "      <th>mean</th>\n",
       "      <td>0.481282</td>\n",
       "      <td>0.002991</td>\n",
       "      <td>0.996467</td>\n",
       "      <td>0.008630</td>\n",
       "      <td>0.863397</td>\n",
       "      <td>0.996509</td>\n",
       "      <td>0.482139</td>\n",
       "      <td>0.007564</td>\n",
       "      <td>0.082349</td>\n",
       "      <td>0.996968</td>\n",
       "      <td>...</td>\n",
       "      <td>0.006834</td>\n",
       "      <td>0.893608</td>\n",
       "      <td>0.007446</td>\n",
       "      <td>0.002721</td>\n",
       "      <td>0.329138</td>\n",
       "      <td>0.666540</td>\n",
       "      <td>0.003738</td>\n",
       "      <td>0.005054</td>\n",
       "      <td>0.012981</td>\n",
       "      <td>0.019617</td>\n",
       "    </tr>\n",
       "    <tr>\n",
       "      <th>std</th>\n",
       "      <td>0.037678</td>\n",
       "      <td>0.041059</td>\n",
       "      <td>0.041035</td>\n",
       "      <td>0.057941</td>\n",
       "      <td>0.036116</td>\n",
       "      <td>0.041206</td>\n",
       "      <td>0.037993</td>\n",
       "      <td>0.052363</td>\n",
       "      <td>0.079331</td>\n",
       "      <td>0.041057</td>\n",
       "      <td>...</td>\n",
       "      <td>0.053981</td>\n",
       "      <td>0.050870</td>\n",
       "      <td>0.057721</td>\n",
       "      <td>0.041068</td>\n",
       "      <td>0.034869</td>\n",
       "      <td>0.044351</td>\n",
       "      <td>0.041095</td>\n",
       "      <td>0.040963</td>\n",
       "      <td>0.056715</td>\n",
       "      <td>0.046642</td>\n",
       "    </tr>\n",
       "    <tr>\n",
       "      <th>min</th>\n",
       "      <td>0.000000</td>\n",
       "      <td>0.000000</td>\n",
       "      <td>0.000000</td>\n",
       "      <td>0.000000</td>\n",
       "      <td>0.000000</td>\n",
       "      <td>0.000000</td>\n",
       "      <td>0.000000</td>\n",
       "      <td>0.000000</td>\n",
       "      <td>0.000000</td>\n",
       "      <td>0.000000</td>\n",
       "      <td>...</td>\n",
       "      <td>0.000000</td>\n",
       "      <td>0.000000</td>\n",
       "      <td>0.000000</td>\n",
       "      <td>0.000000</td>\n",
       "      <td>0.000000</td>\n",
       "      <td>0.000000</td>\n",
       "      <td>0.000000</td>\n",
       "      <td>0.000000</td>\n",
       "      <td>0.000000</td>\n",
       "      <td>0.000000</td>\n",
       "    </tr>\n",
       "    <tr>\n",
       "      <th>25%</th>\n",
       "      <td>0.479030</td>\n",
       "      <td>0.000716</td>\n",
       "      <td>0.997831</td>\n",
       "      <td>0.002016</td>\n",
       "      <td>0.864279</td>\n",
       "      <td>0.998468</td>\n",
       "      <td>0.479043</td>\n",
       "      <td>0.001865</td>\n",
       "      <td>0.044584</td>\n",
       "      <td>0.998330</td>\n",
       "      <td>...</td>\n",
       "      <td>0.001045</td>\n",
       "      <td>0.888345</td>\n",
       "      <td>0.001530</td>\n",
       "      <td>0.000528</td>\n",
       "      <td>0.325430</td>\n",
       "      <td>0.667453</td>\n",
       "      <td>0.001809</td>\n",
       "      <td>0.003349</td>\n",
       "      <td>0.003537</td>\n",
       "      <td>0.007220</td>\n",
       "    </tr>\n",
       "    <tr>\n",
       "      <th>50%</th>\n",
       "      <td>0.482286</td>\n",
       "      <td>0.001216</td>\n",
       "      <td>0.998209</td>\n",
       "      <td>0.002913</td>\n",
       "      <td>0.864551</td>\n",
       "      <td>0.998484</td>\n",
       "      <td>0.482832</td>\n",
       "      <td>0.002529</td>\n",
       "      <td>0.053410</td>\n",
       "      <td>0.998756</td>\n",
       "      <td>...</td>\n",
       "      <td>0.001753</td>\n",
       "      <td>0.895733</td>\n",
       "      <td>0.002323</td>\n",
       "      <td>0.000873</td>\n",
       "      <td>0.326324</td>\n",
       "      <td>0.668209</td>\n",
       "      <td>0.001964</td>\n",
       "      <td>0.003349</td>\n",
       "      <td>0.005467</td>\n",
       "      <td>0.011560</td>\n",
       "    </tr>\n",
       "    <tr>\n",
       "      <th>75%</th>\n",
       "      <td>0.488296</td>\n",
       "      <td>0.001646</td>\n",
       "      <td>0.998581</td>\n",
       "      <td>0.005008</td>\n",
       "      <td>0.864829</td>\n",
       "      <td>0.998513</td>\n",
       "      <td>0.489437</td>\n",
       "      <td>0.004240</td>\n",
       "      <td>0.102399</td>\n",
       "      <td>0.999230</td>\n",
       "      <td>...</td>\n",
       "      <td>0.003332</td>\n",
       "      <td>0.906329</td>\n",
       "      <td>0.003737</td>\n",
       "      <td>0.001343</td>\n",
       "      <td>0.328613</td>\n",
       "      <td>0.669941</td>\n",
       "      <td>0.002034</td>\n",
       "      <td>0.003362</td>\n",
       "      <td>0.008594</td>\n",
       "      <td>0.020763</td>\n",
       "    </tr>\n",
       "    <tr>\n",
       "      <th>max</th>\n",
       "      <td>1.000000</td>\n",
       "      <td>1.000000</td>\n",
       "      <td>1.000000</td>\n",
       "      <td>1.000000</td>\n",
       "      <td>1.000000</td>\n",
       "      <td>1.000000</td>\n",
       "      <td>1.000000</td>\n",
       "      <td>1.000000</td>\n",
       "      <td>1.000000</td>\n",
       "      <td>1.000000</td>\n",
       "      <td>...</td>\n",
       "      <td>1.000000</td>\n",
       "      <td>1.000000</td>\n",
       "      <td>1.000000</td>\n",
       "      <td>1.000000</td>\n",
       "      <td>1.000000</td>\n",
       "      <td>1.000000</td>\n",
       "      <td>1.000000</td>\n",
       "      <td>1.000000</td>\n",
       "      <td>1.000000</td>\n",
       "      <td>1.000000</td>\n",
       "    </tr>\n",
       "  </tbody>\n",
       "</table>\n",
       "<p>8 rows × 37 columns</p>\n",
       "</div>"
      ],
      "text/plain": [
       "               0           1           2           3           4           5   \\\n",
       "count  592.000000  592.000000  592.000000  592.000000  592.000000  592.000000   \n",
       "mean     0.481282    0.002991    0.996467    0.008630    0.863397    0.996509   \n",
       "std      0.037678    0.041059    0.041035    0.057941    0.036116    0.041206   \n",
       "min      0.000000    0.000000    0.000000    0.000000    0.000000    0.000000   \n",
       "25%      0.479030    0.000716    0.997831    0.002016    0.864279    0.998468   \n",
       "50%      0.482286    0.001216    0.998209    0.002913    0.864551    0.998484   \n",
       "75%      0.488296    0.001646    0.998581    0.005008    0.864829    0.998513   \n",
       "max      1.000000    1.000000    1.000000    1.000000    1.000000    1.000000   \n",
       "\n",
       "               6           7           8           9   ...          27  \\\n",
       "count  592.000000  592.000000  592.000000  592.000000  ...  592.000000   \n",
       "mean     0.482139    0.007564    0.082349    0.996968  ...    0.006834   \n",
       "std      0.037993    0.052363    0.079331    0.041057  ...    0.053981   \n",
       "min      0.000000    0.000000    0.000000    0.000000  ...    0.000000   \n",
       "25%      0.479043    0.001865    0.044584    0.998330  ...    0.001045   \n",
       "50%      0.482832    0.002529    0.053410    0.998756  ...    0.001753   \n",
       "75%      0.489437    0.004240    0.102399    0.999230  ...    0.003332   \n",
       "max      1.000000    1.000000    1.000000    1.000000  ...    1.000000   \n",
       "\n",
       "               28          29          30          31          32          33  \\\n",
       "count  592.000000  592.000000  592.000000  592.000000  592.000000  592.000000   \n",
       "mean     0.893608    0.007446    0.002721    0.329138    0.666540    0.003738   \n",
       "std      0.050870    0.057721    0.041068    0.034869    0.044351    0.041095   \n",
       "min      0.000000    0.000000    0.000000    0.000000    0.000000    0.000000   \n",
       "25%      0.888345    0.001530    0.000528    0.325430    0.667453    0.001809   \n",
       "50%      0.895733    0.002323    0.000873    0.326324    0.668209    0.001964   \n",
       "75%      0.906329    0.003737    0.001343    0.328613    0.669941    0.002034   \n",
       "max      1.000000    1.000000    1.000000    1.000000    1.000000    1.000000   \n",
       "\n",
       "               34          35          36  \n",
       "count  592.000000  592.000000  592.000000  \n",
       "mean     0.005054    0.012981    0.019617  \n",
       "std      0.040963    0.056715    0.046642  \n",
       "min      0.000000    0.000000    0.000000  \n",
       "25%      0.003349    0.003537    0.007220  \n",
       "50%      0.003349    0.005467    0.011560  \n",
       "75%      0.003362    0.008594    0.020763  \n",
       "max      1.000000    1.000000    1.000000  \n",
       "\n",
       "[8 rows x 37 columns]"
      ]
     },
     "execution_count": 8,
     "metadata": {},
     "output_type": "execute_result"
    }
   ],
   "source": [
    "pd.DataFrame(Xtrain_norm).describe()"
   ]
  },
  {
   "cell_type": "markdown",
   "metadata": {},
   "source": [
    "## 2. Standard logistic regression\n",
    "\n",
    "It is possible to estimate logitic regression parameters in a standard way, i.e. without running (Stochastic) Gradient Descent.\n",
    "\n",
    "In that case, optimal parameter values ($\\omega$ and $b$) are found using a solver method that relies on the Broyden-Fletcher-Goldfarb-Shanno algorithm."
   ]
  },
  {
   "cell_type": "code",
   "execution_count": 9,
   "metadata": {},
   "outputs": [
    {
     "name": "stdout",
     "output_type": "stream",
     "text": [
      "0.5844594594594594\n"
     ]
    }
   ],
   "source": [
    "from sklearn.linear_model import LogisticRegression\n",
    "from sklearn.metrics import accuracy_score\n",
    "Log_clf = LogisticRegression(solver=\"lbfgs\") # Broyden–Fletcher–Goldfarb–Shanno algorithm\n",
    "Log_clf.fit(Xtrain_norm, Ytrain)\n",
    "Ypred = Log_clf.predict(Xtrain_norm)\n",
    "print(accuracy_score(Ytrain, Ypred))"
   ]
  },
  {
   "cell_type": "markdown",
   "metadata": {},
   "source": [
    "## 3. SGD Logistic - baseline model\n",
    "\n",
    "SGD logistic regression is performed using the ``SGDClassifier`` estimator\n",
    "\n",
    "The ``SGDClassifier`` estimator can implement several ML models, depending on the type of loss that is used:\n",
    "- The default loss value is 'hinge', which corresponds to SVM (Support Vector Machines)\n",
    "- To perform logistic regression, the loss value must be set to **log**.\n",
    "\n",
    "Note also that by default, the estimator uses a regularized version of the logistic loss. To avoid any regularization, the penalty parameter must be set to **none**.\n",
    "\n",
    "Finally, ``SGDClassifier`` implements a learning rate schedule. It is possible to use a constant learning rate using *learning_rate = 'constant'*. In that case, the learning rate value must be specified, e.g. *eta0=0.001*."
   ]
  },
  {
   "cell_type": "code",
   "execution_count": 10,
   "metadata": {},
   "outputs": [
    {
     "data": {
      "text/plain": [
       "0.5016891891891891"
      ]
     },
     "execution_count": 10,
     "metadata": {},
     "output_type": "execute_result"
    }
   ],
   "source": [
    "from sklearn.linear_model import SGDClassifier\n",
    "sgd_clf = SGDClassifier(random_state=42, loss='log', shuffle=True, penalty='none',\n",
    "                        learning_rate='constant', eta0=0.01)\n",
    "sgd_clf.fit(Xtrain_norm, Ytrain)\n",
    "Ypred = sgd_clf.predict(Xtrain_norm)\n",
    "accuracy_score(Ytrain, Ypred)"
   ]
  },
  {
   "cell_type": "code",
   "execution_count": 11,
   "metadata": {},
   "outputs": [
    {
     "data": {
      "text/plain": [
       "0.5641891891891891"
      ]
     },
     "execution_count": 11,
     "metadata": {},
     "output_type": "execute_result"
    }
   ],
   "source": [
    "from sklearn.linear_model import SGDClassifier\n",
    "sgd_clf = SGDClassifier(random_state=42, loss='log', shuffle=True, penalty='none')\n",
    "sgd_clf.fit(Xtrain_norm, Ytrain)\n",
    "Ypred = sgd_clf.predict(Xtrain_norm)\n",
    "accuracy_score(Ytrain, Ypred)"
   ]
  },
  {
   "cell_type": "markdown",
   "metadata": {},
   "source": [
    "### 3.1 Confusion matrix\n",
    "\n",
    "The accuracy score gives only a partial view of the classifier ability to identify healthy and bankrupt firms.\n",
    "\n",
    "To go further into the analysis one can compute the confusion matrix of the predictions.\n",
    "\n",
    "The confusion matris is a table with two rows and two columns (since we have two classes) that reports the number of true positives, true negatives, false positives, and false negatives.\n",
    "\n",
    "The Table is diplayed as follows:\n",
    "<img src=\"ConfusionMatrix.png\" width=20%>"
   ]
  },
  {
   "cell_type": "code",
   "execution_count": 11,
   "metadata": {},
   "outputs": [
    {
     "name": "stdout",
     "output_type": "stream",
     "text": [
      "[[ 67 229]\n",
      " [ 29 267]]\n"
     ]
    },
    {
     "data": {
      "text/plain": [
       "<sklearn.metrics._plot.confusion_matrix.ConfusionMatrixDisplay at 0x121b9e557c0>"
      ]
     },
     "execution_count": 11,
     "metadata": {},
     "output_type": "execute_result"
    },
    {
     "data": {
      "image/png": "[encoded data removed]",
      "text/plain": [
       "<Figure size 432x288 with 2 Axes>"
      ]
     },
     "metadata": {
      "needs_background": "light"
     },
     "output_type": "display_data"
    }
   ],
   "source": [
    "from sklearn.metrics import confusion_matrix\n",
    "from sklearn.metrics import ConfusionMatrixDisplay\n",
    "cm = confusion_matrix(Ytrain, Ypred)\n",
    "print(cm)\n",
    "ConfusionMatrixDisplay(confusion_matrix=cm,\n",
    "                       display_labels=sgd_clf.classes_).plot()"
   ]
  },
  {
   "cell_type": "markdown",
   "metadata": {},
   "source": [
    "### 3.2 Metrics"
   ]
  },
  {
   "cell_type": "code",
   "execution_count": 12,
   "metadata": {},
   "outputs": [],
   "source": [
    "from sklearn.metrics import precision_score, recall_score"
   ]
  },
  {
   "cell_type": "code",
   "execution_count": 13,
   "metadata": {},
   "outputs": [],
   "source": [
    "def print_metrics(Y_actual, Y_predicted):\n",
    "    print(\"accuracy:\", accuracy_score(Y_actual, Y_predicted))\n",
    "    print(\"precision:\", precision_score(Y_actual, Y_predicted))\n",
    "    print(\"recall:\", recall_score(Y_actual, Y_predicted))"
   ]
  },
  {
   "cell_type": "markdown",
   "metadata": {},
   "source": [
    "Accuracy and recall are quite low whereas recall is high."
   ]
  },
  {
   "cell_type": "markdown",
   "metadata": {},
   "source": [
    "### 3.3 Cross-validation metrics\n",
    "\n",
    "The various score we have obtained so far are computed using the train dataset.\n",
    "\n",
    "There is no guarantee however that these scores will be the same on the test dataset (and in rela conditions)\n",
    "\n",
    "How can we get an indication of how the model will be behave on a different set knowing that we don't want to use the test set as this stage because we would like to explore alternatives to logistic regression first and keep the best model (and hyperparameters)?\n",
    "\n",
    "One solution is to use the $k$ fold cross validation technique.\n",
    "\n",
    "In $k$-fold cross-validation, the training set is (randomly) split into $k$ smaller sets.\n",
    "\n",
    "Then the following procedure is applied for each of the $k$ folds:\n",
    "- The model\n",
    "- Then the resulting model is validated on the remaining\n",
    "\n",
    "<img src=\"CrossValidation.png\" width=40%>"
   ]
  },
  {
   "cell_type": "code",
   "execution_count": 14,
   "metadata": {
    "scrolled": true
   },
   "outputs": [
    {
     "name": "stdout",
     "output_type": "stream",
     "text": [
      "[0.64705882 0.57142857 0.50434783 0.71428571 0.5       ]\n",
      "0.5874241870661308\n",
      "0.08300682732394155\n"
     ]
    }
   ],
   "source": [
    "from sklearn.model_selection import cross_val_score\n",
    "scores_sgd_clf = cross_val_score(sgd_clf, Xtrain_norm, Ytrain,\n",
    "                                 cv=5, scoring='precision')\n",
    "print(scores_sgd_clf)\n",
    "print(scores_sgd_clf.mean())\n",
    "print(scores_sgd_clf.std())"
   ]
  },
  {
   "cell_type": "code",
   "execution_count": 15,
   "metadata": {},
   "outputs": [
    {
     "name": "stdout",
     "output_type": "stream",
     "text": [
      "accuracy: 0.5641891891891891\n",
      "precision: 0.5383064516129032\n",
      "recall: 0.902027027027027\n"
     ]
    }
   ],
   "source": [
    "print_metrics(Ytrain, Ypred)"
   ]
  },
  {
   "cell_type": "markdown",
   "metadata": {},
   "source": [
    "### 3.4. AUC"
   ]
  },
  {
   "cell_type": "code",
   "execution_count": 16,
   "metadata": {},
   "outputs": [],
   "source": [
    "from sklearn.model_selection import cross_val_predict\n",
    "Yscores = cross_val_predict(sgd_clf, Xtrain_norm, Ytrain, cv=None,\n",
    "                             method=\"decision_function\")"
   ]
  },
  {
   "cell_type": "code",
   "execution_count": 17,
   "metadata": {},
   "outputs": [],
   "source": [
    "from sklearn.metrics import roc_curve\n",
    "fpr, tpr, thresholds = roc_curve(Ytrain, Yscores)"
   ]
  },
  {
   "cell_type": "code",
   "execution_count": 18,
   "metadata": {},
   "outputs": [
    {
     "data": {
      "image/png": "[encoded data removed]",
      "text/plain": [
       "<Figure size 576x432 with 1 Axes>"
      ]
     },
     "metadata": {
      "needs_background": "light"
     },
     "output_type": "display_data"
    }
   ],
   "source": [
    "def plot_roc_curve(fpr, tpr, label=None):\n",
    "    plt.plot(fpr, tpr, linewidth=2, label=label)\n",
    "    plt.plot([0, 1], [0, 1], 'k--')\n",
    "    plt.axis([0, 1, 0, 1])\n",
    "    plt.xlabel('False Positive Rate', fontsize=12)\n",
    "    plt.ylabel('True Positive Rate', fontsize=12)\n",
    "\n",
    "plt.figure(figsize=(8, 6))\n",
    "plot_roc_curve(fpr, tpr)\n",
    "plt.show()"
   ]
  },
  {
   "cell_type": "code",
   "execution_count": 19,
   "metadata": {},
   "outputs": [
    {
     "data": {
      "text/plain": [
       "0.5589960737764792"
      ]
     },
     "execution_count": 19,
     "metadata": {},
     "output_type": "execute_result"
    }
   ],
   "source": [
    "from sklearn.metrics import roc_auc_score\n",
    "roc_auc_score(Ytrain,Yscores)"
   ]
  },
  {
   "cell_type": "markdown",
   "metadata": {},
   "source": [
    "## 4. Penalized logistic"
   ]
  },
  {
   "cell_type": "code",
   "execution_count": 20,
   "metadata": {},
   "outputs": [
    {
     "name": "stdout",
     "output_type": "stream",
     "text": [
      "accuracy: 0.5118243243243243\n",
      "precision: 0.5060034305317325\n",
      "recall: 0.9966216216216216\n"
     ]
    }
   ],
   "source": [
    "sgd_clf_pen = SGDClassifier(random_state=42, loss='log', shuffle=True, penalty='l2')\n",
    "sgd_clf_pen.fit(Xtrain_norm, Ytrain)\n",
    "Ypred = sgd_clf_pen.predict(Xtrain_norm)\n",
    "print_metrics(Ytrain, Ypred)"
   ]
  },
  {
   "cell_type": "code",
   "execution_count": 21,
   "metadata": {},
   "outputs": [
    {
     "name": "stdout",
     "output_type": "stream",
     "text": [
      "accuracy: 0.5625\n",
      "precision: 0.6697247706422018\n",
      "recall: 0.24662162162162163\n"
     ]
    }
   ],
   "source": [
    "sgd_clf_pen = SGDClassifier(random_state=42, loss='log', shuffle=True, penalty='elasticnet', l1_ratio=0.5)\n",
    "sgd_clf_pen.fit(Xtrain_norm, Ytrain)\n",
    "Ypred = sgd_clf_pen.predict(Xtrain_norm)\n",
    "print_metrics(Ytrain, Ypred)"
   ]
  },
  {
   "cell_type": "code",
   "execution_count": 22,
   "metadata": {},
   "outputs": [
    {
     "data": {
      "text/plain": [
       "{'mean_fit_time': array([0.00378933, 0.00358996, 0.00140576, 0.00313001, 0.00312448,\n",
       "        0.        , 0.0031179 , 0.        , 0.00312428, 0.00624847,\n",
       "        0.        ]),\n",
       " 'std_fit_time': array([0.00074531, 0.00079774, 0.0013502 , 0.00626001, 0.00624895,\n",
       "        0.        , 0.00623579, 0.        , 0.00624857, 0.00765279,\n",
       "        0.        ]),\n",
       " 'mean_score_time': array([0.00159559, 0.00159602, 0.00079789, 0.00312481, 0.00312424,\n",
       "        0.00312428, 0.        , 0.00624852, 0.        , 0.        ,\n",
       "        0.        ]),\n",
       " 'std_score_time': array([0.00048811, 0.00048856, 0.00097721, 0.00624962, 0.00624847,\n",
       "        0.00624857, 0.        , 0.00765285, 0.        , 0.        ,\n",
       "        0.        ]),\n",
       " 'param_l1_ratio': masked_array(data=[0.0, 0.1, 0.2, 0.30000000000000004, 0.4, 0.5,\n",
       "                    0.6000000000000001, 0.7000000000000001, 0.8, 0.9, 1.0],\n",
       "              mask=[False, False, False, False, False, False, False, False,\n",
       "                    False, False, False],\n",
       "        fill_value='?',\n",
       "             dtype=object),\n",
       " 'params': [{'l1_ratio': 0.0},\n",
       "  {'l1_ratio': 0.1},\n",
       "  {'l1_ratio': 0.2},\n",
       "  {'l1_ratio': 0.30000000000000004},\n",
       "  {'l1_ratio': 0.4},\n",
       "  {'l1_ratio': 0.5},\n",
       "  {'l1_ratio': 0.6000000000000001},\n",
       "  {'l1_ratio': 0.7000000000000001},\n",
       "  {'l1_ratio': 0.8},\n",
       "  {'l1_ratio': 0.9},\n",
       "  {'l1_ratio': 1.0}],\n",
       " 'split0_test_score': array([0.47627119, 0.47683616, 0.47570621, 0.43785311, 0.47627119,\n",
       "        0.43954802, 0.44887006, 0.47485876, 0.47457627, 0.43531073,\n",
       "        0.46355932]),\n",
       " 'split1_test_score': array([0.58841808, 0.61836158, 0.59067797, 0.58983051, 0.59152542,\n",
       "        0.59265537, 0.42288136, 0.4460452 , 0.4440678 , 0.58587571,\n",
       "        0.6059322 ]),\n",
       " 'split2_test_score': array([0.47917265, 0.37805228, 0.61045677, 0.50445274, 0.36771043,\n",
       "        0.45073255, 0.37403045, 0.49698363, 0.36512496, 0.37776501,\n",
       "        0.49813272]),\n",
       " 'split3_test_score': array([0.48405631, 0.61505315, 0.48204539, 0.64722781, 0.58747486,\n",
       "        0.37144499, 0.36311405, 0.61419132, 0.39184142, 0.61706406,\n",
       "        0.48147084]),\n",
       " 'split4_test_score': array([0.44671072, 0.45073255, 0.450158  , 0.45044527, 0.44843436,\n",
       "        0.44728526, 0.54639471, 0.54639471, 0.54582017, 0.50359092,\n",
       "        0.54696926]),\n",
       " 'mean_test_score': array([0.49492579, 0.50780714, 0.52180887, 0.52596189, 0.49428325,\n",
       "        0.46033324, 0.43105813, 0.51569472, 0.44428612, 0.50392129,\n",
       "        0.51921287]),\n",
       " 'std_test_score': array([0.04853824, 0.094633  , 0.06548563, 0.08088657, 0.08554292,\n",
       "        0.07225609, 0.06565852, 0.05918244, 0.06362961, 0.08959993,\n",
       "        0.05149138]),\n",
       " 'rank_test_score': array([ 7,  5,  2,  1,  8,  9, 11,  4, 10,  6,  3])}"
      ]
     },
     "execution_count": 22,
     "metadata": {},
     "output_type": "execute_result"
    }
   ],
   "source": [
    "from sklearn.model_selection import GridSearchCV\n",
    "param_grid = {'l1_ratio': np.arange(0,1.1,.1)}\n",
    "grid_search = GridSearchCV(sgd_clf_pen, param_grid, cv=5, scoring='roc_auc')\n",
    "x = grid_search.fit(Xtrain, Ytrain)\n",
    "x.cv_results_"
   ]
  },
  {
   "cell_type": "code",
   "execution_count": 23,
   "metadata": {},
   "outputs": [
    {
     "data": {
      "text/plain": [
       "{'l1_ratio': 0.30000000000000004}"
      ]
     },
     "execution_count": 23,
     "metadata": {},
     "output_type": "execute_result"
    }
   ],
   "source": [
    "x.best_params_"
   ]
  },
  {
   "cell_type": "code",
   "execution_count": 24,
   "metadata": {},
   "outputs": [
    {
     "data": {
      "text/plain": [
       "SGDClassifier(l1_ratio=0.30000000000000004, loss='log', penalty='elasticnet',\n",
       "              random_state=42)"
      ]
     },
     "execution_count": 24,
     "metadata": {},
     "output_type": "execute_result"
    }
   ],
   "source": [
    "sgd_clf_pen_optim = grid_search.best_estimator_\n",
    "sgd_clf_pen_optim.fit(Xtrain_norm, Ytrain)"
   ]
  },
  {
   "cell_type": "code",
   "execution_count": 25,
   "metadata": {},
   "outputs": [],
   "source": [
    "from sklearn.model_selection import cross_val_predict\n",
    "Yscores_sgd_clf_pen_optim = cross_val_predict(sgd_clf_pen_optim, Xtrain_norm, Ytrain,\n",
    "                                              cv=None, method=\"decision_function\")"
   ]
  },
  {
   "cell_type": "code",
   "execution_count": 26,
   "metadata": {},
   "outputs": [],
   "source": [
    "from sklearn.metrics import roc_curve\n",
    "fpr, tpr, thresholds = roc_curve(Ytrain, Yscores_sgd_clf_pen_optim)"
   ]
  },
  {
   "cell_type": "code",
   "execution_count": 27,
   "metadata": {},
   "outputs": [
    {
     "data": {
      "image/png": "[encoded data removed]",
      "text/plain": [
       "<Figure size 576x432 with 1 Axes>"
      ]
     },
     "metadata": {
      "needs_background": "light"
     },
     "output_type": "display_data"
    }
   ],
   "source": [
    "plt.figure(figsize=(8, 6))\n",
    "plot_roc_curve(fpr, tpr)\n",
    "plt.show()"
   ]
  },
  {
   "cell_type": "code",
   "execution_count": 28,
   "metadata": {},
   "outputs": [
    {
     "name": "stdout",
     "output_type": "stream",
     "text": [
      "[0.62288136 0.5799435  0.6659006  0.6725079  0.53088193]\n",
      "0.6144230585080915\n",
      "0.053410278144518965\n"
     ]
    }
   ],
   "source": [
    "scores_sgd_clf = cross_val_score(sgd_clf, Xtrain_norm, Ytrain,\n",
    "                                 cv=5, scoring='roc_auc')\n",
    "print(scores_sgd_clf)\n",
    "print(scores_sgd_clf.mean())\n",
    "print(scores_sgd_clf.std())"
   ]
  },
  {
   "cell_type": "code",
   "execution_count": 29,
   "metadata": {},
   "outputs": [
    {
     "name": "stdout",
     "output_type": "stream",
     "text": [
      "[0.60056497 0.57881356 0.64636599 0.63487504 0.51910371]\n",
      "0.5959446519199464\n",
      "0.04533704554082423\n"
     ]
    }
   ],
   "source": [
    "scores_sgd_clf_pen_optim = cross_val_score(sgd_clf_pen_optim, Xtrain_norm, Ytrain,\n",
    "                                 cv=5, scoring='roc_auc')\n",
    "print(scores_sgd_clf_pen_optim)\n",
    "print(scores_sgd_clf_pen_optim.mean())\n",
    "print(scores_sgd_clf_pen_optim.std())"
   ]
  },
  {
   "cell_type": "markdown",
   "metadata": {},
   "source": [
    "## 5. Decision trees"
   ]
  },
  {
   "cell_type": "code",
   "execution_count": 30,
   "metadata": {},
   "outputs": [
    {
     "data": {
      "text/plain": [
       "DecisionTreeClassifier()"
      ]
     },
     "execution_count": 30,
     "metadata": {},
     "output_type": "execute_result"
    }
   ],
   "source": [
    "from sklearn import tree\n",
    "from sklearn.tree import DecisionTreeClassifier\n",
    "DTC_max=DecisionTreeClassifier()\n",
    "DTC_max.fit(Xtrain_norm,Ytrain)"
   ]
  },
  {
   "cell_type": "code",
   "execution_count": 31,
   "metadata": {},
   "outputs": [
    {
     "data": {
      "text/plain": [
       "<sklearn.metrics._plot.confusion_matrix.ConfusionMatrixDisplay at 0x121bfaeabb0>"
      ]
     },
     "execution_count": 31,
     "metadata": {},
     "output_type": "execute_result"
    },
    {
     "data": {
      "image/png": "[encoded data removed]",
      "text/plain": [
       "<Figure size 432x288 with 2 Axes>"
      ]
     },
     "metadata": {
      "needs_background": "light"
     },
     "output_type": "display_data"
    }
   ],
   "source": [
    "Ypred = DTC_max.predict(Xtrain_norm)\n",
    "cm = confusion_matrix(Ytrain, Ypred)\n",
    "ConfusionMatrixDisplay(confusion_matrix=cm,\n",
    "                       display_labels=DTC_max.classes_).plot()"
   ]
  },
  {
   "cell_type": "code",
   "execution_count": 32,
   "metadata": {},
   "outputs": [
    {
     "data": {
      "text/plain": [
       "'\\nimport graphviz \\ndot_data = tree.export_graphviz(DTC_max, out_file=None, \\n                     feature_names=[\\'X\\' + str(x) for x in range(37)],  \\n                     class_names=[\\'Healthy\\',\"Bankrupt\"],  \\n                     filled=True, rounded=True,  \\n                     special_characters=True)  \\ngraph = graphviz.Source(dot_data)  \\ngraph\\n'"
      ]
     },
     "execution_count": 32,
     "metadata": {},
     "output_type": "execute_result"
    }
   ],
   "source": [
    "'''\n",
    "import graphviz \n",
    "dot_data = tree.export_graphviz(DTC_max, out_file=None, \n",
    "                     feature_names=['X' + str(x) for x in range(37)],  \n",
    "                     class_names=['Healthy',\"Bankrupt\"],  \n",
    "                     filled=True, rounded=True,  \n",
    "                     special_characters=True)  \n",
    "graph = graphviz.Source(dot_data)  \n",
    "graph\n",
    "'''"
   ]
  },
  {
   "cell_type": "code",
   "execution_count": 33,
   "metadata": {},
   "outputs": [
    {
     "name": "stdout",
     "output_type": "stream",
     "text": [
      "accuracy: 1.0\n",
      "precision: 1.0\n",
      "recall: 1.0\n"
     ]
    }
   ],
   "source": [
    "y_pred = DTC_max.predict(Xtrain_norm)\n",
    "print_metrics(Ytrain, y_pred)"
   ]
  },
  {
   "cell_type": "code",
   "execution_count": 34,
   "metadata": {},
   "outputs": [
    {
     "name": "stdout",
     "output_type": "stream",
     "text": [
      "[0.65550847 0.52937853 0.54237288 0.6779661  0.60169492]\n",
      "0.6013841807909606\n",
      "0.05909564010188365\n"
     ]
    }
   ],
   "source": [
    "x = cross_val_score(DTC_max, Xtrain_norm, Ytrain, cv=5, scoring='roc_auc')\n",
    "print(x)\n",
    "print(x.mean())\n",
    "print(x.std())"
   ]
  },
  {
   "cell_type": "code",
   "execution_count": 35,
   "metadata": {},
   "outputs": [],
   "source": [
    "DTC=DecisionTreeClassifier()\n",
    "param_grid = {'max_depth': np.arange(3,8), 'min_samples_leaf' : np.arange(5,20)}\n",
    "grid_search = GridSearchCV(DTC, param_grid, cv=5, scoring='roc_auc')\n",
    "x = grid_search.fit(Xtrain_norm, Ytrain)"
   ]
  },
  {
   "cell_type": "code",
   "execution_count": 36,
   "metadata": {},
   "outputs": [
    {
     "data": {
      "text/plain": [
       "{'max_depth': 6, 'min_samples_leaf': 18}"
      ]
     },
     "execution_count": 36,
     "metadata": {},
     "output_type": "execute_result"
    }
   ],
   "source": [
    "x.best_params_"
   ]
  },
  {
   "cell_type": "code",
   "execution_count": 37,
   "metadata": {},
   "outputs": [
    {
     "data": {
      "text/plain": [
       "DecisionTreeClassifier(max_depth=6, min_samples_leaf=18)"
      ]
     },
     "execution_count": 37,
     "metadata": {},
     "output_type": "execute_result"
    }
   ],
   "source": [
    "DTC_optim=x.best_estimator_\n",
    "DTC_optim.fit(Xtrain_norm,Ytrain)"
   ]
  },
  {
   "cell_type": "code",
   "execution_count": 38,
   "metadata": {},
   "outputs": [
    {
     "name": "stdout",
     "output_type": "stream",
     "text": [
      "[0.73008475 0.6519774  0.67193335 0.72076989 0.66848607]\n",
      "0.6886502920616681\n",
      "0.030917424617691824\n"
     ]
    }
   ],
   "source": [
    "x = cross_val_score(DTC_optim, Xtrain_norm, Ytrain, cv=5, scoring='roc_auc')\n",
    "print(x)\n",
    "print(x.mean())\n",
    "print(x.std())"
   ]
  },
  {
   "cell_type": "code",
   "execution_count": 39,
   "metadata": {},
   "outputs": [
    {
     "data": {
      "image/png": "[encoded data removed]",
      "text/plain": [
       "<Figure size 576x432 with 1 Axes>"
      ]
     },
     "metadata": {
      "needs_background": "light"
     },
     "output_type": "display_data"
    }
   ],
   "source": [
    "y_probas_DTC_optim = cross_val_predict(DTC_optim, Xtrain_norm, Ytrain,\n",
    "                                       cv=None, method=\"predict_proba\")\n",
    "y_scores_DTC_optim = y_probas_DTC_optim[:,-1]\n",
    "fpr, tpr, thresholds = roc_curve(Ytrain, y_scores_DTC_optim)\n",
    "plt.figure(figsize=(8, 6))\n",
    "plot_roc_curve(fpr, tpr)\n",
    "plt.show()"
   ]
  },
  {
   "cell_type": "code",
   "execution_count": 40,
   "metadata": {},
   "outputs": [
    {
     "data": {
      "text/plain": [
       "0.6825693937180425"
      ]
     },
     "execution_count": 40,
     "metadata": {},
     "output_type": "execute_result"
    }
   ],
   "source": [
    "roc_auc_score(Ytrain,y_scores_DTC_optim)"
   ]
  },
  {
   "cell_type": "markdown",
   "metadata": {},
   "source": [
    "## 6. Random forests"
   ]
  },
  {
   "cell_type": "code",
   "execution_count": 64,
   "metadata": {},
   "outputs": [
    {
     "data": {
      "text/plain": [
       "RandomForestClassifier(random_state=42)"
      ]
     },
     "execution_count": 64,
     "metadata": {},
     "output_type": "execute_result"
    }
   ],
   "source": [
    "from sklearn.ensemble import RandomForestClassifier\n",
    "RFC_max = RandomForestClassifier(random_state=42)\n",
    "RFC_max.fit(Xtrain_norm, Ytrain)"
   ]
  },
  {
   "cell_type": "code",
   "execution_count": 65,
   "metadata": {},
   "outputs": [
    {
     "data": {
      "text/plain": [
       "<sklearn.metrics._plot.confusion_matrix.ConfusionMatrixDisplay at 0x121bfcf4820>"
      ]
     },
     "execution_count": 65,
     "metadata": {},
     "output_type": "execute_result"
    },
    {
     "data": {
      "image/png": "[encoded data removed]",
      "text/plain": [
       "<Figure size 432x288 with 2 Axes>"
      ]
     },
     "metadata": {
      "needs_background": "light"
     },
     "output_type": "display_data"
    }
   ],
   "source": [
    "Ypred = RFC_max.predict(Xtrain_norm)\n",
    "cm = confusion_matrix(Ytrain, Ypred)\n",
    "ConfusionMatrixDisplay(confusion_matrix=cm,\n",
    "                       display_labels=DTC_max.classes_).plot()"
   ]
  },
  {
   "cell_type": "code",
   "execution_count": 66,
   "metadata": {},
   "outputs": [
    {
     "name": "stdout",
     "output_type": "stream",
     "text": [
      "accuracy: 1.0\n",
      "precision: 1.0\n",
      "recall: 1.0\n"
     ]
    }
   ],
   "source": [
    "y_pred = RFC_max.predict(Xtrain_norm)\n",
    "print_metrics(Ytrain, y_pred)"
   ]
  },
  {
   "cell_type": "code",
   "execution_count": 67,
   "metadata": {},
   "outputs": [
    {
     "name": "stdout",
     "output_type": "stream",
     "text": [
      "[0.74223164 0.69025424 0.74604999 0.77276645 0.67092789]\n",
      "0.724446040409844\n",
      "0.0378184900510811\n"
     ]
    }
   ],
   "source": [
    "x = cross_val_score(RFC_max, Xtrain_norm, Ytrain, cv=5, scoring='roc_auc')\n",
    "print(x)\n",
    "print(x.mean())\n",
    "print(x.std())"
   ]
  },
  {
   "cell_type": "code",
   "execution_count": 93,
   "metadata": {},
   "outputs": [],
   "source": [
    "RFC=RandomForestClassifier()\n",
    "param_grid = {'max_depth': np.arange(5,15),\n",
    "             'min_samples_leaf' : np.arange(5,20),\n",
    "             }\n",
    "grid_search = GridSearchCV(RFC, param_grid, cv=5, scoring='roc_auc', n_jobs=8)\n",
    "x = grid_search.fit(Xtrain, Ytrain)"
   ]
  },
  {
   "cell_type": "code",
   "execution_count": 94,
   "metadata": {},
   "outputs": [
    {
     "data": {
      "text/plain": [
       "{'max_depth': 14, 'min_samples_leaf': 10}"
      ]
     },
     "execution_count": 94,
     "metadata": {},
     "output_type": "execute_result"
    }
   ],
   "source": [
    "x.best_params_"
   ]
  },
  {
   "cell_type": "code",
   "execution_count": 95,
   "metadata": {},
   "outputs": [
    {
     "name": "stdout",
     "output_type": "stream",
     "text": [
      "[0.79180791 0.66581921 0.75064637 0.74518816 0.65670784]\n",
      "0.7220338983050848\n",
      "0.05225091547709448\n"
     ]
    }
   ],
   "source": [
    "RFC_optim=x.best_estimator_\n",
    "RFC_optim.fit(Xtrain_norm,Ytrain)\n",
    "x = cross_val_score(RFC_optim, Xtrain_norm, Ytrain, cv=5, scoring='roc_auc')\n",
    "print(x)\n",
    "print(x.mean())\n",
    "print(x.std())"
   ]
  },
  {
   "cell_type": "code",
   "execution_count": 96,
   "metadata": {},
   "outputs": [
    {
     "data": {
      "image/png": "[encoded data removed]",
      "text/plain": [
       "<Figure size 576x432 with 1 Axes>"
      ]
     },
     "metadata": {
      "needs_background": "light"
     },
     "output_type": "display_data"
    }
   ],
   "source": [
    "y_probas_RFC_optim = cross_val_predict(RFC_optim, Xtrain_norm, Ytrain, cv=5, method=\"predict_proba\")\n",
    "y_scores_RFC_optim = y_probas_RFC_optim[:,-1]\n",
    "fpr, tpr, thresholds = roc_curve(Ytrain, y_scores_RFC_optim)\n",
    "plt.figure(figsize=(8, 6))\n",
    "plot_roc_curve(fpr, tpr)\n",
    "plt.show()"
   ]
  },
  {
   "cell_type": "code",
   "execution_count": 97,
   "metadata": {},
   "outputs": [
    {
     "data": {
      "text/plain": [
       "0.7229159057706356"
      ]
     },
     "execution_count": 97,
     "metadata": {},
     "output_type": "execute_result"
    }
   ],
   "source": [
    "roc_auc_score(Ytrain,y_scores_RFC_optim)"
   ]
  },
  {
   "cell_type": "markdown",
   "metadata": {},
   "source": [
    "## 7. Performance on the test set\n"
   ]
  },
  {
   "cell_type": "code",
   "execution_count": 98,
   "metadata": {},
   "outputs": [],
   "source": [
    "def print_metrics2(classifier, classifier_name):\n",
    "    y_pred = classifier.predict(Xtest_norm)\n",
    "    print(classifier_name)\n",
    "    print(\"precision:\", precision_score(Ytest, y_pred))\n",
    "    print(\"accuracy:\", accuracy_score(Ytest, y_pred))\n",
    "    print(\"recall:\", recall_score(Ytest, y_pred))\n",
    "    print(\"AUC:\", roc_auc_score(Ytest, y_pred),\"\\n\")"
   ]
  },
  {
   "cell_type": "code",
   "execution_count": 99,
   "metadata": {},
   "outputs": [
    {
     "name": "stdout",
     "output_type": "stream",
     "text": [
      "sgd_clf\n",
      "precision: 0.012143539364169736\n",
      "accuracy: 0.2365206402695872\n",
      "recall: 0.898989898989899\n",
      "AUC: 0.5642656209858509 \n",
      "\n",
      "sgd_clf_pen_optim\n",
      "precision: 0.014925373134328358\n",
      "accuracy: 0.9827295703454086\n",
      "recall: 0.010101010101010102\n",
      "AUC: 0.5015387459784608 \n",
      "\n",
      "DTC_max\n",
      "precision: 0.01648059542796385\n",
      "accuracy: 0.6064658803706824\n",
      "recall: 0.6262626262626263\n",
      "AUC: 0.6162599712136798 \n",
      "\n",
      "DTC_optim\n",
      "precision: 0.01714573877962683\n",
      "accuracy: 0.5862468407750632\n",
      "recall: 0.6868686868686869\n",
      "AUC: 0.6360277243005773 \n",
      "\n",
      "RFC_max\n",
      "precision: 0.021379980563654033\n",
      "accuracy: 0.678390901432182\n",
      "recall: 0.6666666666666666\n",
      "AUC: 0.6725905430811251 \n",
      "\n",
      "RFC_optim\n",
      "precision: 0.023506366307541625\n",
      "accuracy: 0.6821819713563606\n",
      "recall: 0.7272727272727273\n",
      "AUC: 0.704489827507812 \n",
      "\n"
     ]
    }
   ],
   "source": [
    "print_metrics2(sgd_clf, \"sgd_clf\")\n",
    "print_metrics2(sgd_clf_pen_optim, \"sgd_clf_pen_optim\")\n",
    "print_metrics2(DTC_max, \"DTC_max\")\n",
    "print_metrics2(DTC_optim, \"DTC_optim\")\n",
    "print_metrics2(RFC_max, \"RFC_max\")\n",
    "print_metrics2(RFC_optim, \"RFC_optim\")"
   ]
  },
  {
   "cell_type": "code",
   "execution_count": 100,
   "metadata": {},
   "outputs": [
    {
     "data": {
      "text/plain": [
       "<sklearn.metrics._plot.confusion_matrix.ConfusionMatrixDisplay at 0x121c10a2f70>"
      ]
     },
     "execution_count": 100,
     "metadata": {},
     "output_type": "execute_result"
    },
    {
     "data": {
      "image/png": "[encoded data removed]",
      "text/plain": [
       "<Figure size 432x288 with 2 Axes>"
      ]
     },
     "metadata": {
      "needs_background": "light"
     },
     "output_type": "display_data"
    }
   ],
   "source": [
    "y_pred = RFC_optim.predict(Xtest_norm)\n",
    "cm = confusion_matrix(Ytest, y_pred)\n",
    "disp = ConfusionMatrixDisplay(confusion_matrix=cm,\n",
    "                              display_labels=RFC_optim.classes_)\n",
    "disp.plot()"
   ]
  },
  {
   "cell_type": "code",
   "execution_count": 101,
   "metadata": {},
   "outputs": [
    {
     "data": {
      "text/plain": [
       "<sklearn.metrics._plot.confusion_matrix.ConfusionMatrixDisplay at 0x121c1182b50>"
      ]
     },
     "execution_count": 101,
     "metadata": {},
     "output_type": "execute_result"
    },
    {
     "data": {
      "image/png": "[encoded data removed]",
      "text/plain": [
       "<Figure size 432x288 with 2 Axes>"
      ]
     },
     "metadata": {
      "needs_background": "light"
     },
     "output_type": "display_data"
    }
   ],
   "source": [
    "y_pred = sgd_clf.predict(Xtest_norm)\n",
    "cm = confusion_matrix(Ytest, y_pred)\n",
    "disp = ConfusionMatrixDisplay(confusion_matrix=cm,\n",
    "                              display_labels=sgd_clf.classes_)\n",
    "disp.plot()"
   ]
  }
 ],
 "metadata": {
  "kernelspec": {
   "display_name": "Python 3 (ipykernel)",
   "language": "python",
   "name": "python3"
  },
  "language_info": {
   "codemirror_mode": {
    "name": "ipython",
    "version": 3
   },
   "file_extension": ".py",
   "mimetype": "text/x-python",
   "name": "python",
   "nbconvert_exporter": "python",
   "pygments_lexer": "ipython3",
   "version": "3.10.7"
  }
 },
 "nbformat": 4,
 "nbformat_minor": 4
}
