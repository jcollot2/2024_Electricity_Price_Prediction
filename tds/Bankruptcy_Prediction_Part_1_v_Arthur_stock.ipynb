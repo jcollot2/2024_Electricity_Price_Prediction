{
 "cells": [
  {
   "cell_type": "markdown",
   "metadata": {
    "tags": []
   },
   "source": [
    "# Gradient (AD), ML and Bankruptcy prediction"
   ]
  },
  {
   "cell_type": "markdown",
   "metadata": {
    "id": "hH4FXLQKs-bZ",
    "tags": []
   },
   "source": [
    "***Import packages and definition of usefull functions***"
   ]
  },
  {
   "cell_type": "code",
   "execution_count": 1,
   "metadata": {
    "id": "NCWwp9lns-bb"
   },
   "outputs": [],
   "source": [
    "import math\n",
    "import numpy as np, pandas as pd\n",
    "import matplotlib.pyplot as plt"
   ]
  },
  {
   "cell_type": "markdown",
   "metadata": {
    "tags": []
   },
   "source": [
    "## 1. Definition of the Bankrupty prediction use case and data management"
   ]
  },
  {
   "cell_type": "markdown",
   "metadata": {},
   "source": [
    "**Altman\n",
    "'s Z-score**\n",
    "\n",
    "Altman (1968) came up with a simple formula known as Z-score, whose expression is:\n",
    "\\begin{equation*}\n",
    "    Z = 0.12 X_1 + 0.14 X_2 + 0.033 X_3 + 0.006 X_4 + 0.999 X_5\n",
    "\\end{equation*}\n",
    "where\n",
    "- $X_1$ is the working capital / total assets\n",
    "- $X_2$ is the retained earnings / total assets\n",
    "- $X_3$ is the earnings before interest and tax / total assets\n",
    "- $X_4$ i sthe market value of equity / total liabilities\n",
    "- $X_5$ is sale / total assets\n",
    "Based on the value of the score a firm is classified as bankrupt (low score) or healthy (high score)."
   ]
  },
  {
   "cell_type": "markdown",
   "metadata": {},
   "source": [
    "Bankruptcy refers to a situation where firm cannot repay its debts to its creditors.\n",
    "\n",
    "As bankruptcy is costly for company stakeholders (employees, supppliers, banks), being able to predict its likelihood is of critical importance.\n",
    "\n",
    "Particularly important nowadays with the rise of the so-called *zombie companies*."
   ]
  },
  {
   "cell_type": "markdown",
   "metadata": {
    "tags": []
   },
   "source": [
    "### 1.1 Import Data"
   ]
  },
  {
   "cell_type": "markdown",
   "metadata": {
    "id": "n7tEI--qs-bc",
    "tags": []
   },
   "source": [
    "We use [the Polish companies bankruptcy dataset](https://archive.ics.uci.edu/ml/datasets/Polish+companies+bankruptcy+data).\n",
    "\n",
    "5 datasets:\n",
    "- For companies in file ``1year``, the reported status is the one observed 5 years later.\n",
    " - For companies in file ``2year``, the reported status is the one observed 4 years later.\n",
    "- ...\n",
    "- For companies in file ``5year``, the reported status is the one observed 1 year later.\n",
    "    \n",
    "Potentially, we could use the 5 datasets and analyze:\n",
    "- whether a firm goes bankrupt or not after some time, irrespective of the number of years.\n",
    "- whether a firm goes bankrupt or not after 1, 2, ..., 5 years. This would be a multiclass classification exercice.\n",
    "    \n",
    "For simplicity, we will focus on a binary classification problem. Working with a single file will also make the computation faster."
   ]
  },
  {
   "cell_type": "markdown",
   "metadata": {
    "id": "viukmwhts-bc"
   },
   "source": [
    "**Features description of the ``2year``**, there is no header but 64 features (expressed in ratios or in local currency):\n",
    "\n",
    "- X1 net profit / total assets\n",
    "- X2 total liabilities / total assets\n",
    "- X3 working capital / total assets\n",
    "- X4 current assets / short-term liabilities\n",
    "- X5 [(cash + short-term securities + receivables - short-term liabilities) / (operating expenses - depreciation)] * 365\n",
    "- X6 retained earnings / total assets\n",
    "- X7 EBIT / total assets\n",
    "- X8 book value of equity / total liabilities\n",
    "- X9 sales / total assets\n",
    "- X10 equity / total assets\n",
    "- X11 (gross profit + extraordinary items + financial expenses) / total assets\n",
    "- X12 gross profit / short-term liabilities\n",
    "- X13 (gross profit + depreciation) / sales\n",
    "- X14 (gross profit + interest) / total assets\n",
    "- X15 (total liabilities * 365) / (gross profit + depreciation)\n",
    "- X16 (gross profit + depreciation) / total liabilities\n",
    "- X17 total assets / total liabilities\n",
    "- X18 gross profit / total assets\n",
    "- X19 gross profit / sales\n",
    "- X20 (inventory * 365) / sales\n",
    "- X21 sales (n) / sales (n-1)\n",
    "- X22 profit on operating activities / total assets\n",
    "- X23 net profit / sales\n",
    "- X24 gross profit (in 3 years) / total assets\n",
    "- X25 (equity - share capital) / total assets\n",
    "- X26 (net profit + depreciation) / total liabilities\n",
    "- X27 profit on operating activities / financial expenses\n",
    "- X28 working capital / fixed assets\n",
    "- X29 logarithm of total assets\n",
    "- X30 (total liabilities - cash) / sales\n",
    "- X31 (gross profit + interest) / sales\n",
    "- X32 (current liabilities * 365) / cost of products sold\n",
    "- X33 operating expenses / short-term liabilities\n",
    "- X34 operating expenses / total liabilities\n",
    "- X35 profit on sales / total assets\n",
    "- X36 total sales / total assets\n",
    "- X37 (current assets - inventories) / long-term liabilities\n",
    "- X38 constant capital / total assets\n",
    "- X39 profit on sales / sales\n",
    "- X40 (current assets - inventory - receivables) / short-term liabilities\n",
    "- X41 total liabilities / ((profit on operating activities + depreciation) * (12/365))\n",
    "- X42 profit on operating activities / sales\n",
    "- X43 rotation receivables + inventory turnover in days\n",
    "- X44 (receivables * 365) / sales\n",
    "- X45 net profit / inventory\n",
    "- X46 (current assets - inventory) / short-term liabilities\n",
    "- X47 (inventory * 365) / cost of products sold\n",
    "- X48 EBITDA (profit on operating activities - depreciation) / total assets\n",
    "- X49 EBITDA (profit on operating activities - depreciation) / sales\n",
    "- X50 current assets / total liabilities\n",
    "- X51 short-term liabilities / total assets\n",
    "- X52 (short-term liabilities * 365) / cost of products sold)\n",
    "- X53 equity / fixed assets\n",
    "- X54 constant capital / fixed assets\n",
    "- X55 working capital\n",
    "- X56 (sales - cost of products sold) / sales\n",
    "- X57 (current assets - inventory - short-term liabilities) / (sales - gross profit - depreciation)\n",
    "- X58 total costs /total sales\n",
    "- X59 long-term liabilities / equity\n",
    "- X60 sales / inventory\n",
    "- X61 sales / receivables\n",
    "- X62 (short-term liabilities *365) / sales\n",
    "- X63 sales / short-term liabilities\n",
    "- X64 sales / fixed assets\n",
    "\n",
    "Finally, the dataset reports for each instance, in the last column, a label taht take on the values 0 and 1:\n",
    "\n",
    "- Feature 65 : 0/1 = survived/went bankrupt in the next year\n",
    "\n",
    "**Our objective is to build a model taht identifies as accurately as possible the true label. This is a supervised learning taxt as the label of each company is reported in the datasets.**"
   ]
  },
  {
   "cell_type": "markdown",
   "metadata": {
    "id": "nl7zGpOqwU9i"
   },
   "source": [
    "**Task 1**: import data"
   ]
  },
  {
   "cell_type": "code",
   "execution_count": 2,
   "metadata": {
    "id": "fxQb61OPuxMw"
   },
   "outputs": [
    {
     "name": "stdout",
     "output_type": "stream",
     "text": [
      "(10173, 65)\n"
     ]
    },
    {
     "data": {
      "text/html": [
       "<div>\n",
       "<style scoped>\n",
       "    .dataframe tbody tr th:only-of-type {\n",
       "        vertical-align: middle;\n",
       "    }\n",
       "\n",
       "    .dataframe tbody tr th {\n",
       "        vertical-align: top;\n",
       "    }\n",
       "\n",
       "    .dataframe thead th {\n",
       "        text-align: right;\n",
       "    }\n",
       "</style>\n",
       "<table border=\"1\" class=\"dataframe\">\n",
       "  <thead>\n",
       "    <tr style=\"text-align: right;\">\n",
       "      <th></th>\n",
       "      <th>0</th>\n",
       "      <th>1</th>\n",
       "      <th>2</th>\n",
       "      <th>3</th>\n",
       "      <th>4</th>\n",
       "      <th>5</th>\n",
       "      <th>6</th>\n",
       "      <th>7</th>\n",
       "      <th>8</th>\n",
       "      <th>9</th>\n",
       "      <th>...</th>\n",
       "      <th>55</th>\n",
       "      <th>56</th>\n",
       "      <th>57</th>\n",
       "      <th>58</th>\n",
       "      <th>59</th>\n",
       "      <th>60</th>\n",
       "      <th>61</th>\n",
       "      <th>62</th>\n",
       "      <th>63</th>\n",
       "      <th>64</th>\n",
       "    </tr>\n",
       "  </thead>\n",
       "  <tbody>\n",
       "    <tr>\n",
       "      <th>0</th>\n",
       "      <td>0.202350</td>\n",
       "      <td>0.46500</td>\n",
       "      <td>0.240380</td>\n",
       "      <td>1.5171</td>\n",
       "      <td>-14.547</td>\n",
       "      <td>0.510690</td>\n",
       "      <td>0.25366</td>\n",
       "      <td>0.91816</td>\n",
       "      <td>1.15190</td>\n",
       "      <td>0.42695</td>\n",
       "      <td>...</td>\n",
       "      <td>0.13184</td>\n",
       "      <td>0.473950</td>\n",
       "      <td>0.86816</td>\n",
       "      <td>0.00024</td>\n",
       "      <td>8.5487</td>\n",
       "      <td>5.16550</td>\n",
       "      <td>107.740</td>\n",
       "      <td>3.38790</td>\n",
       "      <td>5.3440</td>\n",
       "      <td>0</td>\n",
       "    </tr>\n",
       "    <tr>\n",
       "      <th>1</th>\n",
       "      <td>0.030073</td>\n",
       "      <td>0.59563</td>\n",
       "      <td>0.186680</td>\n",
       "      <td>1.3382</td>\n",
       "      <td>-37.859</td>\n",
       "      <td>-0.000319</td>\n",
       "      <td>0.04167</td>\n",
       "      <td>0.67890</td>\n",
       "      <td>0.32356</td>\n",
       "      <td>0.40437</td>\n",
       "      <td>...</td>\n",
       "      <td>0.12146</td>\n",
       "      <td>0.074369</td>\n",
       "      <td>0.87235</td>\n",
       "      <td>0.00000</td>\n",
       "      <td>1.5264</td>\n",
       "      <td>0.63305</td>\n",
       "      <td>622.660</td>\n",
       "      <td>0.58619</td>\n",
       "      <td>1.2381</td>\n",
       "      <td>0</td>\n",
       "    </tr>\n",
       "    <tr>\n",
       "      <th>2</th>\n",
       "      <td>0.257860</td>\n",
       "      <td>0.29949</td>\n",
       "      <td>0.665190</td>\n",
       "      <td>3.2211</td>\n",
       "      <td>71.799</td>\n",
       "      <td>0.000000</td>\n",
       "      <td>0.31877</td>\n",
       "      <td>2.33200</td>\n",
       "      <td>1.67620</td>\n",
       "      <td>0.69841</td>\n",
       "      <td>...</td>\n",
       "      <td>0.16499</td>\n",
       "      <td>0.369210</td>\n",
       "      <td>0.81614</td>\n",
       "      <td>0.00000</td>\n",
       "      <td>4.3325</td>\n",
       "      <td>3.19850</td>\n",
       "      <td>65.215</td>\n",
       "      <td>5.59690</td>\n",
       "      <td>47.4660</td>\n",
       "      <td>0</td>\n",
       "    </tr>\n",
       "    <tr>\n",
       "      <th>3</th>\n",
       "      <td>0.227160</td>\n",
       "      <td>0.67850</td>\n",
       "      <td>0.042784</td>\n",
       "      <td>1.0828</td>\n",
       "      <td>-88.212</td>\n",
       "      <td>0.000000</td>\n",
       "      <td>0.28505</td>\n",
       "      <td>0.47384</td>\n",
       "      <td>1.32410</td>\n",
       "      <td>0.32150</td>\n",
       "      <td>...</td>\n",
       "      <td>0.29358</td>\n",
       "      <td>0.706570</td>\n",
       "      <td>0.78617</td>\n",
       "      <td>0.48456</td>\n",
       "      <td>5.2309</td>\n",
       "      <td>5.06750</td>\n",
       "      <td>142.460</td>\n",
       "      <td>2.56210</td>\n",
       "      <td>3.0066</td>\n",
       "      <td>0</td>\n",
       "    </tr>\n",
       "    <tr>\n",
       "      <th>4</th>\n",
       "      <td>0.085443</td>\n",
       "      <td>0.38039</td>\n",
       "      <td>0.359230</td>\n",
       "      <td>1.9444</td>\n",
       "      <td>21.731</td>\n",
       "      <td>0.187900</td>\n",
       "      <td>0.10823</td>\n",
       "      <td>1.37140</td>\n",
       "      <td>1.11260</td>\n",
       "      <td>0.52167</td>\n",
       "      <td>...</td>\n",
       "      <td>0.10124</td>\n",
       "      <td>0.163790</td>\n",
       "      <td>0.89876</td>\n",
       "      <td>0.00000</td>\n",
       "      <td>5.7035</td>\n",
       "      <td>4.00200</td>\n",
       "      <td>89.058</td>\n",
       "      <td>4.09840</td>\n",
       "      <td>5.9874</td>\n",
       "      <td>0</td>\n",
       "    </tr>\n",
       "  </tbody>\n",
       "</table>\n",
       "<p>5 rows × 65 columns</p>\n",
       "</div>"
      ],
      "text/plain": [
       "         0        1         2       3       4         5        6        7   \\\n",
       "0  0.202350  0.46500  0.240380  1.5171 -14.547  0.510690  0.25366  0.91816   \n",
       "1  0.030073  0.59563  0.186680  1.3382 -37.859 -0.000319  0.04167  0.67890   \n",
       "2  0.257860  0.29949  0.665190  3.2211  71.799  0.000000  0.31877  2.33200   \n",
       "3  0.227160  0.67850  0.042784  1.0828 -88.212  0.000000  0.28505  0.47384   \n",
       "4  0.085443  0.38039  0.359230  1.9444  21.731  0.187900  0.10823  1.37140   \n",
       "\n",
       "        8        9   ...       55        56       57       58      59  \\\n",
       "0  1.15190  0.42695  ...  0.13184  0.473950  0.86816  0.00024  8.5487   \n",
       "1  0.32356  0.40437  ...  0.12146  0.074369  0.87235  0.00000  1.5264   \n",
       "2  1.67620  0.69841  ...  0.16499  0.369210  0.81614  0.00000  4.3325   \n",
       "3  1.32410  0.32150  ...  0.29358  0.706570  0.78617  0.48456  5.2309   \n",
       "4  1.11260  0.52167  ...  0.10124  0.163790  0.89876  0.00000  5.7035   \n",
       "\n",
       "        60       61       62       63  64  \n",
       "0  5.16550  107.740  3.38790   5.3440   0  \n",
       "1  0.63305  622.660  0.58619   1.2381   0  \n",
       "2  3.19850   65.215  5.59690  47.4660   0  \n",
       "3  5.06750  142.460  2.56210   3.0066   0  \n",
       "4  4.00200   89.058  4.09840   5.9874   0  \n",
       "\n",
       "[5 rows x 65 columns]"
      ]
     },
     "execution_count": 2,
     "metadata": {},
     "output_type": "execute_result"
    }
   ],
   "source": [
    "df = pd.read_csv(\"year2.txt\", header=None, na_values=[\"?\"])\n",
    "print(df.shape)\n",
    "df.head()"
   ]
  },
  {
   "cell_type": "markdown",
   "metadata": {
    "id": "I0pZYygjs-be",
    "tags": []
   },
   "source": [
    "### 1.2 Missing data\n",
    "\n",
    "Missing values are reported using ? character."
   ]
  },
  {
   "cell_type": "markdown",
   "metadata": {
    "id": "Nw9-7o08s-be"
   },
   "source": [
    "**Task 2**: Generate a barplot that displays for each feature the number of missing values"
   ]
  },
  {
   "cell_type": "code",
   "execution_count": 3,
   "metadata": {
    "id": "0KAzhIjVs-bf",
    "scrolled": true
   },
   "outputs": [
    {
     "data": {
      "text/plain": [
       "<AxesSubplot:>"
      ]
     },
     "execution_count": 3,
     "metadata": {},
     "output_type": "execute_result"
    },
    {
     "data": {
      "image/png": "[encoded data removed]",
      "text/plain": [
       "<Figure size 1600x400 with 1 Axes>"
      ]
     },
     "metadata": {},
     "output_type": "display_data"
    }
   ],
   "source": [
    "# insert your code here\n",
    "plt.figure(figsize=(16,4))\n",
    "(len(df.index)-df.count()).plot.bar()"
   ]
  },
  {
   "cell_type": "markdown",
   "metadata": {},
   "source": [
    "A possible solution to handle missing values is to inpute a replacement value (e.g. mean or median of the feature)\n",
    "\n",
    "Here, we use a simpler solution: we remove all features that contains more than 50 missing values. Once this is done, we remove all instance that still contains missing values."
   ]
  },
  {
   "cell_type": "markdown",
   "metadata": {
    "id": "8BHpszucs-bf"
   },
   "source": [
    "**Task 3**:\n",
    "- Step 1: Remove from the dataset all features that contain more than 50 missing values\n",
    "- Step 2: Remove all missing values from the dataset"
   ]
  },
  {
   "cell_type": "code",
   "execution_count": 4,
   "metadata": {
    "id": "5GnW-4_ns-bf",
    "scrolled": true
   },
   "outputs": [
    {
     "name": "stdout",
     "output_type": "stream",
     "text": [
      "(10088, 38)\n"
     ]
    }
   ],
   "source": [
    "# insert your code here\n",
    "df = df.drop(df.columns[df.apply(lambda col: col.isnull().sum() > 50)], axis=1)\n",
    "df.dropna(inplace=True)\n",
    "print(df.shape)"
   ]
  },
  {
   "cell_type": "markdown",
   "metadata": {
    "tags": []
   },
   "source": [
    "### 1.3 Training set and test set"
   ]
  },
  {
   "cell_type": "markdown",
   "metadata": {
    "id": "oLlxgI2Ss-bg",
    "tags": []
   },
   "source": [
    "Training a ML model amounts to finding the model parameter values that allow to generate the predictions that best match the actual mabels\n",
    "\n",
    "if the model is trained using the whole dataset, we will get the optimal parameter values for the dataste, which will allow us to achieve the best in-sample predictions.\n",
    "\n",
    "Yetn there is no guarantee on how general the model is and how it will perform out-of-sample, that is on a new mdataste, using data the model has never seen before.\n",
    "\n",
    "For that reason, in every ML project, the original dataset is always split into 2 sets (at least):\n",
    "\n",
    "- A train set: the dataset on which training is performed and models are fine-tuned\n",
    "- A test set: the dataset containing unseen data, which is used to assess the performance of the final model"
   ]
  },
  {
   "cell_type": "markdown",
   "metadata": {
    "id": "4a1Ob426s-bf",
    "tags": []
   },
   "source": [
    "### 1.4 Differences in feature value magnitudes"
   ]
  },
  {
   "cell_type": "markdown",
   "metadata": {
    "id": "oLlxgI2Ss-bg",
    "tags": []
   },
   "source": [
    "ML algorithms do not perform weel in general when features greatly differ in magnitude or are expressed using different scales (here ratios and currency units)\n",
    "\n",
    "Two standard procedure allow to transform feature so that they get all expressed in the same scale:\n",
    "- Min-max scaling or normalization\n",
    "- Standardization"
   ]
  },
  {
   "cell_type": "code",
   "execution_count": 5,
   "metadata": {
    "colab": {
     "base_uri": "https://localhost:8080/",
     "height": 311
    },
    "id": "A7N_VkBJs-bg",
    "outputId": "86215be4-a3a4-43db-80f4-fffc5b10ca33"
   },
   "outputs": [
    {
     "data": {
      "text/html": [
       "<div>\n",
       "<style scoped>\n",
       "    .dataframe tbody tr th:only-of-type {\n",
       "        vertical-align: middle;\n",
       "    }\n",
       "\n",
       "    .dataframe tbody tr th {\n",
       "        vertical-align: top;\n",
       "    }\n",
       "\n",
       "    .dataframe thead th {\n",
       "        text-align: right;\n",
       "    }\n",
       "</style>\n",
       "<table border=\"1\" class=\"dataframe\">\n",
       "  <thead>\n",
       "    <tr style=\"text-align: right;\">\n",
       "      <th></th>\n",
       "      <th>0</th>\n",
       "      <th>1</th>\n",
       "      <th>2</th>\n",
       "      <th>3</th>\n",
       "      <th>4</th>\n",
       "      <th>5</th>\n",
       "      <th>6</th>\n",
       "      <th>7</th>\n",
       "      <th>8</th>\n",
       "      <th>9</th>\n",
       "      <th>...</th>\n",
       "      <th>47</th>\n",
       "      <th>49</th>\n",
       "      <th>50</th>\n",
       "      <th>54</th>\n",
       "      <th>56</th>\n",
       "      <th>57</th>\n",
       "      <th>58</th>\n",
       "      <th>60</th>\n",
       "      <th>62</th>\n",
       "      <th>64</th>\n",
       "    </tr>\n",
       "  </thead>\n",
       "  <tbody>\n",
       "    <tr>\n",
       "      <th>count</th>\n",
       "      <td>10088.000000</td>\n",
       "      <td>10088.000000</td>\n",
       "      <td>10088.000000</td>\n",
       "      <td>10088.000000</td>\n",
       "      <td>10088.000000</td>\n",
       "      <td>10088.000000</td>\n",
       "      <td>10088.000000</td>\n",
       "      <td>10088.000000</td>\n",
       "      <td>10088.000000</td>\n",
       "      <td>10088.000000</td>\n",
       "      <td>...</td>\n",
       "      <td>10088.000000</td>\n",
       "      <td>10088.000000</td>\n",
       "      <td>10088.000000</td>\n",
       "      <td>1.008800e+04</td>\n",
       "      <td>10088.000000</td>\n",
       "      <td>10088.000000</td>\n",
       "      <td>10088.000000</td>\n",
       "      <td>10088.000000</td>\n",
       "      <td>10088.000000</td>\n",
       "      <td>10088.000000</td>\n",
       "    </tr>\n",
       "    <tr>\n",
       "      <th>mean</th>\n",
       "      <td>0.056863</td>\n",
       "      <td>0.633485</td>\n",
       "      <td>0.080845</td>\n",
       "      <td>3.455431</td>\n",
       "      <td>-120.644258</td>\n",
       "      <td>-0.103082</td>\n",
       "      <td>0.136543</td>\n",
       "      <td>3.816087</td>\n",
       "      <td>2.849920</td>\n",
       "      <td>0.349746</td>\n",
       "      <td>...</td>\n",
       "      <td>0.082498</td>\n",
       "      <td>2.772320</td>\n",
       "      <td>0.516627</td>\n",
       "      <td>5.970039e+03</td>\n",
       "      <td>-0.039787</td>\n",
       "      <td>12.565388</td>\n",
       "      <td>3.056922</td>\n",
       "      <td>16.875062</td>\n",
       "      <td>11.188472</td>\n",
       "      <td>0.039155</td>\n",
       "    </tr>\n",
       "    <tr>\n",
       "      <th>std</th>\n",
       "      <td>0.679260</td>\n",
       "      <td>6.546280</td>\n",
       "      <td>6.540730</td>\n",
       "      <td>15.705346</td>\n",
       "      <td>6879.776696</td>\n",
       "      <td>6.561223</td>\n",
       "      <td>6.499309</td>\n",
       "      <td>29.361301</td>\n",
       "      <td>97.032686</td>\n",
       "      <td>6.545727</td>\n",
       "      <td>...</td>\n",
       "      <td>6.222518</td>\n",
       "      <td>13.564894</td>\n",
       "      <td>6.545366</td>\n",
       "      <td>6.571290e+04</td>\n",
       "      <td>12.293023</td>\n",
       "      <td>634.211780</td>\n",
       "      <td>239.163399</td>\n",
       "      <td>296.688387</td>\n",
       "      <td>234.530106</td>\n",
       "      <td>0.193974</td>\n",
       "    </tr>\n",
       "    <tr>\n",
       "      <th>min</th>\n",
       "      <td>-61.628000</td>\n",
       "      <td>0.000626</td>\n",
       "      <td>-479.960000</td>\n",
       "      <td>0.002079</td>\n",
       "      <td>-438250.000000</td>\n",
       "      <td>-508.410000</td>\n",
       "      <td>-61.628000</td>\n",
       "      <td>-1.594500</td>\n",
       "      <td>-0.000857</td>\n",
       "      <td>-479.910000</td>\n",
       "      <td>...</td>\n",
       "      <td>-9.679200</td>\n",
       "      <td>0.002079</td>\n",
       "      <td>0.000516</td>\n",
       "      <td>-1.805200e+06</td>\n",
       "      <td>-979.250000</td>\n",
       "      <td>-4.549700</td>\n",
       "      <td>-189.580000</td>\n",
       "      <td>-0.007521</td>\n",
       "      <td>-0.367890</td>\n",
       "      <td>0.000000</td>\n",
       "    </tr>\n",
       "    <tr>\n",
       "      <th>25%</th>\n",
       "      <td>0.000646</td>\n",
       "      <td>0.279883</td>\n",
       "      <td>0.011708</td>\n",
       "      <td>1.028650</td>\n",
       "      <td>-50.043250</td>\n",
       "      <td>0.000000</td>\n",
       "      <td>0.002411</td>\n",
       "      <td>0.393083</td>\n",
       "      <td>1.028000</td>\n",
       "      <td>0.276637</td>\n",
       "      <td>...</td>\n",
       "      <td>-0.039410</td>\n",
       "      <td>0.751385</td>\n",
       "      <td>0.196350</td>\n",
       "      <td>5.024375e+00</td>\n",
       "      <td>0.010760</td>\n",
       "      <td>0.872880</td>\n",
       "      <td>0.000000</td>\n",
       "      <td>4.724150</td>\n",
       "      <td>3.120300</td>\n",
       "      <td>0.000000</td>\n",
       "    </tr>\n",
       "    <tr>\n",
       "      <th>50%</th>\n",
       "      <td>0.050127</td>\n",
       "      <td>0.489650</td>\n",
       "      <td>0.188745</td>\n",
       "      <td>1.521550</td>\n",
       "      <td>-2.091050</td>\n",
       "      <td>0.000000</td>\n",
       "      <td>0.060594</td>\n",
       "      <td>0.999350</td>\n",
       "      <td>1.290600</td>\n",
       "      <td>0.489460</td>\n",
       "      <td>...</td>\n",
       "      <td>0.023420</td>\n",
       "      <td>1.189850</td>\n",
       "      <td>0.353430</td>\n",
       "      <td>8.389200e+02</td>\n",
       "      <td>0.127470</td>\n",
       "      <td>0.950005</td>\n",
       "      <td>0.005363</td>\n",
       "      <td>7.013950</td>\n",
       "      <td>5.218200</td>\n",
       "      <td>0.000000</td>\n",
       "    </tr>\n",
       "    <tr>\n",
       "      <th>75%</th>\n",
       "      <td>0.141700</td>\n",
       "      <td>0.705630</td>\n",
       "      <td>0.398108</td>\n",
       "      <td>2.727050</td>\n",
       "      <td>50.972750</td>\n",
       "      <td>0.075571</td>\n",
       "      <td>0.166465</td>\n",
       "      <td>2.506250</td>\n",
       "      <td>2.263450</td>\n",
       "      <td>0.700402</td>\n",
       "      <td>...</td>\n",
       "      <td>0.123122</td>\n",
       "      <td>2.146875</td>\n",
       "      <td>0.550398</td>\n",
       "      <td>4.025350e+03</td>\n",
       "      <td>0.310262</td>\n",
       "      <td>0.993390</td>\n",
       "      <td>0.250970</td>\n",
       "      <td>11.108750</td>\n",
       "      <td>9.023075</td>\n",
       "      <td>0.000000</td>\n",
       "    </tr>\n",
       "    <tr>\n",
       "      <th>max</th>\n",
       "      <td>7.372700</td>\n",
       "      <td>480.960000</td>\n",
       "      <td>0.996880</td>\n",
       "      <td>782.250000</td>\n",
       "      <td>70686.000000</td>\n",
       "      <td>14.756000</td>\n",
       "      <td>649.230000</td>\n",
       "      <td>1597.400000</td>\n",
       "      <td>9742.300000</td>\n",
       "      <td>0.999370</td>\n",
       "      <td>...</td>\n",
       "      <td>623.850000</td>\n",
       "      <td>544.560000</td>\n",
       "      <td>480.960000</td>\n",
       "      <td>3.657400e+06</td>\n",
       "      <td>147.190000</td>\n",
       "      <td>59672.000000</td>\n",
       "      <td>23853.000000</td>\n",
       "      <td>26862.000000</td>\n",
       "      <td>23454.000000</td>\n",
       "      <td>1.000000</td>\n",
       "    </tr>\n",
       "  </tbody>\n",
       "</table>\n",
       "<p>8 rows × 38 columns</p>\n",
       "</div>"
      ],
      "text/plain": [
       "                 0             1             2             3              4   \\\n",
       "count  10088.000000  10088.000000  10088.000000  10088.000000   10088.000000   \n",
       "mean       0.056863      0.633485      0.080845      3.455431    -120.644258   \n",
       "std        0.679260      6.546280      6.540730     15.705346    6879.776696   \n",
       "min      -61.628000      0.000626   -479.960000      0.002079 -438250.000000   \n",
       "25%        0.000646      0.279883      0.011708      1.028650     -50.043250   \n",
       "50%        0.050127      0.489650      0.188745      1.521550      -2.091050   \n",
       "75%        0.141700      0.705630      0.398108      2.727050      50.972750   \n",
       "max        7.372700    480.960000      0.996880    782.250000   70686.000000   \n",
       "\n",
       "                 5             6             7             8             9   \\\n",
       "count  10088.000000  10088.000000  10088.000000  10088.000000  10088.000000   \n",
       "mean      -0.103082      0.136543      3.816087      2.849920      0.349746   \n",
       "std        6.561223      6.499309     29.361301     97.032686      6.545727   \n",
       "min     -508.410000    -61.628000     -1.594500     -0.000857   -479.910000   \n",
       "25%        0.000000      0.002411      0.393083      1.028000      0.276637   \n",
       "50%        0.000000      0.060594      0.999350      1.290600      0.489460   \n",
       "75%        0.075571      0.166465      2.506250      2.263450      0.700402   \n",
       "max       14.756000    649.230000   1597.400000   9742.300000      0.999370   \n",
       "\n",
       "       ...            47            49            50            54  \\\n",
       "count  ...  10088.000000  10088.000000  10088.000000  1.008800e+04   \n",
       "mean   ...      0.082498      2.772320      0.516627  5.970039e+03   \n",
       "std    ...      6.222518     13.564894      6.545366  6.571290e+04   \n",
       "min    ...     -9.679200      0.002079      0.000516 -1.805200e+06   \n",
       "25%    ...     -0.039410      0.751385      0.196350  5.024375e+00   \n",
       "50%    ...      0.023420      1.189850      0.353430  8.389200e+02   \n",
       "75%    ...      0.123122      2.146875      0.550398  4.025350e+03   \n",
       "max    ...    623.850000    544.560000    480.960000  3.657400e+06   \n",
       "\n",
       "                 56            57            58            60            62  \\\n",
       "count  10088.000000  10088.000000  10088.000000  10088.000000  10088.000000   \n",
       "mean      -0.039787     12.565388      3.056922     16.875062     11.188472   \n",
       "std       12.293023    634.211780    239.163399    296.688387    234.530106   \n",
       "min     -979.250000     -4.549700   -189.580000     -0.007521     -0.367890   \n",
       "25%        0.010760      0.872880      0.000000      4.724150      3.120300   \n",
       "50%        0.127470      0.950005      0.005363      7.013950      5.218200   \n",
       "75%        0.310262      0.993390      0.250970     11.108750      9.023075   \n",
       "max      147.190000  59672.000000  23853.000000  26862.000000  23454.000000   \n",
       "\n",
       "                 64  \n",
       "count  10088.000000  \n",
       "mean       0.039155  \n",
       "std        0.193974  \n",
       "min        0.000000  \n",
       "25%        0.000000  \n",
       "50%        0.000000  \n",
       "75%        0.000000  \n",
       "max        1.000000  \n",
       "\n",
       "[8 rows x 38 columns]"
      ]
     },
     "execution_count": 5,
     "metadata": {},
     "output_type": "execute_result"
    }
   ],
   "source": [
    "df.describe()"
   ]
  },
  {
   "cell_type": "markdown",
   "metadata": {},
   "source": [
    "When scaling is performed, the scaling parameters must be computed using the train set only to avoid any look-ahead bias.\n",
    "\n",
    "Scaling is thus performed in three steps:\n",
    "\n",
    "    - Step 1: compute the min and max of each feature in the train set\n",
    "    - Step 2: perform feature scaling on the train set\n",
    "    - Step 3: perform feature scaling on the test set using values found at step 1\n",
    "    \n",
    "Note that scaling is applied to features only, not labels."
   ]
  },
  {
   "cell_type": "code",
   "execution_count": 6,
   "metadata": {
    "id": "D0tFvmhgs-bg"
   },
   "outputs": [],
   "source": [
    "def normalize(*arg): # df [,min_vals,max_vals]\n",
    "    \"\"\" Normalizes the features of a dataframe\n",
    "    Up to 3 arguments\n",
    "    - 1st argument (mandatory) = df: name of dataframe to normalize\n",
    "    - 2nd argument (optional): min_vals = list of min value of each feature\n",
    "    - 3rd argument (optional): max_vals = list of max value of each feature\n",
    "    If df only is passed, the function normalizes X_ij, i.e. ith value of feature j as:\n",
    "                               (X_ij - min_j)/(max_j - min_j)                           (1)\n",
    "    and returns the min_j and max_j lists\n",
    "    If df, min_vals and max_vals are passed, df is normalized as per (1) using these values\n",
    "    \"\"\"\n",
    "    df = arg[0]\n",
    "    result = df.copy()\n",
    "    if len(arg)==1:\n",
    "        minval, maxval = [], []\n",
    "        for feature_name in df.columns:\n",
    "            min_value = df[feature_name].min()\n",
    "            max_value = df[feature_name].max()\n",
    "            result[feature_name] = (df[feature_name] - min_value) / (max_value - min_value)\n",
    "            minval.append(min_value)\n",
    "            maxval.append(max_value)\n",
    "        return result, minval, maxval\n",
    "    else:\n",
    "        minvals = arg[1]\n",
    "        maxvals = arg[2]\n",
    "        for i in range(df.shape[1]):\n",
    "            result.iloc[:,i] = (df.iloc[:,i] - minvals[i]) / (maxvals[i] - minvals[i])\n",
    "        return result"
   ]
  },
  {
   "cell_type": "markdown",
   "metadata": {
    "id": "oLlxgI2Ss-bg",
    "tags": []
   },
   "source": [
    "###  1.5 Balancing the dataset"
   ]
  },
  {
   "cell_type": "markdown",
   "metadata": {
    "id": "oLlxgI2Ss-bg",
    "tags": []
   },
   "source": [
    "The issue (for ML) is that the number of surviving firms is 24 times as large as the number of dead firms: the dataset is unbalanced\n",
    "\n",
    "If we train a ML model on an unbalanced dataset the resulting parameters will be biased towards predicting the majority class\n",
    "\n",
    "In the extreme case where a naive model returns the prediction 0 for all instances, the predictions will be correct 96\\% of the time. Yet, its out-of-sample ability to identify future bankrupt firms will be very small.\n",
    "\n",
    "To make a model identifying the features that are useful at predicting bankruptcy, trainig must be performed on a balanced dataste\n",
    "\n",
    "We will build a train daatset that has the same proportion of future surviving and bankrupt firms\n",
    "\n",
    "Dataset balancing can be performed in two ways:\n",
    "- Undersampling: randomly remove surviving firms on order to get the same 50\\% proportion of survivig and bankrupt firms\n",
    "- Oversampling:\n",
    "    - Naive: randomly duplicate examples in the minority class\n",
    "    - SMOTE: Synthetic Minority Oversampling TEchnique. Generate artificial examples based on k-nearest neighbours form instances in the minority class.\n",
    "\n",
    "It is possible to combine under- and over- sampling.\n",
    "\n",
    "We will build a train set that contains 75\\% of the dead firms from the original dataset and the same number of surviving firms. Both the dead firms and the surviving firms will be randomly chosen."
   ]
  },
  {
   "cell_type": "markdown",
   "metadata": {
    "id": "i3thS-Vgx0Zf"
   },
   "source": [
    "**Task 4-1**: Plot a histogram that reports the number of surviving firms (label=0) and dead firms (label=1) in the **dataset**"
   ]
  },
  {
   "cell_type": "code",
   "execution_count": 7,
   "metadata": {
    "id": "SVj9dMCBs-bh"
   },
   "outputs": [
    {
     "data": {
      "text/plain": [
       "(array([9693.,    0.,    0.,    0.,    0.,    0.,    0.,    0.,    0.,\n",
       "         395.]),\n",
       " array([0. , 0.1, 0.2, 0.3, 0.4, 0.5, 0.6, 0.7, 0.8, 0.9, 1. ]),\n",
       " <BarContainer object of 10 artists>)"
      ]
     },
     "execution_count": 7,
     "metadata": {},
     "output_type": "execute_result"
    },
    {
     "data": {
      "image/png": "[encoded data removed]",
      "text/plain": [
       "<Figure size 640x480 with 1 Axes>"
      ]
     },
     "metadata": {},
     "output_type": "display_data"
    }
   ],
   "source": [
    "# insert your code here\n",
    "plt.hist(df.iloc[:,-1])"
   ]
  },
  {
   "cell_type": "markdown",
   "metadata": {
    "id": "zPVfnnREzgf5"
   },
   "source": [
    "**Task 4-2**:\n",
    "- Generate a dataframe named `surv` that contains surviving firms, and a dataframe named `dead` that contains dead firms\n",
    "- Store in variables `l_surv`and `l_dead`the number of surviving firms and dead firms, respectively"
   ]
  },
  {
   "cell_type": "code",
   "execution_count": 8,
   "metadata": {
    "id": "NimW7NLhs-bh"
   },
   "outputs": [
    {
     "name": "stdout",
     "output_type": "stream",
     "text": [
      "9693 395\n"
     ]
    }
   ],
   "source": [
    "# insert your code here\n",
    "surv, dead = df[df.iloc[:, -1]==0], df[df.iloc[:, -1]==1]\n",
    "l_surv, l_dead = len(surv), len(dead)\n",
    "print(l_surv, l_dead)"
   ]
  },
  {
   "cell_type": "markdown",
   "metadata": {
    "id": "75ZUHjNi0aPy"
   },
   "source": [
    "**Task 5**:\n",
    "- Using the `sample` function, create a `dead_train` dataframe that contains 75% of the dead firms, where those firms are ramdomly selected\n",
    "- Create a `surv_train` dataframe that contains as many randomly selected surviving firms as the number of randomly selected dead firms\n",
    "- Combine vertically the `dead_train` and the `surv_train` dataframes into a single dataframe names `Train`"
   ]
  },
  {
   "cell_type": "code",
   "execution_count": 9,
   "metadata": {
    "id": "KlsLFIfzs-bh"
   },
   "outputs": [],
   "source": [
    "np.random.seed(42) # for reproductibility of results\n",
    "\n",
    "# insert your code here\n",
    "dead_train = dead.sample(int(l_dead*.75))\n",
    "surv_train = surv.sample(int(l_dead*.75))\n",
    "\n",
    "Train = pd.concat([dead_train, surv_train], axis=0)"
   ]
  },
  {
   "cell_type": "code",
   "execution_count": 10,
   "metadata": {
    "scrolled": true
   },
   "outputs": [
    {
     "name": "stdout",
     "output_type": "stream",
     "text": [
      "296 296\n"
     ]
    }
   ],
   "source": [
    "l_surv_train, l_dead_train = len(surv_train), len(dead_train)\n",
    "print(l_surv_train, l_dead_train)"
   ]
  },
  {
   "cell_type": "code",
   "execution_count": 11,
   "metadata": {},
   "outputs": [
    {
     "data": {
      "text/plain": [
       "592"
      ]
     },
     "execution_count": 11,
     "metadata": {},
     "output_type": "execute_result"
    }
   ],
   "source": [
    "len(Train)"
   ]
  },
  {
   "cell_type": "markdown",
   "metadata": {
    "id": "f1K-8jX1s-bh"
   },
   "source": [
    "All firms not selected in the Train dataframe must now be put in the Test dataframe.\n",
    "\n",
    "**Task 6**: \n",
    "- Create a `dead_remain` dataframe with all instances of dead firms **<u>not</u>** in the `dead_train` dataframe\n",
    "- Create a `surv_remain` dataframe with all instances of surviving firms **<u>not</u>** in the `surv_train` dataframe\n",
    "- Combine vertically the `dead_remain` and the `surv_remain` dataframes into a single dataframe named `Test`\n"
   ]
  },
  {
   "cell_type": "code",
   "execution_count": 12,
   "metadata": {
    "id": "-If3Fnp1s-bi"
   },
   "outputs": [],
   "source": [
    "# insert your code here\n",
    "dead_remain = dead[~dead.isin(dead_train)].dropna() # observations in dead_train are reported as NaN\n",
    "surv_remain = surv[~surv.isin(surv_train)].dropna()\n",
    "\n",
    "Test = pd.concat([dead_remain, surv_remain], axis=0)"
   ]
  },
  {
   "cell_type": "code",
   "execution_count": 13,
   "metadata": {},
   "outputs": [
    {
     "name": "stdout",
     "output_type": "stream",
     "text": [
      "9397 99\n"
     ]
    }
   ],
   "source": [
    "l_surv_remain, l_dead_remain = len(surv_remain), len(dead_remain)\n",
    "print(l_surv_remain, l_dead_remain)"
   ]
  },
  {
   "cell_type": "markdown",
   "metadata": {
    "id": "oJ1WbTsOs-bi"
   },
   "source": [
    "The next step is to separate the labels from the features\n",
    "\n",
    "**Task 7**: \n",
    "- Create the `Ytrain` and `Ytest` dataframes with the <u>labels</u> from the `Train` and the `Test` dataframes, respectively\n",
    "- Create the `Xtrain` and `Xtest` dataframes with the <u>features</u> from the `Train` and the `Test` dataframes, respectively\n"
   ]
  },
  {
   "cell_type": "code",
   "execution_count": 14,
   "metadata": {
    "id": "Xmu8m-RRs-bi"
   },
   "outputs": [],
   "source": [
    "# Extract labels\n",
    "# insert your code here\n",
    "Ytrain = Train.iloc[:,-1]\n",
    "Ytest = Test.iloc[:,-1]\n",
    "\n",
    "# Extract features\n",
    "# insert your code here\n",
    "Xtrain = Train.iloc[:,:-1] \n",
    "Xtest = Test.iloc[:,:-1]"
   ]
  },
  {
   "cell_type": "markdown",
   "metadata": {
    "id": "eBrd_LV4s-bi"
   },
   "source": [
    "Finally, we can normalize both the train and the test sets.\n",
    "\n",
    "**Task 8**:\n",
    "- Create the `Xtrain_norm` dataframe by applying feature scaling to the `Xtrain` dataframe\n",
    "- Create the `Xtest_norm` dataframe by applying feature scaling to the `Xtest` dataframe"
   ]
  },
  {
   "cell_type": "code",
   "execution_count": 15,
   "metadata": {
    "id": "TDHX_3tss-bi"
   },
   "outputs": [],
   "source": [
    "# insert your code here\n",
    "Xtrain_norm, min_vals, max_vals = normalize(Xtrain)\n",
    "Xtest_norm = normalize(Xtest, min_vals, max_vals)"
   ]
  },
  {
   "cell_type": "code",
   "execution_count": 16,
   "metadata": {
    "id": "HFggko5gs-bj"
   },
   "outputs": [
    {
     "data": {
      "text/html": [
       "<div>\n",
       "<style scoped>\n",
       "    .dataframe tbody tr th:only-of-type {\n",
       "        vertical-align: middle;\n",
       "    }\n",
       "\n",
       "    .dataframe tbody tr th {\n",
       "        vertical-align: top;\n",
       "    }\n",
       "\n",
       "    .dataframe thead th {\n",
       "        text-align: right;\n",
       "    }\n",
       "</style>\n",
       "<table border=\"1\" class=\"dataframe\">\n",
       "  <thead>\n",
       "    <tr style=\"text-align: right;\">\n",
       "      <th></th>\n",
       "      <th>0</th>\n",
       "      <th>1</th>\n",
       "      <th>2</th>\n",
       "      <th>3</th>\n",
       "      <th>4</th>\n",
       "      <th>5</th>\n",
       "      <th>6</th>\n",
       "      <th>7</th>\n",
       "      <th>8</th>\n",
       "      <th>9</th>\n",
       "      <th>...</th>\n",
       "      <th>45</th>\n",
       "      <th>47</th>\n",
       "      <th>49</th>\n",
       "      <th>50</th>\n",
       "      <th>54</th>\n",
       "      <th>56</th>\n",
       "      <th>57</th>\n",
       "      <th>58</th>\n",
       "      <th>60</th>\n",
       "      <th>62</th>\n",
       "    </tr>\n",
       "  </thead>\n",
       "  <tbody>\n",
       "    <tr>\n",
       "      <th>count</th>\n",
       "      <td>592.000000</td>\n",
       "      <td>592.000000</td>\n",
       "      <td>592.000000</td>\n",
       "      <td>592.000000</td>\n",
       "      <td>592.000000</td>\n",
       "      <td>592.000000</td>\n",
       "      <td>592.000000</td>\n",
       "      <td>592.000000</td>\n",
       "      <td>592.000000</td>\n",
       "      <td>592.000000</td>\n",
       "      <td>...</td>\n",
       "      <td>592.000000</td>\n",
       "      <td>592.000000</td>\n",
       "      <td>592.000000</td>\n",
       "      <td>592.000000</td>\n",
       "      <td>592.000000</td>\n",
       "      <td>592.000000</td>\n",
       "      <td>592.000000</td>\n",
       "      <td>592.000000</td>\n",
       "      <td>592.000000</td>\n",
       "      <td>592.000000</td>\n",
       "    </tr>\n",
       "    <tr>\n",
       "      <th>mean</th>\n",
       "      <td>0.013282</td>\n",
       "      <td>1.440260</td>\n",
       "      <td>-0.723301</td>\n",
       "      <td>3.722466</td>\n",
       "      <td>-213.398384</td>\n",
       "      <td>-1.005629</td>\n",
       "      <td>0.025442</td>\n",
       "      <td>4.032041</td>\n",
       "      <td>1.872854</td>\n",
       "      <td>-0.459846</td>\n",
       "      <td>...</td>\n",
       "      <td>2.882442</td>\n",
       "      <td>-0.008606</td>\n",
       "      <td>3.211994</td>\n",
       "      <td>1.310033</td>\n",
       "      <td>2687.924067</td>\n",
       "      <td>-0.105317</td>\n",
       "      <td>1.839165</td>\n",
       "      <td>40.811098</td>\n",
       "      <td>17.193168</td>\n",
       "      <td>7.376815</td>\n",
       "    </tr>\n",
       "    <tr>\n",
       "      <th>std</th>\n",
       "      <td>0.534558</td>\n",
       "      <td>19.747443</td>\n",
       "      <td>19.735366</td>\n",
       "      <td>24.979245</td>\n",
       "      <td>6104.534815</td>\n",
       "      <td>20.981582</td>\n",
       "      <td>0.539040</td>\n",
       "      <td>34.821886</td>\n",
       "      <td>1.804231</td>\n",
       "      <td>19.744712</td>\n",
       "      <td>...</td>\n",
       "      <td>22.767715</td>\n",
       "      <td>0.448191</td>\n",
       "      <td>24.884444</td>\n",
       "      <td>19.752124</td>\n",
       "      <td>27801.568825</td>\n",
       "      <td>5.115328</td>\n",
       "      <td>20.218933</td>\n",
       "      <td>980.379744</td>\n",
       "      <td>75.118744</td>\n",
       "      <td>17.539184</td>\n",
       "    </tr>\n",
       "    <tr>\n",
       "      <th>min</th>\n",
       "      <td>-6.815000</td>\n",
       "      <td>0.001504</td>\n",
       "      <td>-479.960000</td>\n",
       "      <td>0.002079</td>\n",
       "      <td>-146150.000000</td>\n",
       "      <td>-508.410000</td>\n",
       "      <td>-6.815000</td>\n",
       "      <td>-0.997810</td>\n",
       "      <td>0.000000</td>\n",
       "      <td>-479.910000</td>\n",
       "      <td>...</td>\n",
       "      <td>0.000180</td>\n",
       "      <td>-7.881700</td>\n",
       "      <td>0.002079</td>\n",
       "      <td>0.001504</td>\n",
       "      <td>-259740.000000</td>\n",
       "      <td>-76.982000</td>\n",
       "      <td>0.000000</td>\n",
       "      <td>-80.147000</td>\n",
       "      <td>0.000000</td>\n",
       "      <td>0.000000</td>\n",
       "    </tr>\n",
       "    <tr>\n",
       "      <th>25%</th>\n",
       "      <td>-0.018667</td>\n",
       "      <td>0.345823</td>\n",
       "      <td>-0.067543</td>\n",
       "      <td>0.871020</td>\n",
       "      <td>-64.328500</td>\n",
       "      <td>-0.007887</td>\n",
       "      <td>-0.018488</td>\n",
       "      <td>0.242565</td>\n",
       "      <td>1.013975</td>\n",
       "      <td>0.195213</td>\n",
       "      <td>...</td>\n",
       "      <td>0.440908</td>\n",
       "      <td>-0.054973</td>\n",
       "      <td>0.661705</td>\n",
       "      <td>0.255537</td>\n",
       "      <td>-268.292500</td>\n",
       "      <td>0.000000</td>\n",
       "      <td>0.889915</td>\n",
       "      <td>0.000000</td>\n",
       "      <td>4.685025</td>\n",
       "      <td>2.714975</td>\n",
       "    </tr>\n",
       "    <tr>\n",
       "      <th>50%</th>\n",
       "      <td>0.027529</td>\n",
       "      <td>0.586305</td>\n",
       "      <td>0.114150</td>\n",
       "      <td>1.257850</td>\n",
       "      <td>-18.437000</td>\n",
       "      <td>0.000000</td>\n",
       "      <td>0.035270</td>\n",
       "      <td>0.683745</td>\n",
       "      <td>1.214700</td>\n",
       "      <td>0.400245</td>\n",
       "      <td>...</td>\n",
       "      <td>0.739520</td>\n",
       "      <td>0.010124</td>\n",
       "      <td>1.003650</td>\n",
       "      <td>0.421305</td>\n",
       "      <td>444.820000</td>\n",
       "      <td>0.087228</td>\n",
       "      <td>0.966220</td>\n",
       "      <td>0.005827</td>\n",
       "      <td>7.241400</td>\n",
       "      <td>4.347150</td>\n",
       "    </tr>\n",
       "    <tr>\n",
       "      <th>75%</th>\n",
       "      <td>0.112798</td>\n",
       "      <td>0.793290</td>\n",
       "      <td>0.293238</td>\n",
       "      <td>2.161025</td>\n",
       "      <td>28.649250</td>\n",
       "      <td>0.014939</td>\n",
       "      <td>0.128980</td>\n",
       "      <td>1.822100</td>\n",
       "      <td>2.328850</td>\n",
       "      <td>0.628208</td>\n",
       "      <td>...</td>\n",
       "      <td>1.405500</td>\n",
       "      <td>0.103478</td>\n",
       "      <td>1.613200</td>\n",
       "      <td>0.647305</td>\n",
       "      <td>2269.950000</td>\n",
       "      <td>0.286965</td>\n",
       "      <td>1.000775</td>\n",
       "      <td>0.323578</td>\n",
       "      <td>11.382500</td>\n",
       "      <td>7.807550</td>\n",
       "    </tr>\n",
       "    <tr>\n",
       "      <th>max</th>\n",
       "      <td>7.372700</td>\n",
       "      <td>480.960000</td>\n",
       "      <td>0.975730</td>\n",
       "      <td>431.120000</td>\n",
       "      <td>22876.000000</td>\n",
       "      <td>0.772020</td>\n",
       "      <td>7.372700</td>\n",
       "      <td>664.010000</td>\n",
       "      <td>22.743000</td>\n",
       "      <td>0.998500</td>\n",
       "      <td>...</td>\n",
       "      <td>421.770000</td>\n",
       "      <td>0.928760</td>\n",
       "      <td>431.120000</td>\n",
       "      <td>480.960000</td>\n",
       "      <td>537580.000000</td>\n",
       "      <td>38.355000</td>\n",
       "      <td>492.000000</td>\n",
       "      <td>23853.000000</td>\n",
       "      <td>1324.500000</td>\n",
       "      <td>376.040000</td>\n",
       "    </tr>\n",
       "  </tbody>\n",
       "</table>\n",
       "<p>8 rows × 37 columns</p>\n",
       "</div>"
      ],
      "text/plain": [
       "               0           1           2           3              4   \\\n",
       "count  592.000000  592.000000  592.000000  592.000000     592.000000   \n",
       "mean     0.013282    1.440260   -0.723301    3.722466    -213.398384   \n",
       "std      0.534558   19.747443   19.735366   24.979245    6104.534815   \n",
       "min     -6.815000    0.001504 -479.960000    0.002079 -146150.000000   \n",
       "25%     -0.018667    0.345823   -0.067543    0.871020     -64.328500   \n",
       "50%      0.027529    0.586305    0.114150    1.257850     -18.437000   \n",
       "75%      0.112798    0.793290    0.293238    2.161025      28.649250   \n",
       "max      7.372700  480.960000    0.975730  431.120000   22876.000000   \n",
       "\n",
       "               5           6           7           8           9   ...  \\\n",
       "count  592.000000  592.000000  592.000000  592.000000  592.000000  ...   \n",
       "mean    -1.005629    0.025442    4.032041    1.872854   -0.459846  ...   \n",
       "std     20.981582    0.539040   34.821886    1.804231   19.744712  ...   \n",
       "min   -508.410000   -6.815000   -0.997810    0.000000 -479.910000  ...   \n",
       "25%     -0.007887   -0.018488    0.242565    1.013975    0.195213  ...   \n",
       "50%      0.000000    0.035270    0.683745    1.214700    0.400245  ...   \n",
       "75%      0.014939    0.128980    1.822100    2.328850    0.628208  ...   \n",
       "max      0.772020    7.372700  664.010000   22.743000    0.998500  ...   \n",
       "\n",
       "               45          47          49          50             54  \\\n",
       "count  592.000000  592.000000  592.000000  592.000000     592.000000   \n",
       "mean     2.882442   -0.008606    3.211994    1.310033    2687.924067   \n",
       "std     22.767715    0.448191   24.884444   19.752124   27801.568825   \n",
       "min      0.000180   -7.881700    0.002079    0.001504 -259740.000000   \n",
       "25%      0.440908   -0.054973    0.661705    0.255537    -268.292500   \n",
       "50%      0.739520    0.010124    1.003650    0.421305     444.820000   \n",
       "75%      1.405500    0.103478    1.613200    0.647305    2269.950000   \n",
       "max    421.770000    0.928760  431.120000  480.960000  537580.000000   \n",
       "\n",
       "               56          57            58           60          62  \n",
       "count  592.000000  592.000000    592.000000   592.000000  592.000000  \n",
       "mean    -0.105317    1.839165     40.811098    17.193168    7.376815  \n",
       "std      5.115328   20.218933    980.379744    75.118744   17.539184  \n",
       "min    -76.982000    0.000000    -80.147000     0.000000    0.000000  \n",
       "25%      0.000000    0.889915      0.000000     4.685025    2.714975  \n",
       "50%      0.087228    0.966220      0.005827     7.241400    4.347150  \n",
       "75%      0.286965    1.000775      0.323578    11.382500    7.807550  \n",
       "max     38.355000  492.000000  23853.000000  1324.500000  376.040000  \n",
       "\n",
       "[8 rows x 37 columns]"
      ]
     },
     "execution_count": 16,
     "metadata": {},
     "output_type": "execute_result"
    }
   ],
   "source": [
    "Xtrain.describe()"
   ]
  },
  {
   "cell_type": "code",
   "execution_count": 17,
   "metadata": {
    "id": "V9205N1-s-bj"
   },
   "outputs": [
    {
     "data": {
      "text/html": [
       "<div>\n",
       "<style scoped>\n",
       "    .dataframe tbody tr th:only-of-type {\n",
       "        vertical-align: middle;\n",
       "    }\n",
       "\n",
       "    .dataframe tbody tr th {\n",
       "        vertical-align: top;\n",
       "    }\n",
       "\n",
       "    .dataframe thead th {\n",
       "        text-align: right;\n",
       "    }\n",
       "</style>\n",
       "<table border=\"1\" class=\"dataframe\">\n",
       "  <thead>\n",
       "    <tr style=\"text-align: right;\">\n",
       "      <th></th>\n",
       "      <th>0</th>\n",
       "      <th>1</th>\n",
       "      <th>2</th>\n",
       "      <th>3</th>\n",
       "      <th>4</th>\n",
       "      <th>5</th>\n",
       "      <th>6</th>\n",
       "      <th>7</th>\n",
       "      <th>8</th>\n",
       "      <th>9</th>\n",
       "      <th>...</th>\n",
       "      <th>45</th>\n",
       "      <th>47</th>\n",
       "      <th>49</th>\n",
       "      <th>50</th>\n",
       "      <th>54</th>\n",
       "      <th>56</th>\n",
       "      <th>57</th>\n",
       "      <th>58</th>\n",
       "      <th>60</th>\n",
       "      <th>62</th>\n",
       "    </tr>\n",
       "  </thead>\n",
       "  <tbody>\n",
       "    <tr>\n",
       "      <th>count</th>\n",
       "      <td>592.000000</td>\n",
       "      <td>592.000000</td>\n",
       "      <td>592.000000</td>\n",
       "      <td>592.000000</td>\n",
       "      <td>592.000000</td>\n",
       "      <td>592.000000</td>\n",
       "      <td>592.000000</td>\n",
       "      <td>592.000000</td>\n",
       "      <td>592.000000</td>\n",
       "      <td>592.000000</td>\n",
       "      <td>...</td>\n",
       "      <td>592.000000</td>\n",
       "      <td>592.000000</td>\n",
       "      <td>592.000000</td>\n",
       "      <td>592.000000</td>\n",
       "      <td>592.000000</td>\n",
       "      <td>592.000000</td>\n",
       "      <td>592.000000</td>\n",
       "      <td>592.000000</td>\n",
       "      <td>592.000000</td>\n",
       "      <td>592.000000</td>\n",
       "    </tr>\n",
       "    <tr>\n",
       "      <th>mean</th>\n",
       "      <td>0.481282</td>\n",
       "      <td>0.002991</td>\n",
       "      <td>0.996467</td>\n",
       "      <td>0.008630</td>\n",
       "      <td>0.863397</td>\n",
       "      <td>0.996509</td>\n",
       "      <td>0.482139</td>\n",
       "      <td>0.007564</td>\n",
       "      <td>0.082349</td>\n",
       "      <td>0.996968</td>\n",
       "      <td>...</td>\n",
       "      <td>0.006834</td>\n",
       "      <td>0.893608</td>\n",
       "      <td>0.007446</td>\n",
       "      <td>0.002721</td>\n",
       "      <td>0.329138</td>\n",
       "      <td>0.666540</td>\n",
       "      <td>0.003738</td>\n",
       "      <td>0.005054</td>\n",
       "      <td>0.012981</td>\n",
       "      <td>0.019617</td>\n",
       "    </tr>\n",
       "    <tr>\n",
       "      <th>std</th>\n",
       "      <td>0.037678</td>\n",
       "      <td>0.041059</td>\n",
       "      <td>0.041035</td>\n",
       "      <td>0.057941</td>\n",
       "      <td>0.036116</td>\n",
       "      <td>0.041206</td>\n",
       "      <td>0.037993</td>\n",
       "      <td>0.052363</td>\n",
       "      <td>0.079331</td>\n",
       "      <td>0.041057</td>\n",
       "      <td>...</td>\n",
       "      <td>0.053981</td>\n",
       "      <td>0.050870</td>\n",
       "      <td>0.057721</td>\n",
       "      <td>0.041068</td>\n",
       "      <td>0.034869</td>\n",
       "      <td>0.044351</td>\n",
       "      <td>0.041095</td>\n",
       "      <td>0.040963</td>\n",
       "      <td>0.056715</td>\n",
       "      <td>0.046642</td>\n",
       "    </tr>\n",
       "    <tr>\n",
       "      <th>min</th>\n",
       "      <td>0.000000</td>\n",
       "      <td>0.000000</td>\n",
       "      <td>0.000000</td>\n",
       "      <td>0.000000</td>\n",
       "      <td>0.000000</td>\n",
       "      <td>0.000000</td>\n",
       "      <td>0.000000</td>\n",
       "      <td>0.000000</td>\n",
       "      <td>0.000000</td>\n",
       "      <td>0.000000</td>\n",
       "      <td>...</td>\n",
       "      <td>0.000000</td>\n",
       "      <td>0.000000</td>\n",
       "      <td>0.000000</td>\n",
       "      <td>0.000000</td>\n",
       "      <td>0.000000</td>\n",
       "      <td>0.000000</td>\n",
       "      <td>0.000000</td>\n",
       "      <td>0.000000</td>\n",
       "      <td>0.000000</td>\n",
       "      <td>0.000000</td>\n",
       "    </tr>\n",
       "    <tr>\n",
       "      <th>25%</th>\n",
       "      <td>0.479030</td>\n",
       "      <td>0.000716</td>\n",
       "      <td>0.997831</td>\n",
       "      <td>0.002016</td>\n",
       "      <td>0.864279</td>\n",
       "      <td>0.998468</td>\n",
       "      <td>0.479043</td>\n",
       "      <td>0.001865</td>\n",
       "      <td>0.044584</td>\n",
       "      <td>0.998330</td>\n",
       "      <td>...</td>\n",
       "      <td>0.001045</td>\n",
       "      <td>0.888345</td>\n",
       "      <td>0.001530</td>\n",
       "      <td>0.000528</td>\n",
       "      <td>0.325430</td>\n",
       "      <td>0.667453</td>\n",
       "      <td>0.001809</td>\n",
       "      <td>0.003349</td>\n",
       "      <td>0.003537</td>\n",
       "      <td>0.007220</td>\n",
       "    </tr>\n",
       "    <tr>\n",
       "      <th>50%</th>\n",
       "      <td>0.482286</td>\n",
       "      <td>0.001216</td>\n",
       "      <td>0.998209</td>\n",
       "      <td>0.002913</td>\n",
       "      <td>0.864551</td>\n",
       "      <td>0.998484</td>\n",
       "      <td>0.482832</td>\n",
       "      <td>0.002529</td>\n",
       "      <td>0.053410</td>\n",
       "      <td>0.998756</td>\n",
       "      <td>...</td>\n",
       "      <td>0.001753</td>\n",
       "      <td>0.895733</td>\n",
       "      <td>0.002323</td>\n",
       "      <td>0.000873</td>\n",
       "      <td>0.326324</td>\n",
       "      <td>0.668209</td>\n",
       "      <td>0.001964</td>\n",
       "      <td>0.003349</td>\n",
       "      <td>0.005467</td>\n",
       "      <td>0.011560</td>\n",
       "    </tr>\n",
       "    <tr>\n",
       "      <th>75%</th>\n",
       "      <td>0.488296</td>\n",
       "      <td>0.001646</td>\n",
       "      <td>0.998581</td>\n",
       "      <td>0.005008</td>\n",
       "      <td>0.864829</td>\n",
       "      <td>0.998513</td>\n",
       "      <td>0.489437</td>\n",
       "      <td>0.004240</td>\n",
       "      <td>0.102399</td>\n",
       "      <td>0.999230</td>\n",
       "      <td>...</td>\n",
       "      <td>0.003332</td>\n",
       "      <td>0.906329</td>\n",
       "      <td>0.003737</td>\n",
       "      <td>0.001343</td>\n",
       "      <td>0.328613</td>\n",
       "      <td>0.669941</td>\n",
       "      <td>0.002034</td>\n",
       "      <td>0.003362</td>\n",
       "      <td>0.008594</td>\n",
       "      <td>0.020763</td>\n",
       "    </tr>\n",
       "    <tr>\n",
       "      <th>max</th>\n",
       "      <td>1.000000</td>\n",
       "      <td>1.000000</td>\n",
       "      <td>1.000000</td>\n",
       "      <td>1.000000</td>\n",
       "      <td>1.000000</td>\n",
       "      <td>1.000000</td>\n",
       "      <td>1.000000</td>\n",
       "      <td>1.000000</td>\n",
       "      <td>1.000000</td>\n",
       "      <td>1.000000</td>\n",
       "      <td>...</td>\n",
       "      <td>1.000000</td>\n",
       "      <td>1.000000</td>\n",
       "      <td>1.000000</td>\n",
       "      <td>1.000000</td>\n",
       "      <td>1.000000</td>\n",
       "      <td>1.000000</td>\n",
       "      <td>1.000000</td>\n",
       "      <td>1.000000</td>\n",
       "      <td>1.000000</td>\n",
       "      <td>1.000000</td>\n",
       "    </tr>\n",
       "  </tbody>\n",
       "</table>\n",
       "<p>8 rows × 37 columns</p>\n",
       "</div>"
      ],
      "text/plain": [
       "               0           1           2           3           4           5   \\\n",
       "count  592.000000  592.000000  592.000000  592.000000  592.000000  592.000000   \n",
       "mean     0.481282    0.002991    0.996467    0.008630    0.863397    0.996509   \n",
       "std      0.037678    0.041059    0.041035    0.057941    0.036116    0.041206   \n",
       "min      0.000000    0.000000    0.000000    0.000000    0.000000    0.000000   \n",
       "25%      0.479030    0.000716    0.997831    0.002016    0.864279    0.998468   \n",
       "50%      0.482286    0.001216    0.998209    0.002913    0.864551    0.998484   \n",
       "75%      0.488296    0.001646    0.998581    0.005008    0.864829    0.998513   \n",
       "max      1.000000    1.000000    1.000000    1.000000    1.000000    1.000000   \n",
       "\n",
       "               6           7           8           9   ...          45  \\\n",
       "count  592.000000  592.000000  592.000000  592.000000  ...  592.000000   \n",
       "mean     0.482139    0.007564    0.082349    0.996968  ...    0.006834   \n",
       "std      0.037993    0.052363    0.079331    0.041057  ...    0.053981   \n",
       "min      0.000000    0.000000    0.000000    0.000000  ...    0.000000   \n",
       "25%      0.479043    0.001865    0.044584    0.998330  ...    0.001045   \n",
       "50%      0.482832    0.002529    0.053410    0.998756  ...    0.001753   \n",
       "75%      0.489437    0.004240    0.102399    0.999230  ...    0.003332   \n",
       "max      1.000000    1.000000    1.000000    1.000000  ...    1.000000   \n",
       "\n",
       "               47          49          50          54          56          57  \\\n",
       "count  592.000000  592.000000  592.000000  592.000000  592.000000  592.000000   \n",
       "mean     0.893608    0.007446    0.002721    0.329138    0.666540    0.003738   \n",
       "std      0.050870    0.057721    0.041068    0.034869    0.044351    0.041095   \n",
       "min      0.000000    0.000000    0.000000    0.000000    0.000000    0.000000   \n",
       "25%      0.888345    0.001530    0.000528    0.325430    0.667453    0.001809   \n",
       "50%      0.895733    0.002323    0.000873    0.326324    0.668209    0.001964   \n",
       "75%      0.906329    0.003737    0.001343    0.328613    0.669941    0.002034   \n",
       "max      1.000000    1.000000    1.000000    1.000000    1.000000    1.000000   \n",
       "\n",
       "               58          60          62  \n",
       "count  592.000000  592.000000  592.000000  \n",
       "mean     0.005054    0.012981    0.019617  \n",
       "std      0.040963    0.056715    0.046642  \n",
       "min      0.000000    0.000000    0.000000  \n",
       "25%      0.003349    0.003537    0.007220  \n",
       "50%      0.003349    0.005467    0.011560  \n",
       "75%      0.003362    0.008594    0.020763  \n",
       "max      1.000000    1.000000    1.000000  \n",
       "\n",
       "[8 rows x 37 columns]"
      ]
     },
     "execution_count": 17,
     "metadata": {},
     "output_type": "execute_result"
    }
   ],
   "source": [
    "Xtrain_norm.describe()"
   ]
  },
  {
   "cell_type": "code",
   "execution_count": 18,
   "metadata": {
    "id": "DdeuRUn8s-bj"
   },
   "outputs": [
    {
     "data": {
      "text/html": [
       "<div>\n",
       "<style scoped>\n",
       "    .dataframe tbody tr th:only-of-type {\n",
       "        vertical-align: middle;\n",
       "    }\n",
       "\n",
       "    .dataframe tbody tr th {\n",
       "        vertical-align: top;\n",
       "    }\n",
       "\n",
       "    .dataframe thead th {\n",
       "        text-align: right;\n",
       "    }\n",
       "</style>\n",
       "<table border=\"1\" class=\"dataframe\">\n",
       "  <thead>\n",
       "    <tr style=\"text-align: right;\">\n",
       "      <th></th>\n",
       "      <th>0</th>\n",
       "      <th>1</th>\n",
       "      <th>2</th>\n",
       "      <th>3</th>\n",
       "      <th>4</th>\n",
       "      <th>5</th>\n",
       "      <th>6</th>\n",
       "      <th>7</th>\n",
       "      <th>8</th>\n",
       "      <th>9</th>\n",
       "      <th>...</th>\n",
       "      <th>45</th>\n",
       "      <th>47</th>\n",
       "      <th>49</th>\n",
       "      <th>50</th>\n",
       "      <th>54</th>\n",
       "      <th>56</th>\n",
       "      <th>57</th>\n",
       "      <th>58</th>\n",
       "      <th>60</th>\n",
       "      <th>62</th>\n",
       "    </tr>\n",
       "  </thead>\n",
       "  <tbody>\n",
       "    <tr>\n",
       "      <th>count</th>\n",
       "      <td>9496.000000</td>\n",
       "      <td>9496.000000</td>\n",
       "      <td>9496.000000</td>\n",
       "      <td>9496.000000</td>\n",
       "      <td>9496.000000</td>\n",
       "      <td>9496.000000</td>\n",
       "      <td>9496.000000</td>\n",
       "      <td>9496.000000</td>\n",
       "      <td>9496.000000</td>\n",
       "      <td>9496.000000</td>\n",
       "      <td>...</td>\n",
       "      <td>9496.000000</td>\n",
       "      <td>9496.000000</td>\n",
       "      <td>9496.000000</td>\n",
       "      <td>9496.000000</td>\n",
       "      <td>9.496000e+03</td>\n",
       "      <td>9496.000000</td>\n",
       "      <td>9496.000000</td>\n",
       "      <td>9496.000000</td>\n",
       "      <td>9496.000000</td>\n",
       "      <td>9496.000000</td>\n",
       "    </tr>\n",
       "    <tr>\n",
       "      <th>mean</th>\n",
       "      <td>0.059580</td>\n",
       "      <td>0.583189</td>\n",
       "      <td>0.130977</td>\n",
       "      <td>3.438784</td>\n",
       "      <td>-114.861777</td>\n",
       "      <td>-0.046815</td>\n",
       "      <td>0.143469</td>\n",
       "      <td>3.802624</td>\n",
       "      <td>2.910833</td>\n",
       "      <td>0.400218</td>\n",
       "      <td>...</td>\n",
       "      <td>2.586799</td>\n",
       "      <td>0.088178</td>\n",
       "      <td>2.744910</td>\n",
       "      <td>0.467164</td>\n",
       "      <td>6.174652e+03</td>\n",
       "      <td>-0.035702</td>\n",
       "      <td>13.234083</td>\n",
       "      <td>0.703249</td>\n",
       "      <td>16.855230</td>\n",
       "      <td>11.426099</td>\n",
       "    </tr>\n",
       "    <tr>\n",
       "      <th>std</th>\n",
       "      <td>0.687204</td>\n",
       "      <td>4.605438</td>\n",
       "      <td>4.600310</td>\n",
       "      <td>14.939694</td>\n",
       "      <td>6925.480649</td>\n",
       "      <td>4.275350</td>\n",
       "      <td>6.697446</td>\n",
       "      <td>28.988943</td>\n",
       "      <td>100.010548</td>\n",
       "      <td>4.605299</td>\n",
       "      <td>...</td>\n",
       "      <td>14.118622</td>\n",
       "      <td>6.412551</td>\n",
       "      <td>12.526885</td>\n",
       "      <td>4.602961</td>\n",
       "      <td>6.736910e+04</td>\n",
       "      <td>12.606009</td>\n",
       "      <td>653.658670</td>\n",
       "      <td>29.089834</td>\n",
       "      <td>305.222767</td>\n",
       "      <td>241.689277</td>\n",
       "    </tr>\n",
       "    <tr>\n",
       "      <th>min</th>\n",
       "      <td>-61.628000</td>\n",
       "      <td>0.000626</td>\n",
       "      <td>-440.740000</td>\n",
       "      <td>0.002264</td>\n",
       "      <td>-438250.000000</td>\n",
       "      <td>-398.120000</td>\n",
       "      <td>-61.628000</td>\n",
       "      <td>-1.594500</td>\n",
       "      <td>-0.000857</td>\n",
       "      <td>-440.740000</td>\n",
       "      <td>...</td>\n",
       "      <td>-5.256100</td>\n",
       "      <td>-9.679200</td>\n",
       "      <td>0.002264</td>\n",
       "      <td>0.000516</td>\n",
       "      <td>-1.805200e+06</td>\n",
       "      <td>-979.250000</td>\n",
       "      <td>-4.549700</td>\n",
       "      <td>-189.580000</td>\n",
       "      <td>-0.007521</td>\n",
       "      <td>-0.367890</td>\n",
       "    </tr>\n",
       "    <tr>\n",
       "      <th>25%</th>\n",
       "      <td>0.000894</td>\n",
       "      <td>0.277290</td>\n",
       "      <td>0.015974</td>\n",
       "      <td>1.039300</td>\n",
       "      <td>-49.059250</td>\n",
       "      <td>0.000000</td>\n",
       "      <td>0.002899</td>\n",
       "      <td>0.409535</td>\n",
       "      <td>1.029000</td>\n",
       "      <td>0.283410</td>\n",
       "      <td>...</td>\n",
       "      <td>0.592220</td>\n",
       "      <td>-0.038386</td>\n",
       "      <td>0.759858</td>\n",
       "      <td>0.194315</td>\n",
       "      <td>1.466975e+01</td>\n",
       "      <td>0.011969</td>\n",
       "      <td>0.871975</td>\n",
       "      <td>0.000000</td>\n",
       "      <td>4.725850</td>\n",
       "      <td>3.149050</td>\n",
       "    </tr>\n",
       "    <tr>\n",
       "      <th>50%</th>\n",
       "      <td>0.051782</td>\n",
       "      <td>0.483060</td>\n",
       "      <td>0.193560</td>\n",
       "      <td>1.541800</td>\n",
       "      <td>-0.939565</td>\n",
       "      <td>0.000000</td>\n",
       "      <td>0.062915</td>\n",
       "      <td>1.028300</td>\n",
       "      <td>1.295700</td>\n",
       "      <td>0.495375</td>\n",
       "      <td>...</td>\n",
       "      <td>1.015050</td>\n",
       "      <td>0.024399</td>\n",
       "      <td>1.206650</td>\n",
       "      <td>0.348455</td>\n",
       "      <td>8.793950e+02</td>\n",
       "      <td>0.129680</td>\n",
       "      <td>0.948945</td>\n",
       "      <td>0.005109</td>\n",
       "      <td>7.005200</td>\n",
       "      <td>5.273050</td>\n",
       "    </tr>\n",
       "    <tr>\n",
       "      <th>75%</th>\n",
       "      <td>0.143402</td>\n",
       "      <td>0.698887</td>\n",
       "      <td>0.401905</td>\n",
       "      <td>2.766825</td>\n",
       "      <td>51.780500</td>\n",
       "      <td>0.080294</td>\n",
       "      <td>0.168065</td>\n",
       "      <td>2.542125</td>\n",
       "      <td>2.262225</td>\n",
       "      <td>0.704827</td>\n",
       "      <td>...</td>\n",
       "      <td>1.896000</td>\n",
       "      <td>0.123900</td>\n",
       "      <td>2.172925</td>\n",
       "      <td>0.544880</td>\n",
       "      <td>4.181975e+03</td>\n",
       "      <td>0.312032</td>\n",
       "      <td>0.993080</td>\n",
       "      <td>0.247670</td>\n",
       "      <td>11.079250</td>\n",
       "      <td>9.097200</td>\n",
       "    </tr>\n",
       "    <tr>\n",
       "      <th>max</th>\n",
       "      <td>7.138400</td>\n",
       "      <td>441.740000</td>\n",
       "      <td>0.996880</td>\n",
       "      <td>782.250000</td>\n",
       "      <td>70686.000000</td>\n",
       "      <td>14.756000</td>\n",
       "      <td>649.230000</td>\n",
       "      <td>1597.400000</td>\n",
       "      <td>9742.300000</td>\n",
       "      <td>0.999370</td>\n",
       "      <td>...</td>\n",
       "      <td>782.250000</td>\n",
       "      <td>623.850000</td>\n",
       "      <td>544.560000</td>\n",
       "      <td>441.740000</td>\n",
       "      <td>3.657400e+06</td>\n",
       "      <td>147.190000</td>\n",
       "      <td>59672.000000</td>\n",
       "      <td>2517.700000</td>\n",
       "      <td>26862.000000</td>\n",
       "      <td>23454.000000</td>\n",
       "    </tr>\n",
       "  </tbody>\n",
       "</table>\n",
       "<p>8 rows × 37 columns</p>\n",
       "</div>"
      ],
      "text/plain": [
       "                0            1            2            3              4   \\\n",
       "count  9496.000000  9496.000000  9496.000000  9496.000000    9496.000000   \n",
       "mean      0.059580     0.583189     0.130977     3.438784    -114.861777   \n",
       "std       0.687204     4.605438     4.600310    14.939694    6925.480649   \n",
       "min     -61.628000     0.000626  -440.740000     0.002264 -438250.000000   \n",
       "25%       0.000894     0.277290     0.015974     1.039300     -49.059250   \n",
       "50%       0.051782     0.483060     0.193560     1.541800      -0.939565   \n",
       "75%       0.143402     0.698887     0.401905     2.766825      51.780500   \n",
       "max       7.138400   441.740000     0.996880   782.250000   70686.000000   \n",
       "\n",
       "                5            6            7            8            9   ...  \\\n",
       "count  9496.000000  9496.000000  9496.000000  9496.000000  9496.000000  ...   \n",
       "mean     -0.046815     0.143469     3.802624     2.910833     0.400218  ...   \n",
       "std       4.275350     6.697446    28.988943   100.010548     4.605299  ...   \n",
       "min    -398.120000   -61.628000    -1.594500    -0.000857  -440.740000  ...   \n",
       "25%       0.000000     0.002899     0.409535     1.029000     0.283410  ...   \n",
       "50%       0.000000     0.062915     1.028300     1.295700     0.495375  ...   \n",
       "75%       0.080294     0.168065     2.542125     2.262225     0.704827  ...   \n",
       "max      14.756000   649.230000  1597.400000  9742.300000     0.999370  ...   \n",
       "\n",
       "                45           47           49           50            54  \\\n",
       "count  9496.000000  9496.000000  9496.000000  9496.000000  9.496000e+03   \n",
       "mean      2.586799     0.088178     2.744910     0.467164  6.174652e+03   \n",
       "std      14.118622     6.412551    12.526885     4.602961  6.736910e+04   \n",
       "min      -5.256100    -9.679200     0.002264     0.000516 -1.805200e+06   \n",
       "25%       0.592220    -0.038386     0.759858     0.194315  1.466975e+01   \n",
       "50%       1.015050     0.024399     1.206650     0.348455  8.793950e+02   \n",
       "75%       1.896000     0.123900     2.172925     0.544880  4.181975e+03   \n",
       "max     782.250000   623.850000   544.560000   441.740000  3.657400e+06   \n",
       "\n",
       "                56            57           58            60            62  \n",
       "count  9496.000000   9496.000000  9496.000000   9496.000000   9496.000000  \n",
       "mean     -0.035702     13.234083     0.703249     16.855230     11.426099  \n",
       "std      12.606009    653.658670    29.089834    305.222767    241.689277  \n",
       "min    -979.250000     -4.549700  -189.580000     -0.007521     -0.367890  \n",
       "25%       0.011969      0.871975     0.000000      4.725850      3.149050  \n",
       "50%       0.129680      0.948945     0.005109      7.005200      5.273050  \n",
       "75%       0.312032      0.993080     0.247670     11.079250      9.097200  \n",
       "max     147.190000  59672.000000  2517.700000  26862.000000  23454.000000  \n",
       "\n",
       "[8 rows x 37 columns]"
      ]
     },
     "execution_count": 18,
     "metadata": {},
     "output_type": "execute_result"
    }
   ],
   "source": [
    "Xtest.describe()"
   ]
  },
  {
   "cell_type": "code",
   "execution_count": 19,
   "metadata": {
    "id": "5f1W5c5fs-bj"
   },
   "outputs": [
    {
     "data": {
      "text/html": [
       "<div>\n",
       "<style scoped>\n",
       "    .dataframe tbody tr th:only-of-type {\n",
       "        vertical-align: middle;\n",
       "    }\n",
       "\n",
       "    .dataframe tbody tr th {\n",
       "        vertical-align: top;\n",
       "    }\n",
       "\n",
       "    .dataframe thead th {\n",
       "        text-align: right;\n",
       "    }\n",
       "</style>\n",
       "<table border=\"1\" class=\"dataframe\">\n",
       "  <thead>\n",
       "    <tr style=\"text-align: right;\">\n",
       "      <th></th>\n",
       "      <th>0</th>\n",
       "      <th>1</th>\n",
       "      <th>2</th>\n",
       "      <th>3</th>\n",
       "      <th>4</th>\n",
       "      <th>5</th>\n",
       "      <th>6</th>\n",
       "      <th>7</th>\n",
       "      <th>8</th>\n",
       "      <th>9</th>\n",
       "      <th>...</th>\n",
       "      <th>45</th>\n",
       "      <th>47</th>\n",
       "      <th>49</th>\n",
       "      <th>50</th>\n",
       "      <th>54</th>\n",
       "      <th>56</th>\n",
       "      <th>57</th>\n",
       "      <th>58</th>\n",
       "      <th>60</th>\n",
       "      <th>62</th>\n",
       "    </tr>\n",
       "  </thead>\n",
       "  <tbody>\n",
       "    <tr>\n",
       "      <th>count</th>\n",
       "      <td>9496.000000</td>\n",
       "      <td>9496.000000</td>\n",
       "      <td>9496.000000</td>\n",
       "      <td>9.496000e+03</td>\n",
       "      <td>9496.000000</td>\n",
       "      <td>9496.000000</td>\n",
       "      <td>9496.000000</td>\n",
       "      <td>9496.000000</td>\n",
       "      <td>9496.000000</td>\n",
       "      <td>9496.000000</td>\n",
       "      <td>...</td>\n",
       "      <td>9496.000000</td>\n",
       "      <td>9496.000000</td>\n",
       "      <td>9.496000e+03</td>\n",
       "      <td>9496.000000</td>\n",
       "      <td>9496.000000</td>\n",
       "      <td>9496.000000</td>\n",
       "      <td>9496.000000</td>\n",
       "      <td>9496.000000</td>\n",
       "      <td>9496.000000</td>\n",
       "      <td>9496.000000</td>\n",
       "    </tr>\n",
       "    <tr>\n",
       "      <th>mean</th>\n",
       "      <td>0.484545</td>\n",
       "      <td>0.001209</td>\n",
       "      <td>0.998244</td>\n",
       "      <td>7.971612e-03</td>\n",
       "      <td>0.863980</td>\n",
       "      <td>0.998392</td>\n",
       "      <td>0.490458</td>\n",
       "      <td>0.007219</td>\n",
       "      <td>0.127988</td>\n",
       "      <td>0.998756</td>\n",
       "      <td>...</td>\n",
       "      <td>0.006133</td>\n",
       "      <td>0.904593</td>\n",
       "      <td>6.362136e-03</td>\n",
       "      <td>0.000968</td>\n",
       "      <td>0.333511</td>\n",
       "      <td>0.667143</td>\n",
       "      <td>0.026899</td>\n",
       "      <td>0.003378</td>\n",
       "      <td>0.012726</td>\n",
       "      <td>0.030385</td>\n",
       "    </tr>\n",
       "    <tr>\n",
       "      <th>std</th>\n",
       "      <td>0.048437</td>\n",
       "      <td>0.009576</td>\n",
       "      <td>0.009565</td>\n",
       "      <td>3.465338e-02</td>\n",
       "      <td>0.040973</td>\n",
       "      <td>0.008397</td>\n",
       "      <td>0.472060</td>\n",
       "      <td>0.043592</td>\n",
       "      <td>4.397421</td>\n",
       "      <td>0.009576</td>\n",
       "      <td>...</td>\n",
       "      <td>0.033475</td>\n",
       "      <td>0.727834</td>\n",
       "      <td>2.905675e-02</td>\n",
       "      <td>0.009570</td>\n",
       "      <td>0.084494</td>\n",
       "      <td>0.109297</td>\n",
       "      <td>1.328575</td>\n",
       "      <td>0.001215</td>\n",
       "      <td>0.230444</td>\n",
       "      <td>0.642722</td>\n",
       "    </tr>\n",
       "    <tr>\n",
       "      <th>min</th>\n",
       "      <td>-3.863417</td>\n",
       "      <td>-0.000002</td>\n",
       "      <td>0.081549</td>\n",
       "      <td>4.281891e-07</td>\n",
       "      <td>-1.728136</td>\n",
       "      <td>0.216602</td>\n",
       "      <td>-3.863417</td>\n",
       "      <td>-0.000897</td>\n",
       "      <td>-0.000038</td>\n",
       "      <td>0.081450</td>\n",
       "      <td>...</td>\n",
       "      <td>-0.012462</td>\n",
       "      <td>-0.204019</td>\n",
       "      <td>4.281891e-07</td>\n",
       "      <td>-0.000002</td>\n",
       "      <td>-1.938318</td>\n",
       "      <td>-7.822884</td>\n",
       "      <td>-0.009247</td>\n",
       "      <td>-0.004572</td>\n",
       "      <td>-0.000006</td>\n",
       "      <td>-0.000978</td>\n",
       "    </tr>\n",
       "    <tr>\n",
       "      <th>25%</th>\n",
       "      <td>0.480409</td>\n",
       "      <td>0.000573</td>\n",
       "      <td>0.998004</td>\n",
       "      <td>2.405887e-03</td>\n",
       "      <td>0.864370</td>\n",
       "      <td>0.998484</td>\n",
       "      <td>0.480550</td>\n",
       "      <td>0.002116</td>\n",
       "      <td>0.045245</td>\n",
       "      <td>0.998513</td>\n",
       "      <td>...</td>\n",
       "      <td>0.001404</td>\n",
       "      <td>0.890227</td>\n",
       "      <td>1.757705e-03</td>\n",
       "      <td>0.000401</td>\n",
       "      <td>0.325785</td>\n",
       "      <td>0.667557</td>\n",
       "      <td>0.001772</td>\n",
       "      <td>0.003349</td>\n",
       "      <td>0.003568</td>\n",
       "      <td>0.008374</td>\n",
       "    </tr>\n",
       "    <tr>\n",
       "      <th>50%</th>\n",
       "      <td>0.483995</td>\n",
       "      <td>0.001001</td>\n",
       "      <td>0.998374</td>\n",
       "      <td>3.571461e-03</td>\n",
       "      <td>0.864654</td>\n",
       "      <td>0.998484</td>\n",
       "      <td>0.484780</td>\n",
       "      <td>0.003047</td>\n",
       "      <td>0.056971</td>\n",
       "      <td>0.998954</td>\n",
       "      <td>...</td>\n",
       "      <td>0.002406</td>\n",
       "      <td>0.897354</td>\n",
       "      <td>2.794063e-03</td>\n",
       "      <td>0.000721</td>\n",
       "      <td>0.326869</td>\n",
       "      <td>0.668577</td>\n",
       "      <td>0.001929</td>\n",
       "      <td>0.003349</td>\n",
       "      <td>0.005289</td>\n",
       "      <td>0.014023</td>\n",
       "    </tr>\n",
       "    <tr>\n",
       "      <th>75%</th>\n",
       "      <td>0.490453</td>\n",
       "      <td>0.001450</td>\n",
       "      <td>0.998807</td>\n",
       "      <td>6.412969e-03</td>\n",
       "      <td>0.864966</td>\n",
       "      <td>0.998641</td>\n",
       "      <td>0.492191</td>\n",
       "      <td>0.005323</td>\n",
       "      <td>0.099469</td>\n",
       "      <td>0.999389</td>\n",
       "      <td>...</td>\n",
       "      <td>0.004495</td>\n",
       "      <td>0.908647</td>\n",
       "      <td>5.035388e-03</td>\n",
       "      <td>0.001130</td>\n",
       "      <td>0.331011</td>\n",
       "      <td>0.670158</td>\n",
       "      <td>0.002018</td>\n",
       "      <td>0.003359</td>\n",
       "      <td>0.008365</td>\n",
       "      <td>0.024192</td>\n",
       "    </tr>\n",
       "    <tr>\n",
       "      <th>max</th>\n",
       "      <td>0.983486</td>\n",
       "      <td>0.918455</td>\n",
       "      <td>1.000044</td>\n",
       "      <td>1.814464e+00</td>\n",
       "      <td>1.282856</td>\n",
       "      <td>1.027464</td>\n",
       "      <td>46.240405</td>\n",
       "      <td>2.403578</td>\n",
       "      <td>428.364772</td>\n",
       "      <td>1.000002</td>\n",
       "      <td>...</td>\n",
       "      <td>1.854684</td>\n",
       "      <td>71.702465</td>\n",
       "      <td>1.263130e+00</td>\n",
       "      <td>0.918455</td>\n",
       "      <td>4.912883</td>\n",
       "      <td>1.943626</td>\n",
       "      <td>121.284553</td>\n",
       "      <td>0.108546</td>\n",
       "      <td>20.280861</td>\n",
       "      <td>62.371024</td>\n",
       "    </tr>\n",
       "  </tbody>\n",
       "</table>\n",
       "<p>8 rows × 37 columns</p>\n",
       "</div>"
      ],
      "text/plain": [
       "                0            1            2             3            4   \\\n",
       "count  9496.000000  9496.000000  9496.000000  9.496000e+03  9496.000000   \n",
       "mean      0.484545     0.001209     0.998244  7.971612e-03     0.863980   \n",
       "std       0.048437     0.009576     0.009565  3.465338e-02     0.040973   \n",
       "min      -3.863417    -0.000002     0.081549  4.281891e-07    -1.728136   \n",
       "25%       0.480409     0.000573     0.998004  2.405887e-03     0.864370   \n",
       "50%       0.483995     0.001001     0.998374  3.571461e-03     0.864654   \n",
       "75%       0.490453     0.001450     0.998807  6.412969e-03     0.864966   \n",
       "max       0.983486     0.918455     1.000044  1.814464e+00     1.282856   \n",
       "\n",
       "                5            6            7            8            9   ...  \\\n",
       "count  9496.000000  9496.000000  9496.000000  9496.000000  9496.000000  ...   \n",
       "mean      0.998392     0.490458     0.007219     0.127988     0.998756  ...   \n",
       "std       0.008397     0.472060     0.043592     4.397421     0.009576  ...   \n",
       "min       0.216602    -3.863417    -0.000897    -0.000038     0.081450  ...   \n",
       "25%       0.998484     0.480550     0.002116     0.045245     0.998513  ...   \n",
       "50%       0.998484     0.484780     0.003047     0.056971     0.998954  ...   \n",
       "75%       0.998641     0.492191     0.005323     0.099469     0.999389  ...   \n",
       "max       1.027464    46.240405     2.403578   428.364772     1.000002  ...   \n",
       "\n",
       "                45           47            49           50           54  \\\n",
       "count  9496.000000  9496.000000  9.496000e+03  9496.000000  9496.000000   \n",
       "mean      0.006133     0.904593  6.362136e-03     0.000968     0.333511   \n",
       "std       0.033475     0.727834  2.905675e-02     0.009570     0.084494   \n",
       "min      -0.012462    -0.204019  4.281891e-07    -0.000002    -1.938318   \n",
       "25%       0.001404     0.890227  1.757705e-03     0.000401     0.325785   \n",
       "50%       0.002406     0.897354  2.794063e-03     0.000721     0.326869   \n",
       "75%       0.004495     0.908647  5.035388e-03     0.001130     0.331011   \n",
       "max       1.854684    71.702465  1.263130e+00     0.918455     4.912883   \n",
       "\n",
       "                56           57           58           60           62  \n",
       "count  9496.000000  9496.000000  9496.000000  9496.000000  9496.000000  \n",
       "mean      0.667143     0.026899     0.003378     0.012726     0.030385  \n",
       "std       0.109297     1.328575     0.001215     0.230444     0.642722  \n",
       "min      -7.822884    -0.009247    -0.004572    -0.000006    -0.000978  \n",
       "25%       0.667557     0.001772     0.003349     0.003568     0.008374  \n",
       "50%       0.668577     0.001929     0.003349     0.005289     0.014023  \n",
       "75%       0.670158     0.002018     0.003359     0.008365     0.024192  \n",
       "max       1.943626   121.284553     0.108546    20.280861    62.371024  \n",
       "\n",
       "[8 rows x 37 columns]"
      ]
     },
     "execution_count": 19,
     "metadata": {},
     "output_type": "execute_result"
    }
   ],
   "source": [
    "Xtest_norm.describe()"
   ]
  },
  {
   "cell_type": "markdown",
   "metadata": {
    "id": "tupWwybys-bk",
    "tags": []
   },
   "source": [
    "## 2. Optimisation and learning"
   ]
  },
  {
   "cell_type": "markdown",
   "metadata": {
    "id": "oLlxgI2Ss-bg",
    "tags": []
   },
   "source": [
    "Bankruptcy probability prediction\n",
    "\n",
    "For each instance *i*, the model has to return the estimated probability $\\hat{p}^{(i)}$ that the firm will go bankrupt conditional on the corresponding vector of features $x^{(i)}$.\n",
    "\n",
    "The prediction wil be made using the logistic function. With the logistic function, conditional probabilities are computed as follows\n",
    "\n",
    "\\begin{equation}\n",
    "    \\left\\{\n",
    "    \\begin{array}{ll}\n",
    "        \\hat{p}\\left( y^{(i)} = 1 | \\omega, b, x^{(i)} \\right) & = \\sigma\\left(\\omega^{T} x^i + b\\right) \\\\\n",
    "        \\hat{p}\\left( y^{(i)} = 0 | \\omega, b, x^{(i)} \\right) & = 1 - \\sigma\\left(\\omega^{T} x^i + b\\right)\n",
    "    \\end{array}\n",
    "    \\right.\n",
    "\\end{equation}\n",
    "where:\n",
    "\n",
    "- $x^{(i)}$ is a column vector with 37 components (number of remaining features);\n",
    "- $w$ is a column vector of $n=37$ weights (coefficients);\n",
    "- $b$ is a bias term (intercept/constant);\n",
    "- $\\sigma$ is the logistic function, i.e. $\\sigma(t) = \\frac{1}{\\left(1+\\exp(-t)\\right)}$."
   ]
  },
  {
   "cell_type": "markdown",
   "metadata": {
    "tags": []
   },
   "source": [
    "### 2.1 Class prediction"
   ]
  },
  {
   "cell_type": "markdown",
   "metadata": {
    "id": "oLlxgI2Ss-bg",
    "tags": []
   },
   "source": [
    "The prediction rule is as follows:\n",
    "\\begin{equation}\n",
    "    \\hat{y}^{(i)} = \\left\\{\n",
    "    \\begin{array}{ll}\n",
    "        0 & \\mbox{ if } \\hat{p}^{(i)} < 0.5 \\\\\n",
    "        1 & \\mbox{ if } \\hat{p}^{(i)} \\geq 0.5\n",
    "    \\end{array}\n",
    "    \\right.\n",
    "\\end{equation}\n",
    "\n",
    "Replacing $\\hat{p}^{(i)}$ by its expression as computed using the logistic function we get the following:\n",
    "<img src=\"Logistic-Function.png\" width=50%>"
   ]
  },
  {
   "cell_type": "markdown",
   "metadata": {
    "id": "oLlxgI2Ss-bg",
    "tags": []
   },
   "source": [
    "### 2.2 Cost function"
   ]
  },
  {
   "cell_type": "markdown",
   "metadata": {},
   "source": [
    "Training the model aims at determining the $\\omega$ and $b$ values such that the model estimates a high $\\hat{p}^{(i)}$ value when $y^{(i)}=1$ and a low $\\hat{p}^{(i)}$ value when $y^{(i)}=0$\n",
    "\n",
    "This is achieved by defining a cost function $F(\\omega,b)$ which, for example $i$, is computed as:\n",
    "\\begin{equation}\n",
    "    F^{(i)}(\\omega,b) = \\left\\{\n",
    "    \\begin{array}{ll}\n",
    "        -log(\\hat{p}^{(i)}) & \\mbox{ if } y^{(i)} = 1 \\\\\n",
    "        -log(1 - \\hat{p}^{(i)}) & \\mbox{ if } y^{(i)} = 0\n",
    "    \\end{array}\n",
    "    \\right.\n",
    "\\end{equation}\n",
    "For a set of $m$ instances (or a batch of size $m$), the cost expresses:\n",
    "$$ F(\\omega,b) = - \\frac{1}{m}\\sum^{m}_{i=1} y^{(i)} \\log \\left[ \\sigma \\left(\\omega^T x^{(i)} + b \\right) \\right]+ (1 - y^{(i)}) \\log \\left[ 1 - \\sigma \\left( \\omega^T x^{(i)} + b \\right) \\right]$$"
   ]
  },
  {
   "cell_type": "markdown",
   "metadata": {},
   "source": [
    "We can check that the total cost increases with errors:\n",
    "\n",
    "- if the model predicts a low $\\hat{p}^{(i)}$ probability of bankruptcy for fimr $i$ whereas it goes bankrupt, i.e. when $y^{(i)} = 1$, $- y^{(i)}\\log\\left(\\hat{p}^{(i)} \\right)$ is large;\n",
    "- if the model predicts a large $\\hat{p}^{(i)}$ probability of bankruptcy for fimr $i$ whereas it survives, i.e. when $y^{(i)} = 0$, $- (1 - y^{(i)})\\log \\left(1 - \\hat{p}^{(i)} \\right)$ is large."
   ]
  },
  {
   "cell_type": "markdown",
   "metadata": {},
   "source": [
    "**Note:** the cost function is the opposite of the log-likelihood:\n",
    "\n",
    "- Assuming indepedence observations, the likelihood of observing the sample is:\n",
    "\\begin{eqnarray*}\n",
    "    L(\\omega,b) & = & \\prod^{m}_{i=1} Pr\\left( Y = y^{(i)} | X = x^{(i)}\\right) \\\\\n",
    "    & = & \\prod^{m}_{i=1} \\sigma\\left(\\omega^T x^{(i)} + b \\right)^{y^{(i)}} . \\left(1 - \\sigma\\left(\\omega^T x^{(i)} + b \\right)\\right)^{(1-y^{(i)})}  \n",
    "\\end{eqnarray*}\n",
    "    \n",
    "- Therefore the expression for the log-likelihood is\n",
    "$$ LL(\\omega,b) = \\sum^{m}_{i=1} y^{(i)} \\log \\left[ \\sigma \\left(\\omega^T x^{(i)} + b \\right) \\right] + (1 - y^{(i)}) \\log \\left[ 1 - \\sigma \\left( \\omega^T x^{(i)} + b \\right) \\right]$$"
   ]
  },
  {
   "cell_type": "markdown",
   "metadata": {
    "id": "oLlxgI2Ss-bg",
    "tags": []
   },
   "source": [
    "### 2.3 Cost minimization and gradient"
   ]
  },
  {
   "cell_type": "markdown",
   "metadata": {
    "id": "oLlxgI2Ss-bg",
    "tags": []
   },
   "source": [
    "***Def:*** The gradient of f: $\\mathbb{R}^{n} \\mapsto \\mathbb{R}$ is $$\\nabla f (x)=\\begin{bmatrix}\n",
    "\\frac{\\partial f}{\\partial x_1} \\\\ \n",
    "\\vdots \\\\\n",
    "\\frac{\\partial f}{\\partial x_n} \n",
    "\\end{bmatrix} \\in \\mathbb{R}^{n} $$\n",
    "i.e., a vector that gathers the partial derivatives of f. "
   ]
  },
  {
   "cell_type": "markdown",
   "metadata": {
    "id": "oLlxgI2Ss-bg",
    "tags": []
   },
   "source": [
    "#### 2.3.1 Compute gradient"
   ]
  },
  {
   "cell_type": "markdown",
   "metadata": {
    "id": "oLlxgI2Ss-bg",
    "tags": []
   },
   "source": [
    "##### 2.3.1.2 Numerical approach"
   ]
  },
  {
   "cell_type": "markdown",
   "metadata": {
    "id": "oLlxgI2Ss-bg",
    "tags": []
   },
   "source": [
    "Numerical gradient is defined as:\n",
    "$$[\\nabla_{j} f(x)] = \\frac{\\partial f }{\\partial x_j}(x)= \\frac{f(x+\\epsilon e_j) - f(x)}{\\epsilon}, \\ j \\in \\{ 1, \\dots, n \\}$$ where $\\epsilon$ is a small value (e.g., 10−6).  \n",
    "\n",
    "- Computing $[\\nabla_{j} f(x)]$ approximately by finite difference is $n + 1$ times as costly as evaluating f. "
   ]
  },
  {
   "cell_type": "markdown",
   "metadata": {
    "id": "oLlxgI2Ss-bg",
    "tags": []
   },
   "source": [
    "##### 2.3.1.1 Closed-forme formula"
   ]
  },
  {
   "cell_type": "markdown",
   "metadata": {},
   "source": [
    "Training the model amounts to finding the $\\omega$ and $b$ parameters such that the cost is minimal\n",
    "\n",
    "Unfortunately, there is no closed-form solution to compute the $\\omega$ and $b$ values that minimize the cost function\n",
    "\n",
    "However, since the cost function is convex the optimal $\\omega$ and $b$ values can be found using gradient descent (see below)\n",
    "\n",
    "Computing the partial derivatives, we get:\n",
    "$$ \\frac{\\partial F(\\omega,b)}{\\partial \\omega} = \\frac{1}{m} \\sum^{m}_{i=1} x^{(i)} \\left[ \\sigma \\left(\\omega^T x^{(i)} + b \\right) \\right] - y^{(i)} $$\n",
    "$$ \\frac{\\partial F(\\omega,b)}{\\partial b} = \\frac{1}{m} \\sum^{m}_{i=1} \\sigma \\left(\\omega^T x^{(i)} + b \\right) - y^{(i)} $$\n",
    "\n",
    "Developping the first derivative to display the partial derivatives with respect to each component $\\omega_j$ of $\\omega$, we get the expression of the gradient:\n",
    "$$\n",
    "    \\nabla_{\\omega} F(\\omega) = \\left[\n",
    "    \\begin{array}{c}\n",
    "        \\frac{\\partial F(\\omega,b)}{\\omega_1} \\\\\n",
    "        \\frac{\\partial F(\\omega,b)}{\\omega_2} \\\\\n",
    "        \\vdots \\\\\n",
    "        \\frac{\\partial F(\\omega,b)}{\\omega_n}\n",
    "    \\end{array}\n",
    "    \\right] = \\left[\n",
    "    \\begin{array}{c}\n",
    "        \\frac{1}{m} \\sum^{m}_{i=1} x^{(i)}_1 \\left[ \\sigma \\left(\\omega^T x^{(i)} + b \\right) \\right] - y^{(i)} \\\\\n",
    "        \\frac{1}{m} \\sum^{m}_{i=1} x^{(i)}_2 \\left[ \\sigma \\left(\\omega^T x^{(i)} + b \\right) \\right] - y^{(i)} \\\\\n",
    "        \\vdots \\\\\n",
    "        \\frac{1}{m} \\sum^{m}_{i=1} x^{(i)}_n \\left[ \\sigma \\left(\\omega^T x^{(i)} + b \\right) \\right] - y^{(i)}\n",
    "    \\end{array}\n",
    "    \\right]\n",
    "$$\n"
   ]
  },
  {
   "cell_type": "markdown",
   "metadata": {
    "id": "maKvcAD9s-bk"
   },
   "source": [
    "**Task 9**: Coding Auxiliary functions\n",
    "- Write function `sigmoid(t)` that returns the value of the sigmoid value at $t$, i.e.:\n",
    "$$\\sigma(t) = 1/(1+\\exp(-t))$$\n",
    "\n",
    "- Write the function `sgd_gradw(x, y, w, b)` that reports the value of the gradient components with respect to `w` for a single instance, i.e.:\n",
    "$$x^{(i)}\\left[\\sigma\\left(\\omega^Tx^{(i)}+b\\right) - y^{(i)} \\right]$$\n",
    "\n",
    "- Write the function `sgd_gradb(x, y, w, b)` that reports the value of the partial derivative of the cost function with respect to `b` for a single instance, i.e.:\n",
    "$$\\sigma\\left(\\omega^Tx^{(i)}+b\\right) - y^{(i)}$$\n",
    "\n",
    "- Write the function `cost(x, y, w, b)` that returns the costs for instance $i$, i.e.:\n",
    "$$-y^{(i)} \\log \\sigma\n",
    "\\left(\\omega^Tx^{(i)}+b\\right) - \\left(1 - y^{(i)}\\right)\n",
    "\\log\\left[1 - \\sigma\n",
    "\\left(\\omega^Tx^{(i)}+b\\right) \\right]$$\n",
    "\n",
    "- Write the function `prediction(x, w, b)`that returns the predicted $\\hat{y}^{(i)}$"
   ]
  },
  {
   "cell_type": "code",
   "execution_count": 20,
   "metadata": {
    "id": "a7_DhRGHs-bl"
   },
   "outputs": [],
   "source": [
    "def sigmo(t):\n",
    "    return 1/(1+np.exp(-t))\n",
    "\n",
    "def sgd_gradw(x, y, w, b):\n",
    "    return x*(sigmo(np.dot(w,x)+b)-y)\n",
    "\n",
    "def sgd_gradb(x, y, w, b):\n",
    "    return sigmo(np.dot(w,x)+b)-y\n",
    "\n",
    "def cost(x, y, w, b):\n",
    "    return -y*np.log(sigmo(np.dot(w,x)+b)) - (1-y)*np.log(1-sigmo(np.dot(w,x)+b))\n",
    "\n",
    "def prediction(x, w, b):\n",
    "    out = sigmo(np.dot(w,x)+b)\n",
    "    if out >= .5:\n",
    "        return 1\n",
    "    else:\n",
    "        return 0"
   ]
  },
  {
   "cell_type": "markdown",
   "metadata": {
    "id": "oLlxgI2Ss-bg",
    "tags": []
   },
   "source": [
    "- Hard when you have a more complicated gradient to compute. How to do it ?"
   ]
  },
  {
   "cell_type": "markdown",
   "metadata": {
    "id": "oLlxgI2Ss-bg",
    "tags": []
   },
   "source": [
    "##### 2.3.1.2 Automatic differentiation"
   ]
  },
  {
   "cell_type": "markdown",
   "metadata": {
    "id": "oLlxgI2Ss-bg",
    "tags": []
   },
   "source": [
    "***Def:*** The Jacobian of f: $\\mathbb{R}^{n} \\mapsto \\mathbb{R}^{m}$ is\n",
    "$$ J_{f}(x)= \\begin{bmatrix}\n",
    "\\frac{\\partial f_1}{\\partial x_1} & \\dots & \\frac{\\partial f_1}{\\partial x_n} \\\\ \n",
    "\\vdots & \\ddots  & \\vdots \\\\ \n",
    " \\frac{\\partial f_m}{\\partial x_1} &\\dots   & \\frac{\\partial f_m}{\\partial x_m}\n",
    "\\end{bmatrix}$$\n",
    "\n",
    "$$J_{f}(x)=\\begin{bmatrix}\n",
    "\\frac{\\partial f}{\\partial x_1} & \\dots & \\frac{\\partial f}{\\partial x_n} \\\\ \n",
    "\\end{bmatrix}$$\n",
    "\n",
    "$$J_{f}(x)= \\begin{bmatrix}\n",
    "\\nabla f_{1} (x)^T  \\\\\n",
    " \\vdots \\\\\n",
    "\\nabla f_{m} (x)^T \n",
    "\\end{bmatrix}$$"
   ]
  },
  {
   "cell_type": "markdown",
   "metadata": {
    "id": "oLlxgI2Ss-bg",
    "tags": []
   },
   "source": [
    "\n",
    "***Def:*** Derivative of $\\mathbb{R}^{n} \\mapsto \\mathbb{R}$ in the direction of $v \\in \\mathbb{R}^{n}$\n",
    "$$D_{v} f(x)= \\underset{h \\rightarrow 0}{\\mathrm{lim}} \\frac{f(x+h v) - f(x)}{\\epsilon}, \\ j \\in \\{ 1, \\dots, n \\}  $$\n",
    "Interpretation: rate of change of $f$ in the direction of $v$, when moving away from $x$.\n",
    "Finite difference: $$D_{v} f(x) \\approx \\frac{f(x+h v) - f(x)}{h}$$\n",
    "\n",
    "Only **2** calls to f are needed, i.e., independent of n.\n"
   ]
  },
  {
   "cell_type": "markdown",
   "metadata": {
    "id": "oLlxgI2Ss-bg",
    "tags": []
   },
   "source": [
    "**Def of Jacobian vector product (\"JVP\"):** \n",
    "\n",
    "Right-multiply the Jacobian with a vector $v\\in \\mathbb{R}^n$ \n",
    "$$J_{f}(x)v=\\begin{bmatrix}\n",
    "\\nabla f_{1} (x)^T  \\\\\n",
    " \\vdots \\\\\n",
    "\\nabla f_{m} (x)^T \n",
    "\\end{bmatrix} v$$\n",
    "$$J_{f}(x)v=\\begin{bmatrix}\n",
    "\\nabla f_{1} (x) . v  \\\\\n",
    " \\vdots \\\\\n",
    "\\nabla f_{m} (x) . v \n",
    "\\end{bmatrix}$$\n",
    "$$J_{f}(x)v=  \\underset{h \\rightarrow 0}{\\mathrm{lim}} \\frac{f(x+h v) - f(x)}{h}$$\n",
    "- Computing the JVP approximately by (central) finite difference requires only 2 calls to $f$."
   ]
  },
  {
   "cell_type": "markdown",
   "metadata": {
    "id": "oLlxgI2Ss-bg",
    "tags": []
   },
   "source": [
    "**Def of Vector Jacobian Product (\"VJP\")** \n",
    "\n",
    "Left-multiply the Jacobian with a vector $u\\in \\mathbb{R}^m$ \n",
    "$$u^{T} J_{f}(x)= u^{T} \\begin{bmatrix}\n",
    "\\frac{\\partial f}{\\partial x_1} & \\dots & \\frac{\\partial f}{\\partial x_n}\n",
    "\\end{bmatrix} v$$\n",
    "Finite difference\n",
    "$$\\frac{\\partial f }{\\partial x_j}(x)= \\frac{f(x+\\epsilon e_j) - f(x)}{\\epsilon}$$\n",
    "- Computing the VJP approximately by finite difference requires $n + 1$ calls (2$n$ calls) to f."
   ]
  },
  {
   "cell_type": "markdown",
   "metadata": {
    "id": "oLlxgI2Ss-bg",
    "tags": []
   },
   "source": [
    "<img src=\"Chain_rules_1.png\" width=50% align=\"center\">"
   ]
  },
  {
   "cell_type": "markdown",
   "metadata": {
    "id": "oLlxgI2Ss-bg",
    "tags": []
   },
   "source": [
    "$$f=f_4(f_3(f_2(f_1(x)))))$$\n",
    "$$f=f_4 \\circ \\dots \\circ f_1$$ \n",
    "$$x_2=f_1(x, w) = w \\times x$$ \n",
    "$$x_3= f_2(x_2,b)= x_2 +b$$\n",
    "$$x_4= f_3(x_3,\\otimes)= \\sigma(x_3)$$\n",
    "$$o= F(x_4,y)$$"
   ]
  },
  {
   "cell_type": "markdown",
   "metadata": {
    "id": "oLlxgI2Ss-bg",
    "tags": []
   },
   "source": [
    "<img src=\"composition_function.png\" width=50%>"
   ]
  },
  {
   "cell_type": "markdown",
   "metadata": {
    "id": "oLlxgI2Ss-bg",
    "tags": []
   },
   "source": [
    "***Forward differentiation***"
   ]
  },
  {
   "cell_type": "markdown",
   "metadata": {
    "id": "oLlxgI2Ss-bg",
    "tags": []
   },
   "source": [
    "<img src=\"Forward_diff.png\" width=50%>"
   ]
  },
  {
   "cell_type": "markdown",
   "metadata": {
    "id": "oLlxgI2Ss-bg",
    "tags": []
   },
   "source": [
    "<img src=\"Forward_diff_algo.png\" width=50%>"
   ]
  },
  {
   "cell_type": "markdown",
   "metadata": {
    "id": "oLlxgI2Ss-bg",
    "tags": []
   },
   "source": [
    "- Most case inefficient in ML"
   ]
  },
  {
   "cell_type": "markdown",
   "metadata": {
    "id": "oLlxgI2Ss-bg",
    "tags": []
   },
   "source": [
    "***Backward differentiation (i.e Backpropagation)***"
   ]
  },
  {
   "cell_type": "markdown",
   "metadata": {
    "id": "oLlxgI2Ss-bg",
    "tags": []
   },
   "source": [
    "<img src=\"Backward_diff.png\" width=50%>"
   ]
  },
  {
   "cell_type": "markdown",
   "metadata": {
    "id": "oLlxgI2Ss-bg",
    "tags": []
   },
   "source": [
    "<img src=\"Backward_diff_algo.png\" width=50%>"
   ]
  },
  {
   "cell_type": "markdown",
   "metadata": {
    "id": "oLlxgI2Ss-bg",
    "tags": []
   },
   "source": [
    "***Let's code in our case !***"
   ]
  },
  {
   "cell_type": "code",
   "execution_count": 21,
   "metadata": {},
   "outputs": [],
   "source": [
    "def num_jvp(f, x, v, eps=1e-6):\n",
    "  \"\"\"\n",
    "  Args:\n",
    "    f: a function returning an array.\n",
    "    x: an array.\n",
    "    v: an array (same shape as x).\n",
    "\n",
    "  Returns:\n",
    "    numerical_jvp\n",
    "  \"\"\"\n",
    "  if not np.array_equal(x.shape, v.shape):\n",
    "    raise ValueError(\"x and v should have the same shape.\")\n",
    "\n",
    "  return (f(x + eps * v) - f(x - eps * v)) / (2 * eps)\n",
    "\n",
    "def num_jacobian(f, x, eps=1e-6):\n",
    "  \"\"\"\n",
    "  Args:\n",
    "    f: a function returning an array.\n",
    "    x: an array (only 1d and 2d arrays supported).\n",
    "\n",
    "  Returns:\n",
    "    numerical_jacobian\n",
    "  \"\"\"\n",
    "  def e(i):\n",
    "    ret = np.zeros_like(x)\n",
    "    ret[i] = 1\n",
    "    return ret\n",
    "\n",
    "  def E(i, j):\n",
    "    ret = np.zeros_like(x)\n",
    "    ret[i, j] = 1\n",
    "    return ret\n",
    "\n",
    "  if len(x.shape) == 1:\n",
    "    return np.array([num_jvp(f, x, e(i), eps=eps) for i in range(len(x))]).T\n",
    "  elif len(x.shape) == 2:\n",
    "    return np.array([[num_jvp(f, x, E(i, j), eps=eps) \\\n",
    "                     for i in range(x.shape[0])] \\\n",
    "                     for j in range(x.shape[1])]).T\n",
    "  else:\n",
    "    raise NotImplementedError\n",
    "\n",
    "def num_vjp(f, x, u, eps=1e-6):\n",
    "  \"\"\"\n",
    "  Args:\n",
    "    f: a function returning an array.\n",
    "    x: an array (only 1d and 2d arrays supported).\n",
    "\n",
    "  Returns:\n",
    "    numerical_vjp\n",
    "  \"\"\"\n",
    "  J = num_jacobian(f, x, eps=eps)\n",
    "  if len(J.shape) == 2:\n",
    "    return J.T.dot(u)\n",
    "  elif len(J.shape) == 3:\n",
    "    shape = J.shape[1:]\n",
    "    J = J.reshape(J.shape[0], -1)\n",
    "    return u.dot(J).reshape(shape)\n",
    "  else:\n",
    "    raise NotImplementedError"
   ]
  },
  {
   "cell_type": "markdown",
   "metadata": {
    "id": "Sn8-CxAHIqVD"
   },
   "source": [
    "##### Vector Jacobian products (VJPs) for basic primitives\n",
    "\n"
   ]
  },
  {
   "cell_type": "code",
   "execution_count": 22,
   "metadata": {},
   "outputs": [],
   "source": [
    "def dot(x, W):\n",
    "  return np.dot(W, x)\n",
    "\n",
    "def dot_make_vjp(x, W):\n",
    "  def vjp(u):\n",
    "    return W.T.dot(u), np.outer(u, x)\n",
    "  return vjp\n",
    "\n",
    "dot.make_vjp = dot_make_vjp\n",
    "\n",
    "def sigmoid(x):\n",
    "  return 1 / (1 + np.exp(-x))\n",
    "\n",
    "def tanh(x):\n",
    "  #On ne leurs donne pas cela \n",
    "  return np.tanh(x)\n",
    "    \n",
    "def squared_loss(y_pred, y):\n",
    "  # The code requires every output to be an array.\n",
    "  return np.array([0.5 * np.sum((y - y_pred) ** 2)])\n",
    "\n",
    "def squared_loss_make_vjp(y_pred, y):\n",
    "  diff = y_pred - y\n",
    "\n",
    "  def vjp(u):\n",
    "    return diff * u, -diff * u\n",
    "\n",
    "  return vjp\n",
    "\n",
    "squared_loss.make_vjp = squared_loss_make_vjp\n",
    "\n",
    "# Cross-entropy loss\n",
    "def cross_entropy_loss(y_pred, y):\n",
    "    cross_entropy = -y * np.log(y_pred) - (1 - y)*np.log(1 - y_pred)\n",
    "    return np.array([cross_entropy])\n",
    "\n",
    "def add(a, b):\n",
    "  return a + b\n",
    "\n",
    "def add_make_vjp(a, b):\n",
    "  gprime = np.ones(len(a))\n",
    "\n",
    "\n",
    "  def vjp(u):\n",
    "    return u * gprime, u * gprime\n",
    "\n",
    "  return vjp\n",
    "\n",
    "add.make_vjp = add_make_vjp\n",
    "\n",
    "def mul(a, b):\n",
    "  return a * b\n",
    "\n",
    "def mul_make_vjp(a, b):\n",
    "  gprime_a = b\n",
    "  gprime_b = a\n",
    "\n",
    "  def vjp(u):\n",
    "    return u * gprime_a, u * gprime_b\n",
    "\n",
    "  return vjp\n",
    "\n",
    "mul.make_vjp = mul_make_vjp\n",
    "\n",
    "def exp(x):\n",
    "  return np.exp(x)\n",
    "\n",
    "def exp_make_vjp(x):\n",
    "  gprime = exp(x)\n",
    "\n",
    "  def vjp(u):\n",
    "    return u * gprime,\n",
    "\n",
    "  return vjp\n",
    "\n",
    "exp.make_vjp = exp_make_vjp\n",
    "\n",
    "def sqrt(x):\n",
    "  return np.sqrt(x)\n",
    "\n",
    "def sqrt_make_vjp(x):\n",
    "  gprime = 1. / (2 * sqrt(x))\n",
    "\n",
    "  def vjp(u):\n",
    "    return u * gprime,\n",
    "\n",
    "  return vjp\n",
    "\n",
    "sqrt.make_vjp = sqrt_make_vjp"
   ]
  },
  {
   "cell_type": "markdown",
   "metadata": {
    "id": "wyZTVrEQNdJR"
   },
   "source": [
    "**Task 10** \n",
    "\n",
    "Look at the \"exp\", \"sqrt\" and \"squared_loss\" examples above and define the primitive and its associated VJP for the sigmoid function: `sigmoid(x) = 1/(1+ np.exp(-x))`, for the hyperbolic tangent function: `tanh(x) = (np.exp(x)-np.exp(-x))/(np.exp(x)+np.exp(-x))` and cross entropy loss: `-y * np.log(y_pred) - (1 - y)*np.log(1 - y_pred)`. Check the correctness of your implementation using the `num_vjp` utility function."
   ]
  },
  {
   "cell_type": "code",
   "execution_count": 23,
   "metadata": {
    "id": "luk7y1NqNue2"
   },
   "outputs": [],
   "source": [
    "def sigmoid_make_vjp(x):\n",
    "  #gprime= np.exp(-x)/ ((1+ np.exp(-x))**2)\n",
    "\n",
    "  gprime=sigmoid(x)* (1-sigmoid(x))\n",
    "\n",
    "  def vjp(u):\n",
    "    return u * gprime,\n",
    "\n",
    "  return vjp\n",
    "\n",
    "sigmoid.make_vjp = sigmoid_make_vjp\n",
    "\n",
    "def cross_entropy_loss_make_vjp(y_pred, y):\n",
    "    gprime_y = np.log(1 - y_pred) - np.log(y_pred)\n",
    "    gprime_y_pred= (1-y)/(1-y_pred) - (y)/(y_pred)\n",
    "\n",
    "    def vjp(u):\n",
    "      return u*gprime_y_pred, u* gprime_y\n",
    "\n",
    "    return vjp\n",
    "\n",
    "cross_entropy_loss.make_vjp = cross_entropy_loss_make_vjp\n",
    "\n",
    "def tanh_make_vjp(x):\n",
    " \n",
    "  gprime=(1-tanh(x)**2)\n",
    "\n",
    "  def vjp(u):\n",
    "    return u * gprime,\n",
    "\n",
    "  return vjp\n",
    "\n",
    "tanh.make_vjp = tanh_make_vjp"
   ]
  },
  {
   "cell_type": "code",
   "execution_count": 24,
   "metadata": {
    "id": "kAKJn7V6Toml"
   },
   "outputs": [],
   "source": [
    "rng = np.random.RandomState(0)\n",
    "x_test_toy = rng.randn(5)\n",
    "u_test_toy = rng.randn(5)"
   ]
  },
  {
   "cell_type": "code",
   "execution_count": 25,
   "metadata": {
    "colab": {
     "base_uri": "https://localhost:8080/"
    },
    "id": "aaQLD9S6TeIi",
    "outputId": "d319095b-1da7-4af0-9173-3a013c14fc3c"
   },
   "outputs": [
    {
     "name": "stdout",
     "output_type": "stream",
     "text": [
      "Our implementation:\n",
      "\n",
      "[(-0.1220470202913649,), (0.22826186750045688,), (-0.030049789465322333,), (-0.00896924374617215,), (0.047594742900286875,)]\n",
      "\n",
      "Check with VJP:\n",
      "\n",
      "[-0.12204702  0.22826187 -0.03004979 -0.00896924  0.04759474]\n"
     ]
    }
   ],
   "source": [
    "def sigmoid_make_vjp_test(x,u):\n",
    "  r = [sigmoid_make_vjp(x[i])(u[i]) for i in range(len(x))]\n",
    "  return r\n",
    "\n",
    "print('Our implementation:\\n')\n",
    "print(sigmoid_make_vjp_test(x_test_toy,u_test_toy))\n",
    "\n",
    "print('\\nCheck with VJP:\\n')\n",
    "print(num_vjp(sigmoid, x_test_toy, u_test_toy))"
   ]
  },
  {
   "cell_type": "code",
   "execution_count": 26,
   "metadata": {
    "colab": {
     "base_uri": "https://localhost:8080/"
    },
    "id": "JDuhD62xuKD0",
    "outputId": "3caf383d-b989-4c47-cbed-ff9f87633016"
   },
   "outputs": [
    {
     "name": "stdout",
     "output_type": "stream",
     "text": [
      "Our implementation:\n",
      "\n",
      "[(-0.10831950192035003,), (0.8128353740579084,), (-0.0656458992394884,), (-0.004567016431177733,), (0.037397891282206844,)]\n",
      "\n",
      "Check with VJP:\n",
      "\n",
      "[-0.1083195   0.81283537 -0.0656459  -0.00456702  0.03739789]\n"
     ]
    }
   ],
   "source": [
    "def tanh_make_vjp_test(x,u):\n",
    "  r = [tanh_make_vjp(x[i])(u[i]) for i in range(len(x))]\n",
    "  return r\n",
    "\n",
    "print('Our implementation:\\n')\n",
    "print(tanh_make_vjp_test(x_test_toy,u_test_toy))\n",
    "\n",
    "print('\\nCheck with VJP:\\n')\n",
    "print(num_vjp(tanh, x_test_toy, u_test_toy))"
   ]
  },
  {
   "cell_type": "code",
   "execution_count": 27,
   "metadata": {
    "colab": {
     "base_uri": "https://localhost:8080/"
    },
    "id": "olOrVAFdTcKU",
    "outputId": "0e4851ea-8fc1-4f11-b3b9-b7e9c804e7d5"
   },
   "outputs": [
    {
     "name": "stdout",
     "output_type": "stream",
     "text": [
      "# set value for y_pred, get derivative over y:\n",
      "\n",
      "> our implementation:\n",
      "\n",
      "[-1.9951259882042933, 0.2739591170827161, -0.41805652649363706, 1.1405210316573902, 3.4091477624585944]\n",
      "\n",
      "> check with VJP:\n",
      "\n",
      "[[-1.99512599  0.27395912 -0.41805653  1.14052103  3.40914776]]\n",
      "\n",
      "\n",
      "# set value for y, get derivative over y_pred:\n",
      "\n",
      "Our implementation:\n",
      "\n",
      "[6.384136315744669, -0.3637422478589341, 0.6136001703421502, -10.398683938095902, 0.6226082908779592]\n",
      "\n",
      "Check with VJP:\n",
      "\n",
      "[[  6.38413632  -0.36374225   0.61360017 -10.39868394   0.62260829]]\n"
     ]
    }
   ],
   "source": [
    "# simulate relevant values\n",
    "y_pred_test_toy = rng.rand(5)\n",
    "y_test_toy = rng.rand(5)\n",
    "u_test_toy = rng.randn(5)\n",
    "\n",
    "print('# set value for y_pred, get derivative over y:\\n')\n",
    "y_pred_ref_value = y_pred_test_toy[0]\n",
    "def f(x, eps = 1e-3):\n",
    "  return cross_entropy_loss(y_pred = y_pred_ref_value, y = x)\n",
    "print('> our implementation:\\n')\n",
    "print([cross_entropy_loss_make_vjp(y_pred = y_pred_ref_value, y = y_test_toy[i])(u_test_toy[i])[1] for i in range(len(y_test_toy))])\n",
    "print('\\n> check with VJP:\\n')\n",
    "print(num_vjp(f = f, x = y_test_toy, u = u_test_toy))\n",
    "\n",
    "print('\\n\\n# set value for y, get derivative over y_pred:\\n')\n",
    "y_ref_value = y_test_toy[0]\n",
    "def f(x, eps = 1e-3):\n",
    "  return cross_entropy_loss(y_pred = x, y = y_ref_value)\n",
    "print('Our implementation:\\n')\n",
    "print([cross_entropy_loss_make_vjp(y_pred = y_pred_test_toy[i], y = y_ref_value)(u_test_toy[i])[0] for i in range(len(y_test_toy))])\n",
    "print('\\nCheck with VJP:\\n')\n",
    "print(num_vjp(f = f, x = y_pred_test_toy, u = u_test_toy))\n"
   ]
  },
  {
   "cell_type": "markdown",
   "metadata": {
    "id": "sH37U1gpN86J"
   },
   "source": [
    "***Reverse differentiation of feedforward networks***\n",
    "\n",
    "We represent a feedforward network using a list of functions and a list of parameters. Let us create a small utility function for creating such a network."
   ]
  },
  {
   "cell_type": "code",
   "execution_count": 28,
   "metadata": {},
   "outputs": [],
   "source": [
    "def create_feed_forward(n, y, seed=0):\n",
    "  rng = np.random.RandomState(seed)\n",
    "\n",
    "  funcs = [\n",
    "    dot,\n",
    "    add,\n",
    "    sigmoid,\n",
    "    cross_entropy_loss,\n",
    "  ]\n",
    "\n",
    "  params = [\n",
    "        rng.randn(1, n), # w\n",
    "        rng.randn(1), # b\n",
    "        None,   \n",
    "        y\n",
    "  ]\n",
    "\n",
    "  return funcs, params"
   ]
  },
  {
   "cell_type": "markdown",
   "metadata": {
    "id": "_TEs4xEGQySA"
   },
   "source": [
    "Next, let us create a small utility function for correctly calling each function, depending on whether it has 1 or 2 arguments."
   ]
  },
  {
   "cell_type": "code",
   "execution_count": 29,
   "metadata": {
    "id": "n8-rUfSlQ6-s"
   },
   "outputs": [],
   "source": [
    "def call_func(x, func, param):\n",
    "  \"\"\"Make sure the function is called with the correct number of arguments.\"\"\"\n",
    "\n",
    "  if param is None:\n",
    "    # Unary function\n",
    "    return func(x)\n",
    "  else:\n",
    "    # Binary function\n",
    "    return func(x, param)"
   ]
  },
  {
   "cell_type": "markdown",
   "metadata": {
    "id": "OcR14zoMRPUC"
   },
   "source": [
    "***Task 11***  \n",
    "\n",
    "Implement the following function for evaluating the feedforward network. Check that the returned value is correct."
   ]
  },
  {
   "cell_type": "code",
   "execution_count": 60,
   "metadata": {
    "id": "xmnpMz9bRx-Q"
   },
   "outputs": [],
   "source": [
    "def evaluate_chain(x, funcs, params, return_all=False):\n",
    "  \"\"\"\n",
    "  Evaluate a chain of functions.\n",
    "\n",
    "  Args:\n",
    "    x: initial input to the chain.\n",
    "    funcs: a list of functions of the form func(x) or func(x, param).\n",
    "    params: a list of parameters, with len(params) = len(funcs).\n",
    "            If a function doesn't have parameters, use None.\n",
    "    return_all: whether to return all intermediate values or only the last one.\n",
    "\n",
    "  Returns:\n",
    "    value (return_all == False) or values (return_all=True)\n",
    "  \"\"\"\n",
    "  if len(funcs) != len(params):\n",
    "    raise ValueError(\"len(funcs) and len(params) should be equal.\")\n",
    "\n",
    "  xs = [x]\n",
    "\n",
    "  for k in range(len(funcs)):\n",
    "    xs.append(call_func(xs[k], funcs[k], params[k]))\n",
    "\n",
    "  if return_all:\n",
    "    return xs\n",
    "  else:\n",
    "    return xs[-1]\n"
   ]
  },
  {
   "cell_type": "code",
   "execution_count": 61,
   "metadata": {
    "colab": {
     "base_uri": "https://localhost:8080/"
    },
    "id": "IlqFsw7jsa4E",
    "outputId": "bb688bda-5249-4d8f-c6dc-7d0ce23f70ef"
   },
   "outputs": [
    {
     "data": {
      "text/plain": [
       "[array([-1.32818605,  0.19686124]),\n",
       " array([-0.68694769]),\n",
       " array([-0.03925915]),\n",
       " array([0.49018647]),\n",
       " array([[0.70079907]])]"
      ]
     },
     "execution_count": 61,
     "metadata": {},
     "output_type": "execute_result"
    }
   ],
   "source": [
    "x_toy = rng.randn(2)\n",
    "y_toy = 0.69\n",
    "\n",
    "funcs, params = create_feed_forward(n=len(x_toy), y=y_toy, seed=42)\n",
    "w_toy,b_toy,_,y_toy = params\n",
    "\n",
    "value1=evaluate_chain(x_toy, funcs, params,True)\n",
    "value1"
   ]
  },
  {
   "cell_type": "code",
   "execution_count": 62,
   "metadata": {
    "colab": {
     "base_uri": "https://localhost:8080/"
    },
    "id": "Bpvvx4dHpA_P",
    "outputId": "2f3a102c-2082-4948-a1ea-ba763d69c963"
   },
   "outputs": [
    {
     "name": "stdout",
     "output_type": "stream",
     "text": [
      "[-1.32818605  0.19686124]\n",
      "[-0.68694769]\n",
      "[-0.03925915]\n",
      "[0.49018647]\n"
     ]
    },
    {
     "data": {
      "text/plain": [
       "array([[0.70079907]])"
      ]
     },
     "execution_count": 62,
     "metadata": {},
     "output_type": "execute_result"
    }
   ],
   "source": [
    "# Make sure that `evaluate_chain(x, funcs, params)` returns the same value as\n",
    "# a manual implementaton:\n",
    "print(x_toy)\n",
    "x1 = dot(x_toy, w_toy)\n",
    "print(x1)\n",
    "x2 = add(x1,b_toy)\n",
    "print(x2)\n",
    "x3=sigmoid(x2)\n",
    "print(x3)\n",
    "value = cross_entropy_loss(x3, y_toy)\n",
    "value\n"
   ]
  },
  {
   "cell_type": "markdown",
   "metadata": {
    "id": "TuZNM-6yT0gp"
   },
   "source": [
    "**Task 12**\n",
    "\n",
    "Reusing the previous function with `return_all=True`, implement the following function that returns both the network value and the Jacobian w.r.t. `x`. Check correctness of the Jacobian using `num_jacobian`."
   ]
  },
  {
   "cell_type": "code",
   "execution_count": 63,
   "metadata": {
    "id": "YmXeQ34TULOP"
   },
   "outputs": [],
   "source": [
    "def call_vjp(x, func, param, u):\n",
    "  \"\"\"Make sure the vjp is called with the correct number of arguments.\"\"\"\n",
    "  if param is None:\n",
    "    vjp = func.make_vjp(x)\n",
    "    vjp_x, = vjp(u)\n",
    "    vjp_param = None\n",
    "  else:\n",
    "    vjp = func.make_vjp(x, param)\n",
    "    vjp_x, vjp_param = vjp(u)\n",
    "  return vjp_x, vjp_param"
   ]
  },
  {
   "cell_type": "code",
   "execution_count": 64,
   "metadata": {
    "id": "W-ImE7wiz295"
   },
   "outputs": [],
   "source": [
    "def reverse_diff_chain(x, funcs, params):\n",
    "  \"\"\"\n",
    "  Reverse-mode differentiation of a chain of computations.\n",
    "\n",
    "  Args:\n",
    "    x: initial input to the chain.\n",
    "    funcs: a list of functions of the form func(x) or func(x, param).\n",
    "    params: a list of parameters, with len(params) = len(funcs).\n",
    "            If a function doesn't have parameters, use None.\n",
    "\n",
    "  Returns:\n",
    "    value, Jacobian w.r.t. x\n",
    "  \"\"\"\n",
    "  # Evaluate the feedforward model and store intermediate computations,\n",
    "  # as they will be needed during the backward pass.\n",
    "  xs = evaluate_chain(x, funcs, params, return_all=True)\n",
    "  m = xs[-1].shape[0]  # Output size\n",
    "  K = len(funcs)  # Number of functions.\n",
    "\n",
    "  # We need a list as the shape of U can change.\n",
    "  U = list(np.eye(m))\n",
    "\n",
    "  for k in reversed(range(K)):\n",
    "\n",
    "    for i in range(m):\n",
    "      vjp_x, vjp_param = call_vjp(xs[k], funcs[k], params[k], U[i])\n",
    "      U[i] = vjp_x\n",
    "\n",
    "  return xs[-1], np.array(U)"
   ]
  },
  {
   "cell_type": "code",
   "execution_count": 65,
   "metadata": {
    "colab": {
     "base_uri": "https://localhost:8080/"
    },
    "id": "grSaHXn1zz2c",
    "outputId": "ed8b7a03-96e6-45f5-866a-2ae6b4a00844"
   },
   "outputs": [
    {
     "name": "stdout",
     "output_type": "stream",
     "text": [
      "[[-0.09925021  0.02762708]]\n",
      "[[0.70079907]]\n"
     ]
    }
   ],
   "source": [
    "value, jac = reverse_diff_chain(x_toy, funcs, params)\n",
    "print(jac)\n",
    "print(value)"
   ]
  },
  {
   "cell_type": "code",
   "execution_count": 66,
   "metadata": {
    "colab": {
     "base_uri": "https://localhost:8080/"
    },
    "id": "grSaHXn1zz2c",
    "outputId": "ed8b7a03-96e6-45f5-866a-2ae6b4a00844"
   },
   "outputs": [
    {
     "name": "stdout",
     "output_type": "stream",
     "text": [
      "[[[-0.09925021  0.02762708]]]\n",
      "[[-0.09925021  0.02762708]]\n",
      "[[0.70079907]]\n"
     ]
    }
   ],
   "source": [
    "# Check correctness of Jacobian using `num_jacobian`.\n",
    "def f(x):\n",
    "  return evaluate_chain(x, funcs, params)\n",
    "# # num_jacobian only accepts functions of one argument.\n",
    "num_jac = num_jacobian(f, x_toy)\n",
    "value_test, jac_test = reverse_diff_chain(x_toy, funcs, params)\n",
    "print(num_jac)\n",
    "print(jac_test)\n",
    "print(value_test)"
   ]
  },
  {
   "cell_type": "markdown",
   "metadata": {
    "id": "8fvXX-HaVz4Y"
   },
   "source": [
    "**Task 13**\n",
    "\n",
    "Modify the above function to also return the Jacobians w.r.t. W1, W3, W5. Check correctness using `num_jacobian`."
   ]
  },
  {
   "cell_type": "code",
   "execution_count": 67,
   "metadata": {
    "id": "WdORIm-dknVH"
   },
   "outputs": [],
   "source": [
    "def reverse_diff_chain_2(x, funcs, params):\n",
    "  \"\"\"\n",
    "  Reverse-mode differentiation of a chain of computations.\n",
    "\n",
    "  Args:\n",
    "    x: initial input to the chain.\n",
    "    funcs: a list of functions of the form func(x) or func(x, param).\n",
    "    params: a list of parameters, with len(params) = len(funcs).\n",
    "            If a function doesn't have parameters, use None.\n",
    "\n",
    "  Returns:\n",
    "    value, Jacobian w.r.t. x, Jacobians w.r.t. params.\n",
    "  \"\"\"\n",
    "  # Evaluate the feedforward model and store intermediate computations,\n",
    "  # as they will be needed during the backward pass.\n",
    "  xs = evaluate_chain(x, funcs, params, return_all=True)\n",
    "\n",
    "  m = xs[-1].shape[0]  # Output size\n",
    "  K = len(funcs)  # Number of functions.\n",
    "\n",
    "  # We need a list as the shape of U can change.\n",
    "  U = list(np.eye(m))\n",
    "\n",
    "  # List that will contain the Jacobian of each function w.r.t. parameters.\n",
    "  J = [None] * K\n",
    "\n",
    "  for k in reversed(range(K)):\n",
    "    jac = []\n",
    "\n",
    "    for i in range(m):\n",
    "      vjp_x, vjp_param = call_vjp(xs[k], funcs[k], params[k], U[i])\n",
    "      jac.append(vjp_param)\n",
    "      U[i] = vjp_x\n",
    "\n",
    "    J[k] = np.array(jac)\n",
    "\n",
    "  return xs[-1], np.array(U), J"
   ]
  },
  {
   "cell_type": "code",
   "execution_count": 68,
   "metadata": {
    "colab": {
     "base_uri": "https://localhost:8080/"
    },
    "id": "fMsjIzq21mIh",
    "outputId": "52eadb33-2900-4798-dcb2-4915b81a5efc"
   },
   "outputs": [
    {
     "name": "stdout",
     "output_type": "stream",
     "text": [
      "[-1.32818605  0.19686124]\n",
      "[[-0.09925021  0.02762708]]\n",
      "[array([[[ 0.26538954, -0.03933554]]]), array([[-0.19981353]]), array([None], dtype=object), array([[0.03925915]])]\n",
      "[[0.70079907]]\n"
     ]
    }
   ],
   "source": [
    "value, jac, W = reverse_diff_chain_2(x_toy, funcs, params)\n",
    "print(x_toy)\n",
    "print(jac)\n",
    "print(W)\n",
    "print(value)"
   ]
  },
  {
   "cell_type": "markdown",
   "metadata": {
    "id": "l0w7wNG1cYDv"
   },
   "source": [
    "**Task 15:**\n",
    "\n",
    "Validate preceding results with JAX framework"
   ]
  },
  {
   "cell_type": "code",
   "execution_count": 69,
   "metadata": {
    "id": "Hsz0G4pRcb-F"
   },
   "outputs": [],
   "source": [
    "import jax.numpy as jnp\n",
    "from jax import grad\n",
    "\n",
    "def jnp_sigmoid(x):\n",
    "    return 1 / (1 + jnp.exp(-x))\n",
    "\n",
    "# Computes our network's output\n",
    "def net(params, x):\n",
    "    w, b = params\n",
    "    return jnp_sigmoid(jnp.dot(w, x) + b)\n",
    "\n",
    "# Cross-entropy loss\n",
    "def loss(params, x, y):\n",
    "    out = net(params, x)\n",
    "    cross_entropy = -y * jnp.log(out) - (1 - y)*jnp.log(1 - out)\n",
    "    return cross_entropy[0]\n",
    "\n",
    "# compute loss gradient\n",
    "loss_grad = grad(loss)"
   ]
  },
  {
   "cell_type": "code",
   "execution_count": 40,
   "metadata": {},
   "outputs": [],
   "source": [
    "rng = np.random.RandomState(42)\n",
    "# random initialization of w and b\n",
    "w_comp = rng.randn(1, Xtrain_norm.shape[1])\n",
    "b_comp = rng.randn(1)\n",
    "\n",
    "Xtrain_rand = Xtrain_norm.sample(frac=1)\n",
    "# Reorder Ytrain in the same order as Xtrain_rand\n",
    "Ytrain_rand = Ytrain.reindex(Xtrain_rand.index)\n",
    "x_comp = Xtrain_rand.iloc[0,:]\n",
    "y_comp = Ytrain_rand.iloc[0]\n"
   ]
  },
  {
   "cell_type": "code",
   "execution_count": 41,
   "metadata": {},
   "outputs": [
    {
     "name": "stdout",
     "output_type": "stream",
     "text": [
      "[6.07538697e-02 5.56342348e-05 1.23467230e-01 9.43613134e-04\n",
      " 1.06921326e-01 1.23491621e-01 6.11095178e-02 7.07033642e-04\n",
      " 6.20803034e-03 1.23512209e-01 5.83139740e-02 4.76627384e-03\n",
      " 6.11095178e-02 1.30546533e-02 3.15705133e-03 8.52393673e-04\n",
      " 6.11095178e-02 1.09731053e-01 1.23517394e-01 3.67440370e-03\n",
      " 8.15305352e-02 7.46107126e-03 2.83024740e-03 1.15493354e-01\n",
      " 8.73591942e-03 1.23521853e-01 6.59492315e-04 6.10869407e-04\n",
      " 1.12382103e-01 7.81098232e-04 4.59937497e-05 4.23582165e-02\n",
      " 8.27820201e-02 2.19973475e-04 4.14265857e-04 5.55202525e-04\n",
      " 2.80302350e-03]\n",
      "[0.12361166]\n"
     ]
    }
   ],
   "source": [
    "#######Closed_formulas\n",
    "grad_w_cf = sgd_gradw(x_comp, y_comp, w_comp, b_comp)\n",
    "grad_b_cf = sgd_gradb(x_comp, y_comp, w_comp, b_comp)\n",
    "\n",
    "print(np.array(grad_w_cf))\n",
    "print(np.array(grad_b_cf))\n",
    "\n"
   ]
  },
  {
   "cell_type": "code",
   "execution_count": 42,
   "metadata": {},
   "outputs": [
    {
     "name": "stdout",
     "output_type": "stream",
     "text": [
      "[array([[[6.07538697e-02, 5.56342348e-05, 1.23467230e-01, 9.43613134e-04,\n",
      "         1.06921326e-01, 1.23491621e-01, 6.11095178e-02, 7.07033642e-04,\n",
      "         6.20803034e-03, 1.23512209e-01, 5.83139740e-02, 4.76627384e-03,\n",
      "         6.11095178e-02, 1.30546533e-02, 3.15705133e-03, 8.52393673e-04,\n",
      "         6.11095178e-02, 1.09731053e-01, 1.23517394e-01, 3.67440370e-03,\n",
      "         8.15305352e-02, 7.46107126e-03, 2.83024740e-03, 1.15493354e-01,\n",
      "         8.73591942e-03, 1.23521853e-01, 6.59492315e-04, 6.10869407e-04,\n",
      "         1.12382103e-01, 7.81098232e-04, 4.59937497e-05, 4.23582165e-02,\n",
      "         8.27820201e-02, 2.19973475e-04, 4.14265857e-04, 5.55202525e-04,\n",
      "         2.80302350e-03]]]), array([[0.12361166]]), array([None], dtype=object), array([[1.95866446]])]\n"
     ]
    }
   ],
   "source": [
    "def create_feed_forward_2(y,w,b):\n",
    "  \n",
    "\n",
    "  funcs = [\n",
    "    dot,\n",
    "    add,\n",
    "    sigmoid,\n",
    "    cross_entropy_loss,\n",
    "  ]\n",
    "\n",
    "  params = [\n",
    "        w, # w\n",
    "        b, # b\n",
    "        None,   \n",
    "        y\n",
    "  ]\n",
    "\n",
    "  return funcs, params\n",
    "\n",
    "funcs, params = create_feed_forward_2(y=y_comp,w=w_comp,b=b_comp)\n",
    "w_comp,b_comp,_,y_comp = params\n",
    "value, jac, W = reverse_diff_chain_2(np.array(x_comp), funcs, params)\n",
    "print(W)\n",
    "\n"
   ]
  },
  {
   "cell_type": "code",
   "execution_count": 43,
   "metadata": {},
   "outputs": [
    {
     "name": "stdout",
     "output_type": "stream",
     "text": [
      "[DeviceArray([[6.07538894e-02, 5.56342566e-05, 1.23467281e-01,\n",
      "              9.43613530e-04, 1.06921367e-01, 1.23491667e-01,\n",
      "              6.11095391e-02, 7.07033963e-04, 6.20803284e-03,\n",
      "              1.23512253e-01, 5.83139956e-02, 4.76627564e-03,\n",
      "              6.11095391e-02, 1.30546587e-02, 3.15705244e-03,\n",
      "              8.52393976e-04, 6.11095391e-02, 1.09731093e-01,\n",
      "              1.23517439e-01, 3.67440516e-03, 8.15305710e-02,\n",
      "              7.46107381e-03, 2.83024856e-03, 1.15493402e-01,\n",
      "              8.73592310e-03, 1.23521894e-01, 6.59492565e-04,\n",
      "              6.10869611e-04, 1.12382151e-01, 7.81098555e-04,\n",
      "              4.59937692e-05, 4.23582308e-02, 8.27820525e-02,\n",
      "              2.19973561e-04, 4.14266018e-04, 5.55202714e-04,\n",
      "              2.80302460e-03]], dtype=float32), DeviceArray([0.1236117], dtype=float32)]\n"
     ]
    }
   ],
   "source": [
    "####Numeric using JAX\n",
    "grad_num=loss_grad([jnp.array(w_comp),jnp.array(b_comp)],jnp.array(x_comp),jnp.array(y_comp))\n",
    "print(grad_num)"
   ]
  },
  {
   "cell_type": "markdown",
   "metadata": {
    "id": "oLlxgI2Ss-bg",
    "tags": []
   },
   "source": [
    "#### 2.3.2 Algorithm to find the minimal cost : Gradient Descent"
   ]
  },
  {
   "cell_type": "markdown",
   "metadata": {
    "id": "oLlxgI2Ss-bg",
    "tags": []
   },
   "source": [
    "<img src=\"Gradient_Descent.png\" width=50%>"
   ]
  },
  {
   "cell_type": "markdown",
   "metadata": {
    "id": "oLlxgI2Ss-bg",
    "tags": []
   },
   "source": [
    "##### 2.3.2.1 Batch Gradient Descent"
   ]
  },
  {
   "cell_type": "markdown",
   "metadata": {},
   "source": [
    "In batch gradient descent, parameters are updated using the full training set at every step\n",
    "\n",
    "Gradient descent algorithm:\n",
    "1. Initialize $\\omega$ components and $b$ with random values\n",
    "2. Iterate until convergence to minimum cost (or other stopping criterion):\n",
    "    1. For all $j \\in [1,n]: \\omega_j := w_j - \\eta \\frac{\\partial}{\\partial \\omega_j} J(\\omega,b)$\n",
    "    2. $b := b -\\eta \\frac{\\partial}{\\partial b} J(\\omega,b)$\n",
    "where $\\eta$ is call the learning rate. It determines the size of the downhill step\n",
    "\n",
    "As $\\eta$ is at the discretion of the modeler, it is a hyperparameter of the model:\n",
    "- If it is too small, convergence will be slow and potentiall will not be reached;\n",
    "- If it is too high, the parameter values may bounce around their 'true' value and potentially the algorithm may diverge.\n",
    "\n",
    "<img src=\"Batch_Gradient_Descent.png\" width=70%>\n",
    "\n",
    "The number of iterations is another parameter that is at the discretion of the modeler\n",
    "- If the number of iterations is too low, the model will not have enough steps to reach the minimul cost;\n",
    "- If it is too high, there will ne unneccessary steps when the gradient value is near 0."
   ]
  },
  {
   "cell_type": "markdown",
   "metadata": {
    "id": "oLlxgI2Ss-bg",
    "tags": []
   },
   "source": [
    "##### 2.3.2.2 Stochastic Gradient Descent (SGD)"
   ]
  },
  {
   "cell_type": "markdown",
   "metadata": {
    "id": "yNv1WMins-bl",
    "tags": []
   },
   "source": [
    "SGD aims at overcoming batch gradient descent drawbacks.\n",
    "\n",
    "Instead of updating parameters using the whole training set, SGD performs the update using a single randomly picked instance (hence its stochastic feature).\n",
    "\n",
    "Pros:\n",
    "The algorithm is extremely fast as very little data is used at every step\n",
    "- It is therefore possible to train the model on very large datasets;\n",
    "- Since the instances are randomly selected, SGD avoids the risk of being stuck on a local optimum and there is a better chance to find a global minimum.\n",
    "\n",
    "Cons:\n",
    "- Due to its random feature, the algorithm cannot settle at the minimum although it can get close to it;\n",
    "- This issue can be avoided by adjusting the learning rate (learning schedule): large in the first steps (to avoid local optima) and smaller later on to settle at the global minimum.\n",
    "\n",
    "<img src=\"Stochastic_Gradient_Descent.png\" width=60%>\n",
    "\n",
    "**SGD algorithm:**\n",
    "1. Initialize 𝑤 components and 𝑏 with random values\n",
    "2. Iterate over a certain number of epochs:\n",
    "    1. Randomly shuffle the dataset\n",
    "    2. For all $i \\in [1, m]$\n",
    "        1. For all $j \\in [1, n]: \\omega_j := \\omega_j - \\eta \\frac{\\partial}{\\partial \\omega_j} J^{(i)} (\\omega,b)$\n",
    "        2. $b := b - \\eta \\frac{\\partial}{\\partial b} J^{(i)} (\\omega,b)$\n",
    "        \n",
    "The term epoch refers to one cycle through the full training set, i.e. after one epoch all instances in the set have been used to update the parameters\n",
    "\n",
    "The number of epochs is another hyperparameter of the model."
   ]
  },
  {
   "cell_type": "code",
   "execution_count": 44,
   "metadata": {
    "id": "773sjwqWs-bl"
   },
   "outputs": [
    {
     "name": "stdout",
     "output_type": "stream",
     "text": [
      "loss epoch 0 : [0.6947354]\n",
      "loss epoch 10 : [0.6913584]\n",
      "loss epoch 20 : [0.68982568]\n",
      "loss epoch 30 : [0.72791149]\n",
      "loss epoch 40 : [0.70077783]\n",
      "loss epoch 50 : [0.68721113]\n",
      "loss epoch 60 : [0.68921409]\n",
      "loss epoch 70 : [0.68547134]\n",
      "loss epoch 80 : [0.68327611]\n",
      "loss epoch 90 : [0.68854094]\n",
      "loss epoch 99 : [0.68636452]\n",
      "\n",
      "finished\n",
      "\n"
     ]
    }
   ],
   "source": [
    "eta = 0.01\n",
    "loss_list=[]\n",
    "np.random.seed(42)\n",
    "# random initialization of w and b\n",
    "w = np.random.uniform(low=-1, high=1, size=Xtrain_norm.shape[1]) \n",
    "b = np.random.uniform(low=-1, high=1, size=1)\n",
    "\n",
    "for epoch in range(100):\n",
    "    # Shuffle randomly Xtrain_norm\n",
    "    Xtrain_rand = Xtrain_norm.sample(frac=1)\n",
    "    # Reorder Ytrain in the same order as Xtrain_rand\n",
    "    Ytrain_rand = Ytrain.reindex(Xtrain_rand.index)\n",
    "    for i in range(Xtrain_rand.shape[0]):\n",
    "        x = Xtrain_rand.iloc[i,:]\n",
    "        y = Ytrain_rand.iloc[i]\n",
    "        grad_w = sgd_gradw(x, y, w, b)\n",
    "        grad_b = sgd_gradb(x, y, w, b)\n",
    "        w -=eta * grad_w\n",
    "        b -=eta * grad_b\n",
    "    loss = 0\n",
    "    for i in range(Xtrain_rand.shape[0]):\n",
    "        x = Xtrain_rand.iloc[i,:]\n",
    "        y = Ytrain_rand.iloc[i]\n",
    "        loss += cost(x, y, w, b)\n",
    "    loss = loss / Xtrain_rand.shape[0]\n",
    "    loss_list.append(loss)\n",
    "    if epoch % 10 == 0:\n",
    "        print(\"loss epoch\", epoch, \":\", loss)\n",
    "print(\"loss epoch\", epoch, \":\", loss)\n",
    "print(\"\\nfinished\\n\")"
   ]
  },
  {
   "cell_type": "markdown",
   "metadata": {
    "id": "oXUmDppps-bl"
   },
   "source": [
    "Evolution of loss (cost) through epochs"
   ]
  },
  {
   "cell_type": "code",
   "execution_count": 45,
   "metadata": {
    "id": "hEWPvWDes-bl",
    "scrolled": true
   },
   "outputs": [
    {
     "data": {
      "text/plain": [
       "[<matplotlib.lines.Line2D at 0x1334c2f80>]"
      ]
     },
     "execution_count": 45,
     "metadata": {},
     "output_type": "execute_result"
    },
    {
     "data": {
      "image/png": "[encoded data removed]",
      "text/plain": [
       "<Figure size 640x480 with 1 Axes>"
      ]
     },
     "metadata": {},
     "output_type": "display_data"
    }
   ],
   "source": [
    "epoch = np.arange(len(loss_list))\n",
    "plt.plot(epoch, loss_list)"
   ]
  },
  {
   "cell_type": "markdown",
   "metadata": {},
   "source": [
    "**Accuracy**\n",
    "\n",
    "Accuracy (on the train set) corresponds to the ratio of correct predictions divided by the number of instances."
   ]
  },
  {
   "cell_type": "markdown",
   "metadata": {
    "id": "dVcJ4Ufzs-bl"
   },
   "source": [
    "**Task 10**: Code the computation of the accuracy on the train set."
   ]
  },
  {
   "cell_type": "code",
   "execution_count": 46,
   "metadata": {
    "id": "wldnZkuRs-bl"
   },
   "outputs": [
    {
     "name": "stdout",
     "output_type": "stream",
     "text": [
      "accuracy:52.36%\n"
     ]
    }
   ],
   "source": [
    "count_ok = 0\n",
    "for i in range(Xtrain_norm.shape[0]):\n",
    "        x = Xtrain_norm.iloc[i,:]\n",
    "        y = Ytrain.iloc[i]\n",
    "        if prediction(x, w, b) == y:\n",
    "            count_ok += 1\n",
    "print(\"accuracy:{:.2f}%\".format(100 * count_ok/Xtrain_norm.shape[0]))"
   ]
  },
  {
   "cell_type": "markdown",
   "metadata": {
    "id": "jgJta610s-bm"
   },
   "source": [
    "Weights ($\\omega$)"
   ]
  },
  {
   "cell_type": "code",
   "execution_count": 47,
   "metadata": {
    "id": "5kqwKDrXs-bm"
   },
   "outputs": [
    {
     "data": {
      "text/plain": [
       "<AxesSubplot:>"
      ]
     },
     "execution_count": 47,
     "metadata": {},
     "output_type": "execute_result"
    },
    {
     "data": {
      "image/png": "[encoded data removed]",
      "text/plain": [
       "<Figure size 1600x400 with 1 Axes>"
      ]
     },
     "metadata": {},
     "output_type": "display_data"
    }
   ],
   "source": [
    "plt.figure(figsize=(16,4))\n",
    "w.plot.bar()"
   ]
  },
  {
   "cell_type": "markdown",
   "metadata": {
    "id": "oLlxgI2Ss-bg",
    "tags": []
   },
   "source": [
    "##### 2.3.2.3 Mini-batch gradient descent"
   ]
  },
  {
   "cell_type": "markdown",
   "metadata": {
    "id": "bjQnoBPds-bm"
   },
   "source": [
    "A limitation of the SGD is its relative slownes. This is due to the fact that parameters are updated every instance.\n",
    "\n",
    "Mini-batch gradient overcomes this issue by computing the gradients using small random sets of instances called mini-batches.\n",
    "\n",
    "Mini-batch is faster than SGD because it allows to take advantage of optimized matrix operations, all the more so as the computations are performed using GPUs\n",
    "\n",
    "Another advantage of mini-batch is that the way the algorithm progressess in parameter space is less erratic which allows to get closer to a minimum than SGD.\n",
    "\n",
    "However, the algorithm is more prone to get stuck to a local minimum.\n",
    "\n",
    "The algorithm is almost the same as with SGD, the exception being that gradient computations are performed on a set of instances instead of a single one.\n",
    "\n",
    "**Mini-batch algorithm:**\n",
    "1. Initialize 𝑤 components and 𝑏 with random values\n",
    "2. Iterate over a certain number of epochs:\n",
    "    1. Randomly shuffle the dataset\n",
    "    2. For all $B \\in [1, l]$\n",
    "        1. $\\omega := \\omega - \\eta \\frac{\\partial}{\\partial \\omega} J^{B} (\\omega,b)$\n",
    "        2. $b := b - \\eta \\frac{\\partial}{\\partial b} J^{B} (\\omega,b)$\n",
    "        \n",
    "The size of the mini-batch also is a hyperparameter of the model.\n",
    "\n",
    "Computing of gradient with respect to $\\omega$:\n",
    "- Remember that $$ \\frac{\\partial J(\\omega,b)}{\\partial \\omega} = \\frac{1}{m} \\sum^{m}_{i=1} x^{(i)} \\left[ \\sigma \\left(\\omega^T x^{(i)} + b \\right)- y^{(i)} \\right] $$\n",
    "$$ \\frac{\\partial J(\\omega,b)}{\\partial b} = \\frac{1}{m} \\sum^{m}_{i=1} \\sigma \\left(\\omega^T x^{(i)} + b \\right) - y^{(i)} $$\n",
    "- Let introduce the following notations:\n",
    "$$\n",
    "    X = \\left[\n",
    "    \\begin{array}{ccc}\n",
    "        x^{(i)}_1 & \\cdots & x^{(i)}_{37} \\\\\n",
    "        \\vdots & \\ddots& \\vdots \\\\\n",
    "        x^{(i+k-1)}_1 & \\cdots & x^{(i)}_{37}\n",
    "    \\end{array}\n",
    "    \\right] \\mbox{ and } Y = \\left[\n",
    "    \\begin{array}{c}\n",
    "        y^{(i)}_1 \\\\\n",
    "        \\vdots \\\\\n",
    "        y^{(i+k-1)}_1\n",
    "    \\end{array}\n",
    "    \\right]\n",
    "$$\n",
    "- With the above notations, the expression of the partial derivatives are given by:\n",
    "\\begin{eqnarray*}\n",
    "    \\frac{\\partial J(\\omega,b)}{\\partial \\omega} & = & \\frac{1}{m} \\left[ \\left(\\sigma (X \\omega + b) - Y \\right)^T X \\right] \\\\\n",
    "    \\frac{\\partial J(\\omega,b)}{\\partial b} & = & \\frac{1}{m} \\left[ \\sigma (X \\omega + b) - Y \\right]\n",
    "\\end{eqnarray*}"
   ]
  },
  {
   "cell_type": "code",
   "execution_count": 48,
   "metadata": {
    "id": "6llbkIuxs-bm"
   },
   "outputs": [],
   "source": [
    "def sgdb_gradw(X, Y, w, b):\n",
    "    m = X.shape[0]\n",
    "    return np.dot((sigmo(np.dot(X,w)+b)-Y).T,X)/m\n",
    "def sgdb_gradb(X, Y, w, b):\n",
    "    return np.mean(sigmo(np.dot(X,w)+b)-Y)\n",
    "# Matrix operations to get the cost directly, where X is the whole set of features on the training set and Y is the whole set of labels\n",
    "def costb(X, Y, w, b):\n",
    "    return np.dot(Y, np.log(sigmo(np.dot(X,w)+b)))+np.dot((1-Y), np.log(1-sigmo(np.dot(X,w)+b)))"
   ]
  },
  {
   "cell_type": "code",
   "execution_count": 49,
   "metadata": {
    "id": "W82rf3T1s-bm"
   },
   "outputs": [
    {
     "name": "stdout",
     "output_type": "stream",
     "text": [
      "loss epoch 0 : 0.6991682336104084\n",
      "loss epoch 10 : 0.6931171296813377\n",
      "loss epoch 20 : 0.6927286409522013\n",
      "loss epoch 30 : 0.6934948958852782\n",
      "loss epoch 40 : 0.6930409741803967\n",
      "loss epoch 50 : 0.6912529314675847\n",
      "loss epoch 60 : 0.6916131807053439\n",
      "loss epoch 70 : 0.6901205733005545\n",
      "loss epoch 80 : 0.6899542865744632\n",
      "loss epoch 90 : 0.6898484537177701\n",
      "loss epoch 99 : 0.690028003367336\n",
      "\n",
      "finished\n",
      "\n"
     ]
    }
   ],
   "source": [
    "eta = 0.01\n",
    "loss_list=[]\n",
    "np.random.seed(42)\n",
    "w2 = np.random.uniform(low=-1, high=1, size=Xtrain_norm.shape[1])\n",
    "b2 = np.random.uniform(low=-1, high=1, size=1)\n",
    "batch_size = 5\n",
    "n_iter = Xtrain_norm.shape[0]//batch_size + 1\n",
    "   \n",
    "for epoch in range(100):\n",
    "    Xtrain_rand = Xtrain_norm.sample(frac=1)                \n",
    "    Ytrain_rand = Ytrain.reindex(Xtrain_rand.index)\n",
    "    for i in range(n_iter):\n",
    "        # you don't have to check whether the last batch is fine\n",
    "        # since you'll automatically pick the remaining elements in NumPy array\n",
    "        \n",
    "        X = Xtrain_rand[i*batch_size:(i+1)*batch_size]                          \n",
    "        Y = Ytrain_rand[i*batch_size:(i+1)*batch_size]\n",
    "        \n",
    "        grad_w2 = sgdb_gradw(X, Y, w2, b2)\n",
    "        grad_b2 = sgdb_gradb(X, Y, w2, b2)\n",
    "        \n",
    "        w2 -= eta*grad_w2\n",
    "        b2 -= eta*grad_b2\n",
    "        \n",
    "    loss = -costb(Xtrain_rand, Ytrain_rand, w2, b2) / Xtrain_rand.shape[0]\n",
    "    loss_list.append(loss)\n",
    "    if epoch % 10 == 0:\n",
    "        print(\"loss epoch\", epoch, \":\", loss)\n",
    "print(\"loss epoch\", epoch, \":\", loss)\n",
    "print(\"\\nfinished\\n\")"
   ]
  },
  {
   "cell_type": "code",
   "execution_count": 50,
   "metadata": {
    "id": "4Z07hC-hs-bn"
   },
   "outputs": [
    {
     "data": {
      "text/plain": [
       "[<matplotlib.lines.Line2D at 0x13364ab30>]"
      ]
     },
     "execution_count": 50,
     "metadata": {},
     "output_type": "execute_result"
    },
    {
     "data": {
      "image/png": "[encoded data removed]",
      "text/plain": [
       "<Figure size 640x480 with 1 Axes>"
      ]
     },
     "metadata": {},
     "output_type": "display_data"
    }
   ],
   "source": [
    "epoch = np.arange(len(loss_list))\n",
    "plt.plot(epoch, loss_list)"
   ]
  },
  {
   "cell_type": "code",
   "execution_count": 51,
   "metadata": {
    "id": "5nUB939xs-bn"
   },
   "outputs": [],
   "source": [
    "# vectorized version of prediction accuracy\n",
    "def accuracy(X, Y, w, b):\n",
    "    pred = (sigmo(np.dot(X, w)+b)>=0.5)\n",
    "    check = (pred==Y)\n",
    "    return check.sum()/len(pred)"
   ]
  },
  {
   "cell_type": "code",
   "execution_count": 52,
   "metadata": {
    "id": "rIx-_r1us-bo"
   },
   "outputs": [
    {
     "name": "stdout",
     "output_type": "stream",
     "text": [
      "accuracy: 52.70%\n"
     ]
    }
   ],
   "source": [
    "print(\"accuracy: {:.2f}%\".format(100 * accuracy(Xtrain_norm, Ytrain, w2, b2)))"
   ]
  },
  {
   "cell_type": "markdown",
   "metadata": {
    "id": "lPZgjR22s-bo",
    "tags": []
   },
   "source": [
    "## 3. How good is our model?"
   ]
  },
  {
   "cell_type": "markdown",
   "metadata": {
    "id": "6AGQk2W2s-bo",
    "tags": []
   },
   "source": [
    "### 3.1 SGD"
   ]
  },
  {
   "cell_type": "markdown",
   "metadata": {
    "id": "hTa74ola8OX7"
   },
   "source": [
    "**Task 11 -1**: Compute accuracy on the test with SGD parameter estimates\n",
    "\n"
   ]
  },
  {
   "cell_type": "code",
   "execution_count": 53,
   "metadata": {
    "id": "KRisxG9Ls-bo"
   },
   "outputs": [
    {
     "name": "stdout",
     "output_type": "stream",
     "text": [
      "accuracy:93.24%\n"
     ]
    }
   ],
   "source": [
    "# insert your code here\n",
    "print(\"accuracy:{:.2f}%\".format(100 * accuracy(Xtest_norm, Ytest, w, b)))"
   ]
  },
  {
   "cell_type": "markdown",
   "metadata": {
    "id": "EFLnH8aDs-bo",
    "tags": []
   },
   "source": [
    "### 3.2 Mini-batch"
   ]
  },
  {
   "cell_type": "markdown",
   "metadata": {
    "id": "CkV-WMF18cVJ"
   },
   "source": [
    "**Task 11-2**: Compute accuracy on the test with Mini-batch parameter estimates\n"
   ]
  },
  {
   "cell_type": "code",
   "execution_count": 54,
   "metadata": {
    "id": "WRZPyx0vs-bo"
   },
   "outputs": [
    {
     "name": "stdout",
     "output_type": "stream",
     "text": [
      "accuracy:93.38%\n"
     ]
    }
   ],
   "source": [
    "# insert your code here\n",
    "print(\"accuracy:{:.2f}%\".format(100 *accuracy(Xtest_norm, Ytest, w2, b2)))"
   ]
  },
  {
   "cell_type": "markdown",
   "metadata": {
    "id": "wvvteT6rs-bo",
    "tags": []
   },
   "source": [
    "## 4. Save train and test non-normalized datasets"
   ]
  },
  {
   "cell_type": "code",
   "execution_count": 55,
   "metadata": {
    "id": "aDNF_ic4s-bp"
   },
   "outputs": [
    {
     "ename": "NameError",
     "evalue": "name 'path' is not defined",
     "output_type": "error",
     "traceback": [
      "\u001b[0;31m---------------------------------------------------------------------------\u001b[0m",
      "\u001b[0;31mNameError\u001b[0m                                 Traceback (most recent call last)",
      "Cell \u001b[0;32mIn [55], line 3\u001b[0m\n\u001b[1;32m      1\u001b[0m trainset \u001b[38;5;241m=\u001b[39m pd\u001b[38;5;241m.\u001b[39mconcat([Xtrain, Ytrain], axis \u001b[38;5;241m=\u001b[39m \u001b[38;5;241m1\u001b[39m)\n\u001b[1;32m      2\u001b[0m testset \u001b[38;5;241m=\u001b[39m pd\u001b[38;5;241m.\u001b[39mconcat([Xtest, Ytest], axis \u001b[38;5;241m=\u001b[39m \u001b[38;5;241m1\u001b[39m)\n\u001b[0;32m----> 3\u001b[0m trainset\u001b[38;5;241m.\u001b[39mto_csv(\u001b[43mpath\u001b[49m \u001b[38;5;241m+\u001b[39m \u001b[38;5;124m\"\u001b[39m\u001b[38;5;124mtrainset_2.csv\u001b[39m\u001b[38;5;124m\"\u001b[39m, header\u001b[38;5;241m=\u001b[39m\u001b[38;5;28;01mTrue\u001b[39;00m, index\u001b[38;5;241m=\u001b[39m\u001b[38;5;28;01mFalse\u001b[39;00m)\n\u001b[1;32m      4\u001b[0m testset\u001b[38;5;241m.\u001b[39mto_csv(path \u001b[38;5;241m+\u001b[39m \u001b[38;5;124m\"\u001b[39m\u001b[38;5;124mtestset_2.csv\u001b[39m\u001b[38;5;124m\"\u001b[39m, header\u001b[38;5;241m=\u001b[39m\u001b[38;5;28;01mTrue\u001b[39;00m, index\u001b[38;5;241m=\u001b[39m\u001b[38;5;28;01mFalse\u001b[39;00m)\n",
      "\u001b[0;31mNameError\u001b[0m: name 'path' is not defined"
     ]
    }
   ],
   "source": [
    "trainset = pd.concat([Xtrain, Ytrain], axis = 1)\n",
    "testset = pd.concat([Xtest, Ytest], axis = 1)\n",
    "trainset.to_csv(path + \"trainset_2.csv\", header=True, index=False)\n",
    "testset.to_csv(path + \"testset_2.csv\", header=True, index=False)"
   ]
  }
 ],
 "metadata": {
  "colab": {
   "collapsed_sections": [],
   "name": "Bankruptcy - Part 1.ipynb",
   "provenance": [],
   "toc_visible": true
  },
  "kernelspec": {
   "display_name": "Python 3 (ipykernel)",
   "language": "python",
   "name": "python3"
  },
  "language_info": {
   "codemirror_mode": {
    "name": "ipython",
    "version": 3
   },
   "file_extension": ".py",
   "mimetype": "text/x-python",
   "name": "python",
   "nbconvert_exporter": "python",
   "pygments_lexer": "ipython3",
   "version": "3.10.7"
  }
 },
 "nbformat": 4,
 "nbformat_minor": 4
}
