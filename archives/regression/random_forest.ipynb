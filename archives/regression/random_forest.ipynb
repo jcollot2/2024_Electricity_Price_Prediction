{
 "cells": [
  {
   "cell_type": "code",
   "execution_count": 9,
   "metadata": {},
   "outputs": [],
   "source": [
    "import numpy as np\n",
    "import pandas as pd\n",
    "import sklearn as sk\n",
    "from sklearn.decomposition import PCA\n",
    "from sklearn.preprocessing import StandardScaler, MinMaxScaler, RobustScaler\n",
    "import matplotlib.pyplot as plt\n",
    "import seaborn as sns\n",
    "from sklearn.ensemble import RandomForestRegressor\n",
    "from sklearn.metrics import accuracy_score, classification_report, confusion_matrix, mean_squared_error, r2_score\n"
   ]
  },
  {
   "cell_type": "markdown",
   "metadata": {},
   "source": [
    "## Random Forest"
   ]
  },
  {
   "cell_type": "markdown",
   "metadata": {},
   "source": [
    "Collecte et traitement des données"
   ]
  },
  {
   "cell_type": "code",
   "execution_count": 54,
   "metadata": {},
   "outputs": [],
   "source": [
    "# Collecte des données\n",
    "X = pd.read_csv(r\"X_train.csv\",index_col=0)\n",
    "Y = pd.read_csv(r\"Y_train.csv\",index_col=0)\n",
    "\n",
    "# Traitement\n",
    "## Missing Data\n",
    "data =  pd.merge(X, Y, left_index=True, right_index=True)\n",
    "data = data.dropna(axis=1, thresh=len(data)*0.25)\n",
    "data = data.dropna()\n",
    "#data = data.ffill()\n",
    "X = data[[col for col in X.columns if col in data.columns]]\n",
    "Y = data[Y.columns]\n",
    "## Format\n",
    "Y=Y.spot_id_delta.to_numpy()\n",
    "X = pd.get_dummies(X)\n",
    "## Split\n",
    "X_train, X_test, y_train, y_test = sk.model_selection.train_test_split(X, Y, test_size=0.2, random_state=42)"
   ]
  },
  {
   "cell_type": "markdown",
   "metadata": {},
   "source": [
    "Creation et Validation du modèle"
   ]
  },
  {
   "cell_type": "code",
   "execution_count": 55,
   "metadata": {},
   "outputs": [
    {
     "name": "stdout",
     "output_type": "stream",
     "text": [
      "Scaler: StandardScaler\n",
      "Mean Squared Error: 322.92423921313986\n",
      "R^2 Score: 0.6138062854872874\n",
      "Cross-Validation Scores (neg MSE): [-2419.42128164  -291.31319477  -269.9040082   -354.7541268\n",
      "  -436.65236134  -311.2060134   -433.18953457  -336.47817708\n",
      "  -614.77029092 -3427.72849678]\n",
      "Mean Cross-Validation Score (neg MSE): -889.5417485505026\n",
      "\n",
      "Scaler: MinMaxScaler\n",
      "Mean Squared Error: 322.83139408146707\n",
      "R^2 Score: 0.6139173214577135\n",
      "Cross-Validation Scores (neg MSE): [-2419.562608    -291.62883076  -270.04750281  -354.67475746\n",
      "  -436.62250244  -311.28960137  -433.25686998  -336.3569342\n",
      "  -614.73087811 -3427.96693788]\n",
      "Mean Cross-Validation Score (neg MSE): -889.6137423017647\n",
      "\n",
      "Scaler: RobustScaler\n",
      "Mean Squared Error: 322.9058059042255\n",
      "R^2 Score: 0.6138283303732883\n",
      "Cross-Validation Scores (neg MSE): [-2419.50063777  -291.21519406  -270.0424435   -354.82418352\n",
      "  -436.6973462   -311.24457436  -433.43981072  -336.54493901\n",
      "  -614.89666856 -3427.4754746 ]\n",
      "Mean Cross-Validation Score (neg MSE): -889.5881272308534\n",
      "\n"
     ]
    }
   ],
   "source": [
    "scalers = [StandardScaler(), MinMaxScaler(), RobustScaler()]\n",
    "\n",
    "for scaler in scalers:\n",
    "    # Appliquer le scaler\n",
    "    X_train_scaled = scaler.fit_transform(X_train)\n",
    "    X_test_scaled = scaler.transform(X_test)\n",
    "    \n",
    "    # Initialiser le modèle\n",
    "    model = RandomForestRegressor(random_state=42)\n",
    "    \n",
    "    # Entraîner le modèle de base\n",
    "    model.fit(X_train_scaled, y_train)\n",
    "    \n",
    "    # Évaluation du modèle\n",
    "    y_pred = model.predict(X_test_scaled)\n",
    "    mse = mean_squared_error(y_test, y_pred)\n",
    "    r2 = r2_score(y_test, y_pred)\n",
    "    \n",
    "    print(f\"Scaler: {scaler.__class__.__name__}\")\n",
    "    print(f\"Mean Squared Error: {mse}\")\n",
    "    print(f\"R^2 Score: {r2}\")\n",
    "    \n",
    "    # Validation croisée\n",
    "    cv_scores = sk.model_selection.cross_val_score(model, X_train_scaled, y_train, cv=10, scoring='neg_mean_squared_error')\n",
    "    print(f\"Cross-Validation Scores (neg MSE): {cv_scores}\")\n",
    "    print(f\"Mean Cross-Validation Score (neg MSE): {cv_scores.mean()}\\n\")\n"
   ]
  },
  {
   "cell_type": "markdown",
   "metadata": {},
   "source": [
    "Optimisation des paramètres"
   ]
  },
  {
   "cell_type": "code",
   "execution_count": 12,
   "metadata": {},
   "outputs": [
    {
     "name": "stdout",
     "output_type": "stream",
     "text": [
      "Fitting 3 folds for each of 108 candidates, totalling 324 fits\n"
     ]
    }
   ],
   "source": [
    "param_grid = {\n",
    "    'n_estimators': [100, 200, 300],\n",
    "    'max_depth': [None, 10, 20, 30],\n",
    "    'min_samples_split': [2, 5, 10],\n",
    "    'min_samples_leaf': [1, 2, 4]\n",
    "}\n",
    "\n",
    "grid_search = sk.model_selection.GridSearchCV(estimator=model, param_grid=param_grid, cv=3, n_jobs=-1, verbose=2, scoring='neg_mean_squared_error')\n",
    "grid_search.fit(X_train_scaled, y_train)\n",
    "\n",
    "best_model = grid_search.best_estimator_"
   ]
  },
  {
   "cell_type": "code",
   "execution_count": 56,
   "metadata": {},
   "outputs": [
    {
     "name": "stdout",
     "output_type": "stream",
     "text": [
      "Best Mean Squared Error: 333.8829481740046\n",
      "Best R^2 Score: 0.6007004730212658\n",
      "Best Cross-Validation Scores (neg MSE): [-1079.36464117 -2868.8780258  -2224.27875941  -919.32166201\n",
      "  -393.41790543]\n",
      "Mean Best Cross-Validation Score (neg MSE): -1497.0521987641603\n"
     ]
    }
   ],
   "source": [
    "y_pred_best = best_model.predict(X_test_scaled)\n",
    "best_mse = mean_squared_error(y_test, y_pred_best)\n",
    "best_r2 = r2_score(y_test, y_pred_best)\n",
    "\n",
    "print(f\"Best Mean Squared Error: {best_mse}\")\n",
    "print(f\"Best R^2 Score: {best_r2}\")\n",
    "\n",
    "scaler = MinMaxScaler()\n",
    "X = scaler.fit_transform(X)\n",
    "best_cv_scores = sk.model_selection.cross_val_score(best_model, X, Y, cv=5, scoring='neg_mean_squared_error')\n",
    "print(f\"Best Cross-Validation Scores (neg MSE): {best_cv_scores}\")\n",
    "print(f\"Mean Best Cross-Validation Score (neg MSE): {best_cv_scores.mean()}\")"
   ]
  },
  {
   "cell_type": "raw",
   "metadata": {
    "vscode": {
     "languageId": "raw"
    }
   },
   "source": [
    "# Définir l'espace d'hyperparamètres pour RandomizedSearchCV\n",
    "param_distributions = {\n",
    "    'n_estimators': np.random.randint(100, 500,5),\n",
    "    'max_depth': [None] + list(np.arange(5, 30, 5)),\n",
    "    'min_samples_split': np.random.randint(2, 20,3),\n",
    "    'min_samples_leaf': np.random.randint(1, 10,3),\n",
    "    'max_features': ['auto', 'sqrt', 'log2']\n",
    "}\n",
    "\n",
    "# Utiliser RandomizedSearchCV pour une recherche plus large\n",
    "random_search = sk.model_selection.RandomizedSearchCV(\n",
    "    estimator=model,\n",
    "    param_distributions=param_distributions,\n",
    "    n_iter=20,\n",
    "    cv=10,  # 10-fold cross-validation\n",
    "    n_jobs=-1,\n",
    "    verbose=2,\n",
    "    scoring='neg_mean_squared_error',\n",
    "    random_state=42\n",
    ")\n",
    "\n",
    "random_search.fit(X_train, y_train)\n",
    "best_model = random_search.best_estimator_"
   ]
  },
  {
   "cell_type": "raw",
   "metadata": {
    "vscode": {
     "languageId": "raw"
    }
   },
   "source": [
    "# Réévaluation avec le meilleur modèle\n",
    "y_pred_best = best_model.predict(X_test)\n",
    "best_mse = mean_squared_error(y_test, y_pred_best)\n",
    "best_r2 = r2_score(y_test, y_pred_best)\n",
    "\n",
    "print(f\"Best Mean Squared Error: {best_mse}\")\n",
    "print(f\"Best R^2 Score: {best_r2}\")\n",
    "\n",
    "# Validation croisée avec le meilleur modèle\n",
    "best_cv_scores = sk.model_selection.cross_val_score(best_model, X, Y, cv=10, scoring='neg_mean_squared_error')\n",
    "print(f\"Best Cross-Validation Scores (neg MSE): {best_cv_scores}\")\n",
    "print(f\"Mean Best Cross-Validation Score (neg MSE): {best_cv_scores.mean()}\")"
   ]
  },
  {
   "cell_type": "markdown",
   "metadata": {},
   "source": [
    "Testing Historic : Random Forest\n",
    "* Test 1 : with scaling data (scaler standard) and random test_split <br>\n",
    "    * MSE: 431.5021103227531<br>\n",
    "    * R^2 : 0.5730513071769024<br>\n",
    "    * Cross-Validation Scores: [-1080.1947177  -2755.16386623 -3312.69752171  -891.69760984  -406.95658577]<br>\n",
    "    * Mean Cross-Validation Score: -1689.3420602516937<br>\n",
    "\n",
    "    * GridSearchCV<br>\n",
    "        * Best MSE: 443.8337272392575<br>\n",
    "        * Best R^2: 0.5608498194044355<br>\n",
    "        * Best Cross-Validation Scores (neg MSE): [-1019.10192921 -2746.71964383 -3328.72865908  -863.18619476  -391.44882472]<br>\n",
    "        * Mean Best Cross-Validation Score (neg MSE): -1669.83705032049<br>\n",
    "\n",
    "    * RandomizedSearchCV<br>\n",
    "        * Best MSE : 475.3314485861939<br>\n",
    "        * Best R^2 : 0.5296844771401255<br>\n",
    "        * Best Cross-Validation Scores (neg MSE): [ -815.55988677  -558.34524056 -4556.09133445  -717.02674416  -4689.81266826 -3422.67064047  -702.36233955 -1033.57637428  -283.52683123  -442.0453057 ]\n",
    "        * Mean Best Cross-Validation Score (neg MSE): -1722.1017365436826\n",
    "\n",
    "* Test 2 : without scaling and with random split<br>\n",
    "        Results are pretty similar so we are going to try different scaler.\n",
    "\n",
    "* Test 3 : with MinMaxScaler and random split <br>\n",
    "        Results are pretty similar so we are going to try different scaler.\n",
    "\n",
    "* Test 4 : with RobustScaler and random split <br>\n",
    "        Results are pretty similar so we are going to try diffrent split\n",
    "    \n",
    "* Test 4 : with RobustScaler and without random split <br>\n",
    "        Way Worse\n",
    "\n",
    "* Test 5 : delete na data for 60% columns null better <br>\n",
    "    * Mean Squared Error: 322.83139408146707 <br>\n",
    "    * *R^2 Score: 0.6139173214577135* <br>\n",
    "    * Cross-Validation Scores (neg MSE): [-2419.562608    -291.62883076  -270.04750281  -354.67475746  -436.62250244  -311.28960137  -433.25686998  -336.3569342  -614.73087811 -3427.96693788] <br>\n",
    "    * Mean Cross-Validation Score (neg MSE): -889.6137423017647<br>\n",
    "\n",
    "* Test 6 : PCA \n",
    "        Worse\n",
    "        "
   ]
  },
  {
   "cell_type": "markdown",
   "metadata": {},
   "source": [
    "Le modèle n'est visiblement pas vraiment adapté\n"
   ]
  }
 ],
 "metadata": {
  "kernelspec": {
   "display_name": "Python 3",
   "language": "python",
   "name": "python3"
  },
  "language_info": {
   "codemirror_mode": {
    "name": "ipython",
    "version": 3
   },
   "file_extension": ".py",
   "mimetype": "text/x-python",
   "name": "python",
   "nbconvert_exporter": "python",
   "pygments_lexer": "ipython3",
   "version": "3.9.7"
  }
 },
 "nbformat": 4,
 "nbformat_minor": 2
}
